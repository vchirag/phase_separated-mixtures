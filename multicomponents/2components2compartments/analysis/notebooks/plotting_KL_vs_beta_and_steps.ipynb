{
 "cells": [
  {
   "cell_type": "code",
   "execution_count": 2,
   "id": "43fbadea-eaff-4b38-a0ec-62ee881258fe",
   "metadata": {},
   "outputs": [],
   "source": [
    "import os\n",
    "import numpy as np\n",
    "# import pandas as pd\n",
    "import matplotlib.pyplot as plt\n",
    "\n",
    "from tqdm import tqdm\n",
    "\n",
    "from scipy.stats import entropy\n"
   ]
  },
  {
   "cell_type": "code",
   "execution_count": 4,
   "id": "fbb7c111-08aa-45cb-a1e3-7eb13f69c6ee",
   "metadata": {},
   "outputs": [],
   "source": [
    "def plotter_kl_vs_beta(kl, phi_g, chi, saveFlag):\n",
    "    plot_labels = [10000, 100000, 1000000]\n",
    "    colors = [\"C0\", \"C1\", \"C2\", \"C3\", \"C4\"]\n",
    "    markers = [\"o\", \"s\", \"d\", \"^\", \".\"]\n",
    "    betas = [1, 2, 3, 4, 5, 6, 7, 8, 9, 10]\n",
    "    \n",
    "    fig, ax = plt.subplots(figsize = (8, 6))\n",
    "    ctr = 1\n",
    "\n",
    "    for idx, _ in enumerate(plot_labels):\n",
    "        exponent = int(np.log10(plot_labels[idx]))\n",
    "        # Format label as \"10^exponent\" (LaTeX-style)\n",
    "        label = f\"nSteps=$\\\\mathbf{{10^{{{exponent}}}}}$\"  # Bold 10^exponent\n",
    "        ax.plot(betas, kl[idx], label = label, color = colors[idx], marker = markers[idx], linewidth = 3)\n",
    "        ctr += 1\n",
    "\n",
    "    # legend = ax.legend(loc='upper right', bbox_to_anchor=(1.3, 1), fontsize=10, frameon=True)\n",
    "    legend = ax.legend(loc='upper right', fontsize=12, frameon=True)\n",
    "    for text in legend.get_texts():\n",
    "        text.set_fontweight(\"bold\") \n",
    "    \n",
    "    ax.set_xlabel(r\"$\\mathbf{\\frac{1}{k_BT}}$\", fontsize=16, fontweight=\"bold\")\n",
    "    ax.set_ylabel(r\"$\\mathbf{\\langle {KL}\\rangle_{{reps}}}$\", fontsize=16, fontweight=\"bold\")\n",
    "\n",
    "    for label in ax.get_xticklabels() + ax.get_yticklabels():\n",
    "        label.set_fontweight(\"bold\")\n",
    "                            \n",
    "    ax.tick_params(axis='both', which='both', direction='in', width=2, length=6, labelsize=12)\n",
    "    ax.tick_params(axis='both', which='minor', direction='in', width=1.5, length=4, labelsize=10)\n",
    "    ax.set_xticks(BETAs)\n",
    "    ax.grid(True, which='major', linestyle='--', linewidth=1, alpha=0.6)\n",
    "    plt.yscale(\"log\")\n",
    "        \n",
    "    # title = r\"$\\phi_1^{\\text{global}}$ = \" + f\"{phi_g:.3f}\" + \"\\n\" + r\"$\\chi = $\" + f\"{chi:.3f}\"\n",
    "    \n",
    "    # fig.suptitle(title)\n",
    "    fig.tight_layout()\n",
    "    \n",
    "    if saveFlag:\n",
    "        output_filepath = f\"../../analysed_data/chi-{chi:.3f}/phi_g-{phi_g:.3f}\"\n",
    "        output_filename = f\"KL-vs-beta.png\"\n",
    "\n",
    "        if not os.path.exists(output_filepath):\n",
    "            os.makedirs(output_filepath)\n",
    "        \n",
    "        file = os.path.join(output_filepath, output_filename)     \n",
    "        \n",
    "        # plt.savefig(file,  dpi=400, bbox_inches='tight')\n",
    "        plt.savefig(file,  dpi=400)\n",
    "        plt.close()\n",
    "\n",
    "        print(f\"Saved @ {file}\")\n",
    "\n",
    "def plotter_kl_vs_steps(kl, phi_g, chi, saveFlag):\n",
    "    steps = [100, 1000, 10000, 100000, 1000000]\n",
    "    colors = [\"C0\", \"C1\", \"C2\", \"C3\", \"C4\", \"C5\", \"C6\", \"C8\", \"C9\", \"C10\"]\n",
    "    markers = [\"o\", \"s\", \"d\", \"^\", \".\"]\n",
    "    # plot_labels = [1, 2, 3, 4, 5, 6, 7, 8, 9, 10]\n",
    "    plot_labels = [1, 2, 4, 8, 10]\n",
    "    \n",
    "    fig, ax = plt.subplots(figsize = (8, 6))\n",
    "    ctr = 1\n",
    "\n",
    "    for idx, _ in enumerate(plot_labels):\n",
    "        exponent = int(np.log10(plot_labels[idx]))\n",
    "        # Format label as \"10^exponent\" (LaTeX-style)\n",
    "        label = f\"$\\\\mathbf{{\\\\frac{{1}}{{k_BT}}}}=\\\\mathbf{{{plot_labels[idx]}}}$\"\n",
    "        ax.plot(steps, kl[idx], label = label, color = colors[idx], marker= markers[idx], linewidth = 3, alpha = 0.5)\n",
    "        ctr += 1\n",
    "\n",
    "    # legend = ax.legend(loc='upper right', bbox_to_anchor=(1.3, 1), fontsize=10, frameon=True)\n",
    "    legend = ax.legend(loc='upper right', fontsize=12, frameon=True)\n",
    "    for text in legend.get_texts():\n",
    "        text.set_fontweight(\"bold\") \n",
    "    \n",
    "    ax.set_xlabel(\"nSteps\", fontsize=16, fontweight=\"bold\")\n",
    "    ax.set_ylabel(r\"$\\mathbf{\\langle {KL}\\rangle_{{reps}}}$\", fontsize=16, fontweight=\"bold\")\n",
    "\n",
    "    for label in ax.get_xticklabels() + ax.get_yticklabels():\n",
    "        label.set_fontweight(\"bold\")\n",
    "                            \n",
    "    ax.tick_params(axis='both', which='both', direction='in', width=2, length=6, labelsize=12)\n",
    "    ax.tick_params(axis='both', which='minor', direction='in', width=1.5, length=4, labelsize=10)\n",
    "    ax.set_xticks(BETAs)\n",
    "    ax.grid(True, which='major', linestyle='--', linewidth=1, alpha=0.6)\n",
    "    plt.xscale(\"log\")\n",
    "    # plt.yscale(\"log\")\n",
    "        \n",
    "    # title = r\"$\\phi_1^{\\text{global}}$ = \" + f\"{phi_g:.3f}\" + \"\\n\" + r\"$\\chi = $\" + f\"{chi:.3f}\"\n",
    "    \n",
    "    # fig.suptitle(title)\n",
    "    fig.tight_layout()\n",
    "    \n",
    "    if saveFlag:\n",
    "        output_filepath = f\"../../analysed_data/chi-{chi:.3f}/phi_g-{phi_g:.3f}\"\n",
    "        output_filename = f\"KL-vs-steps.png\"\n",
    "\n",
    "        if not os.path.exists(output_filepath):\n",
    "            os.makedirs(output_filepath)\n",
    "        \n",
    "        file = os.path.join(output_filepath, output_filename)     \n",
    "        \n",
    "        # plt.savefig(file,  dpi=400, bbox_inches='tight')\n",
    "        plt.savefig(file,  dpi=400)\n",
    "        plt.close()\n",
    "\n",
    "        print(f\"Saved @ {file}\")\n",
    "\n",
    "\n",
    "def plotter_kl_vs_steps_loglog(kl, phi_g, chi, saveFlag):\n",
    "    steps = [100, 1000, 10000, 100000, 1000000]\n",
    "    colors = [\"C0\", \"C1\", \"C2\", \"C3\", \"C4\", \"C5\", \"C6\", \"C8\", \"C9\", \"C10\"]\n",
    "    markers = [\"o\", \"s\", \"d\", \"^\", \".\"]\n",
    "    # plot_labels = [1, 2, 3, 4, 5, 6, 7, 8, 9, 10]\n",
    "    plot_labels = [1, 2, 4, 8, 10]\n",
    "    \n",
    "    fig, ax = plt.subplots(figsize = (8, 6))\n",
    "    ctr = 1\n",
    "\n",
    "    for idx, _ in enumerate(plot_labels):\n",
    "        exponent = int(np.log10(plot_labels[idx]))\n",
    "        label = f\"$\\\\mathbf{{\\\\frac{{1}}{{k_BT}}}}=\\\\mathbf{{{plot_labels[idx]}}}$\"\n",
    "        ax.plot(steps, kl[idx], label = label, color = colors[idx], marker= markers[idx], linewidth = 3, alpha = 0.5)\n",
    "        ctr += 1\n",
    "\n",
    "    # legend = ax.legend(loc='upper right', bbox_to_anchor=(1.3, 1), fontsize=10, frameon=True)\n",
    "    legend = ax.legend(loc='upper right', fontsize=12, frameon=True)\n",
    "    for text in legend.get_texts():\n",
    "        text.set_fontweight(\"bold\") \n",
    "    \n",
    "    ax.set_xlabel(\"nSteps\", fontsize=16, fontweight=\"bold\")\n",
    "    ax.set_ylabel(r\"$\\mathbf{\\langle {KL}\\rangle_{{reps}}}$\", fontsize=16, fontweight=\"bold\")\n",
    "\n",
    "    for label in ax.get_xticklabels() + ax.get_yticklabels():\n",
    "        label.set_fontweight(\"bold\")\n",
    "                            \n",
    "    ax.tick_params(axis='both', which='both', direction='in', width=2, length=6, labelsize=12)\n",
    "    ax.tick_params(axis='both', which='minor', direction='in', width=1.5, length=4, labelsize=10)\n",
    "    ax.set_xticks(BETAs)\n",
    "    ax.grid(True, which='major', linestyle='--', linewidth=1, alpha=0.6)\n",
    "    plt.xscale(\"log\")\n",
    "    plt.yscale(\"log\")\n",
    "        \n",
    "    # title = r\"$\\phi_1^{\\text{global}}$ = \" + f\"{phi_g:.3f}\" + \"\\n\" + r\"$\\chi = $\" + f\"{chi:.3f}\"\n",
    "    \n",
    "    # fig.suptitle(title)\n",
    "    fig.tight_layout()\n",
    "    \n",
    "    if saveFlag:\n",
    "        output_filepath = f\"../../analysed_data/chi-{chi:.3f}/phi_g-{phi_g:.3f}\"\n",
    "        output_filename = f\"KL-vs-steps_loglog.png\"\n",
    "\n",
    "        if not os.path.exists(output_filepath):\n",
    "            os.makedirs(output_filepath)\n",
    "        \n",
    "        file = os.path.join(output_filepath, output_filename)     \n",
    "        \n",
    "        # plt.savefig(file,  dpi=400, bbox_inches='tight')\n",
    "        plt.savefig(file,  dpi=400)\n",
    "        plt.close()\n",
    "\n",
    "        print(f\"Saved @ {file}\")\n",
    "\n",
    "def plotter_landscapes(df_merged, phi_g, chi, beta, nSteps, replica, saveFlag):\n",
    "    fig, ax = plt.subplots(figsize = (8, 6))\n",
    "    scatter = ax.scatter(df_merged[\"phi11\"], df_merged[\"eta1\"], c = df_merged[\"probability_Q\"], cmap = \"viridis\", s = 8)\n",
    "    \n",
    "    # ax.set_title(\"Brute Force\\n\\n\\n\\n\")\n",
    "    cbar = plt.colorbar(scatter, ax=ax, label=\"Probability\")\n",
    "    \n",
    "    # Bolden the label\n",
    "    cbar.set_label(\"Probability\", weight='bold', fontsize=14)\n",
    "    \n",
    "    # Bolden the tick numbers\n",
    "    cbar.ax.tick_params(\n",
    "        axis='y',          # Apply to y-axis (colorbar's axis)\n",
    "        direction='in',    # Ticks point inward\n",
    "        length=5,          # Tick length (adjust as needed)\n",
    "        width=1.5,         # Tick width (optional)\n",
    "        labelsize=10,      # Tick label size\n",
    "    )\n",
    "    for label in cbar.ax.get_yticklabels():\n",
    "        label.set_weight('bold')\n",
    "    \n",
    "    ax.set_xlabel(r\"$\\mathbf{\\phi_{11}}$\", fontsize = 16)\n",
    "    ax.set_ylabel(r\"$\\mathbf{\\eta_1}$\", fontsize = 16)\n",
    "    ax.tick_params(axis='both', which='both', direction='in', width=2, length=6, labelsize=12)\n",
    "    ax.tick_params(axis='both', which='minor', direction='in', width=1.5, length=4, labelsize=10)\n",
    "    for label in ax.get_xticklabels() + ax.get_yticklabels():\n",
    "        label.set_fontweight(\"bold\")\n",
    "    fig.tight_layout()\n",
    "\n",
    "    if saveFlag:\n",
    "        output_filepath = f\"../../analysed_data/chi-{chi:.3f}/phi_g-{phi_g:.3f}/steps-{nSteps}/beta-{beta}/\"\n",
    "        # output_filename = f\"landscape-replica{replica}.png\"\n",
    "        output_filename = f\"landscape-brute_force.png\"\n",
    "\n",
    "        if not os.path.exists(output_filepath):\n",
    "            os.makedirs(output_filepath)\n",
    "        \n",
    "        file = os.path.join(output_filepath, output_filename)     \n",
    "        \n",
    "        plt.savefig(file, dpi = 400)\n",
    "        plt.close()\n",
    "\n",
    "        # print(f\"Saved @ {file}\")\n",
    "\n",
    "    fig, ax = plt.subplots(figsize = (8, 6))\n",
    "    scatter = ax.scatter(df_merged[\"phi11\"], df_merged[\"eta1\"], c = df_merged[\"probability_P\"], cmap = \"viridis\", s = 8)\n",
    "        \n",
    "    # ax.scatter(df_merged[\"phi11\"], df_merged[\"eta1\"], c = df_merged[\"probability_P\"], cmap = \"viridis\", s = 8)\n",
    "    # title = \"MCMC\\n\\n\" + r\"$\\beta=$\" + f\"{beta:.3f}\" + \"\\nSteps = \" + f\"{nSteps}\" + \"\\nReplica \" + f\"{replica}\" \n",
    "    # ax[1].set_title(title)\n",
    "\n",
    "    cbar = plt.colorbar(scatter, ax=ax, label=\"Probability\")\n",
    "    \n",
    "    # Bolden the label\n",
    "    cbar.set_label(\"Probability\", weight='bold', fontsize=14)\n",
    "    \n",
    "    # Bolden the tick numbers\n",
    "    cbar.ax.tick_params(\n",
    "        axis='y',          # Apply to y-axis (colorbar's axis)\n",
    "        direction='in',    # Ticks point inward\n",
    "        length=5,          # Tick length (adjust as needed)\n",
    "        width=1.5,         # Tick width (optional)\n",
    "        labelsize=10,      # Tick label size\n",
    "    )\n",
    "    for label in cbar.ax.get_yticklabels():\n",
    "        label.set_weight('bold')\n",
    "        \n",
    "    ax.set_xlabel(r\"$\\mathbf{\\phi_{11}}$\", fontsize = 16)\n",
    "    ax.set_ylabel(r\"$\\mathbf{\\eta_1}$\", fontsize = 16)\n",
    "    ax.tick_params(axis='both', which='both', direction='in', width=2, length=6, labelsize=12)\n",
    "    ax.tick_params(axis='both', which='minor', direction='in', width=1.5, length=4, labelsize=10)\n",
    "    for label in ax.get_xticklabels() + ax.get_yticklabels():\n",
    "        label.set_fontweight(\"bold\")\n",
    "    fig.tight_layout()\n",
    "    \n",
    "    if saveFlag:\n",
    "        output_filepath = f\"../../analysed_data/chi-{chi:.3f}/phi_g-{phi_g:.3f}/steps-{nSteps}/beta-{beta}/\"\n",
    "        output_filename = f\"landscape-replica{replica}.png\"\n",
    "        # output_filename = f\"landscape-brute_force.png\"\n",
    "\n",
    "        if not os.path.exists(output_filepath):\n",
    "            os.makedirs(output_filepath)\n",
    "        \n",
    "        file = os.path.join(output_filepath, output_filename)     \n",
    "        \n",
    "        plt.savefig(file, dpi = 400)\n",
    "        plt.close()\n",
    "\n",
    "        # print(f\"Saved @ {file}\")\n",
    "   \n",
    "    # title = r\"$\\phi_1^{\\text{global}}$ = \" + f\"{phi_g:.3f}\" + \"\\n\" + r\"$\\chi = $\" + f\"{chi:.3f}\"\n",
    "        \n",
    "    # fig.suptitle(title)\n",
    "    \n",
    "    "
   ]
  },
  {
   "cell_type": "code",
   "execution_count": 6,
   "id": "cf93c683-ff44-4673-b199-00f5567b70ef",
   "metadata": {},
   "outputs": [
    {
     "name": "stderr",
     "output_type": "stream",
     "text": [
      "  0%|                                                    | 0/10 [00:00<?, ?it/s]"
     ]
    },
    {
     "name": "stdout",
     "output_type": "stream",
     "text": [
      "Saved @ ../../analysed_data/chi-1.000/phi_g-0.001/KL-vs-steps.png\n",
      "Saved @ ../../analysed_data/chi-1.000/phi_g-0.001/KL-vs-steps_loglog.png\n",
      "Saved @ ../../analysed_data/chi-1.222/phi_g-0.001/KL-vs-steps.png\n",
      "Saved @ ../../analysed_data/chi-1.222/phi_g-0.001/KL-vs-steps_loglog.png\n",
      "Saved @ ../../analysed_data/chi-1.444/phi_g-0.001/KL-vs-steps.png\n",
      "Saved @ ../../analysed_data/chi-1.444/phi_g-0.001/KL-vs-steps_loglog.png\n",
      "Saved @ ../../analysed_data/chi-1.667/phi_g-0.001/KL-vs-steps.png\n",
      "Saved @ ../../analysed_data/chi-1.667/phi_g-0.001/KL-vs-steps_loglog.png\n",
      "Saved @ ../../analysed_data/chi-1.889/phi_g-0.001/KL-vs-steps.png\n",
      "Saved @ ../../analysed_data/chi-1.889/phi_g-0.001/KL-vs-steps_loglog.png\n",
      "Saved @ ../../analysed_data/chi-2.111/phi_g-0.001/KL-vs-steps.png\n",
      "Saved @ ../../analysed_data/chi-2.111/phi_g-0.001/KL-vs-steps_loglog.png\n",
      "Saved @ ../../analysed_data/chi-2.333/phi_g-0.001/KL-vs-steps.png\n",
      "Saved @ ../../analysed_data/chi-2.333/phi_g-0.001/KL-vs-steps_loglog.png\n",
      "Saved @ ../../analysed_data/chi-2.556/phi_g-0.001/KL-vs-steps.png\n",
      "Saved @ ../../analysed_data/chi-2.556/phi_g-0.001/KL-vs-steps_loglog.png\n",
      "Saved @ ../../analysed_data/chi-2.778/phi_g-0.001/KL-vs-steps.png\n",
      "Saved @ ../../analysed_data/chi-2.778/phi_g-0.001/KL-vs-steps_loglog.png\n",
      "Saved @ ../../analysed_data/chi-3.000/phi_g-0.001/KL-vs-steps.png\n"
     ]
    },
    {
     "name": "stderr",
     "output_type": "stream",
     "text": [
      " 10%|████▍                                       | 1/10 [00:53<07:59, 53.25s/it]"
     ]
    },
    {
     "name": "stdout",
     "output_type": "stream",
     "text": [
      "Saved @ ../../analysed_data/chi-3.000/phi_g-0.001/KL-vs-steps_loglog.png\n",
      "Saved @ ../../analysed_data/chi-1.000/phi_g-0.112/KL-vs-steps.png\n",
      "Saved @ ../../analysed_data/chi-1.000/phi_g-0.112/KL-vs-steps_loglog.png\n",
      "Saved @ ../../analysed_data/chi-1.222/phi_g-0.112/KL-vs-steps.png\n",
      "Saved @ ../../analysed_data/chi-1.222/phi_g-0.112/KL-vs-steps_loglog.png\n",
      "Saved @ ../../analysed_data/chi-1.444/phi_g-0.112/KL-vs-steps.png\n",
      "Saved @ ../../analysed_data/chi-1.444/phi_g-0.112/KL-vs-steps_loglog.png\n",
      "Saved @ ../../analysed_data/chi-1.667/phi_g-0.112/KL-vs-steps.png\n",
      "Saved @ ../../analysed_data/chi-1.667/phi_g-0.112/KL-vs-steps_loglog.png\n",
      "Saved @ ../../analysed_data/chi-1.889/phi_g-0.112/KL-vs-steps.png\n",
      "Saved @ ../../analysed_data/chi-1.889/phi_g-0.112/KL-vs-steps_loglog.png\n",
      "Saved @ ../../analysed_data/chi-2.111/phi_g-0.112/KL-vs-steps.png\n",
      "Saved @ ../../analysed_data/chi-2.111/phi_g-0.112/KL-vs-steps_loglog.png\n",
      "Saved @ ../../analysed_data/chi-2.333/phi_g-0.112/KL-vs-steps.png\n",
      "Saved @ ../../analysed_data/chi-2.333/phi_g-0.112/KL-vs-steps_loglog.png\n",
      "Saved @ ../../analysed_data/chi-2.556/phi_g-0.112/KL-vs-steps.png\n",
      "Saved @ ../../analysed_data/chi-2.556/phi_g-0.112/KL-vs-steps_loglog.png\n",
      "Saved @ ../../analysed_data/chi-2.778/phi_g-0.112/KL-vs-steps.png\n",
      "Saved @ ../../analysed_data/chi-2.778/phi_g-0.112/KL-vs-steps_loglog.png\n",
      "Saved @ ../../analysed_data/chi-3.000/phi_g-0.112/KL-vs-steps.png\n"
     ]
    },
    {
     "name": "stderr",
     "output_type": "stream",
     "text": [
      " 20%|████████▊                                   | 2/10 [01:51<07:28, 56.12s/it]"
     ]
    },
    {
     "name": "stdout",
     "output_type": "stream",
     "text": [
      "Saved @ ../../analysed_data/chi-3.000/phi_g-0.112/KL-vs-steps_loglog.png\n",
      "Saved @ ../../analysed_data/chi-1.000/phi_g-0.223/KL-vs-steps.png\n",
      "Saved @ ../../analysed_data/chi-1.000/phi_g-0.223/KL-vs-steps_loglog.png\n",
      "Saved @ ../../analysed_data/chi-1.222/phi_g-0.223/KL-vs-steps.png\n",
      "Saved @ ../../analysed_data/chi-1.222/phi_g-0.223/KL-vs-steps_loglog.png\n",
      "Saved @ ../../analysed_data/chi-1.444/phi_g-0.223/KL-vs-steps.png\n",
      "Saved @ ../../analysed_data/chi-1.444/phi_g-0.223/KL-vs-steps_loglog.png\n",
      "Saved @ ../../analysed_data/chi-1.667/phi_g-0.223/KL-vs-steps.png\n",
      "Saved @ ../../analysed_data/chi-1.667/phi_g-0.223/KL-vs-steps_loglog.png\n",
      "Saved @ ../../analysed_data/chi-1.889/phi_g-0.223/KL-vs-steps.png\n",
      "Saved @ ../../analysed_data/chi-1.889/phi_g-0.223/KL-vs-steps_loglog.png\n",
      "Saved @ ../../analysed_data/chi-2.111/phi_g-0.223/KL-vs-steps.png\n",
      "Saved @ ../../analysed_data/chi-2.111/phi_g-0.223/KL-vs-steps_loglog.png\n",
      "Saved @ ../../analysed_data/chi-2.333/phi_g-0.223/KL-vs-steps.png\n",
      "Saved @ ../../analysed_data/chi-2.333/phi_g-0.223/KL-vs-steps_loglog.png\n",
      "Saved @ ../../analysed_data/chi-2.556/phi_g-0.223/KL-vs-steps.png\n",
      "Saved @ ../../analysed_data/chi-2.556/phi_g-0.223/KL-vs-steps_loglog.png\n",
      "Saved @ ../../analysed_data/chi-2.778/phi_g-0.223/KL-vs-steps.png\n",
      "Saved @ ../../analysed_data/chi-2.778/phi_g-0.223/KL-vs-steps_loglog.png\n",
      "Saved @ ../../analysed_data/chi-3.000/phi_g-0.223/KL-vs-steps.png\n"
     ]
    },
    {
     "name": "stderr",
     "output_type": "stream",
     "text": [
      " 30%|█████████████▏                              | 3/10 [02:50<06:43, 57.69s/it]"
     ]
    },
    {
     "name": "stdout",
     "output_type": "stream",
     "text": [
      "Saved @ ../../analysed_data/chi-3.000/phi_g-0.223/KL-vs-steps_loglog.png\n",
      "Saved @ ../../analysed_data/chi-1.000/phi_g-0.334/KL-vs-steps.png\n",
      "Saved @ ../../analysed_data/chi-1.000/phi_g-0.334/KL-vs-steps_loglog.png\n",
      "Saved @ ../../analysed_data/chi-1.222/phi_g-0.334/KL-vs-steps.png\n",
      "Saved @ ../../analysed_data/chi-1.222/phi_g-0.334/KL-vs-steps_loglog.png\n",
      "Saved @ ../../analysed_data/chi-1.444/phi_g-0.334/KL-vs-steps.png\n",
      "Saved @ ../../analysed_data/chi-1.444/phi_g-0.334/KL-vs-steps_loglog.png\n",
      "Saved @ ../../analysed_data/chi-1.667/phi_g-0.334/KL-vs-steps.png\n",
      "Saved @ ../../analysed_data/chi-1.667/phi_g-0.334/KL-vs-steps_loglog.png\n",
      "Saved @ ../../analysed_data/chi-1.889/phi_g-0.334/KL-vs-steps.png\n",
      "Saved @ ../../analysed_data/chi-1.889/phi_g-0.334/KL-vs-steps_loglog.png\n",
      "Saved @ ../../analysed_data/chi-2.111/phi_g-0.334/KL-vs-steps.png\n",
      "Saved @ ../../analysed_data/chi-2.111/phi_g-0.334/KL-vs-steps_loglog.png\n",
      "Saved @ ../../analysed_data/chi-2.333/phi_g-0.334/KL-vs-steps.png\n",
      "Saved @ ../../analysed_data/chi-2.333/phi_g-0.334/KL-vs-steps_loglog.png\n",
      "Saved @ ../../analysed_data/chi-2.556/phi_g-0.334/KL-vs-steps.png\n",
      "Saved @ ../../analysed_data/chi-2.556/phi_g-0.334/KL-vs-steps_loglog.png\n",
      "Saved @ ../../analysed_data/chi-2.778/phi_g-0.334/KL-vs-steps.png\n",
      "Saved @ ../../analysed_data/chi-2.778/phi_g-0.334/KL-vs-steps_loglog.png\n",
      "Saved @ ../../analysed_data/chi-3.000/phi_g-0.334/KL-vs-steps.png\n"
     ]
    },
    {
     "name": "stderr",
     "output_type": "stream",
     "text": [
      " 40%|█████████████████▌                          | 4/10 [03:54<05:59, 59.97s/it]"
     ]
    },
    {
     "name": "stdout",
     "output_type": "stream",
     "text": [
      "Saved @ ../../analysed_data/chi-3.000/phi_g-0.334/KL-vs-steps_loglog.png\n",
      "Saved @ ../../analysed_data/chi-1.000/phi_g-0.445/KL-vs-steps.png\n",
      "Saved @ ../../analysed_data/chi-1.000/phi_g-0.445/KL-vs-steps_loglog.png\n",
      "Saved @ ../../analysed_data/chi-1.222/phi_g-0.445/KL-vs-steps.png\n",
      "Saved @ ../../analysed_data/chi-1.222/phi_g-0.445/KL-vs-steps_loglog.png\n",
      "Saved @ ../../analysed_data/chi-1.444/phi_g-0.445/KL-vs-steps.png\n",
      "Saved @ ../../analysed_data/chi-1.444/phi_g-0.445/KL-vs-steps_loglog.png\n",
      "Saved @ ../../analysed_data/chi-1.667/phi_g-0.445/KL-vs-steps.png\n",
      "Saved @ ../../analysed_data/chi-1.667/phi_g-0.445/KL-vs-steps_loglog.png\n",
      "Saved @ ../../analysed_data/chi-1.889/phi_g-0.445/KL-vs-steps.png\n",
      "Saved @ ../../analysed_data/chi-1.889/phi_g-0.445/KL-vs-steps_loglog.png\n",
      "Saved @ ../../analysed_data/chi-2.111/phi_g-0.445/KL-vs-steps.png\n",
      "Saved @ ../../analysed_data/chi-2.111/phi_g-0.445/KL-vs-steps_loglog.png\n",
      "Saved @ ../../analysed_data/chi-2.333/phi_g-0.445/KL-vs-steps.png\n",
      "Saved @ ../../analysed_data/chi-2.333/phi_g-0.445/KL-vs-steps_loglog.png\n",
      "Saved @ ../../analysed_data/chi-2.556/phi_g-0.445/KL-vs-steps.png\n",
      "Saved @ ../../analysed_data/chi-2.556/phi_g-0.445/KL-vs-steps_loglog.png\n",
      "Saved @ ../../analysed_data/chi-2.778/phi_g-0.445/KL-vs-steps.png\n",
      "Saved @ ../../analysed_data/chi-2.778/phi_g-0.445/KL-vs-steps_loglog.png\n",
      "Saved @ ../../analysed_data/chi-3.000/phi_g-0.445/KL-vs-steps.png\n"
     ]
    },
    {
     "name": "stderr",
     "output_type": "stream",
     "text": [
      " 50%|██████████████████████                      | 5/10 [04:57<05:05, 61.10s/it]"
     ]
    },
    {
     "name": "stdout",
     "output_type": "stream",
     "text": [
      "Saved @ ../../analysed_data/chi-3.000/phi_g-0.445/KL-vs-steps_loglog.png\n",
      "Saved @ ../../analysed_data/chi-1.000/phi_g-0.555/KL-vs-steps.png\n",
      "Saved @ ../../analysed_data/chi-1.000/phi_g-0.555/KL-vs-steps_loglog.png\n",
      "Saved @ ../../analysed_data/chi-1.222/phi_g-0.555/KL-vs-steps.png\n",
      "Saved @ ../../analysed_data/chi-1.222/phi_g-0.555/KL-vs-steps_loglog.png\n",
      "Saved @ ../../analysed_data/chi-1.444/phi_g-0.555/KL-vs-steps.png\n",
      "Saved @ ../../analysed_data/chi-1.444/phi_g-0.555/KL-vs-steps_loglog.png\n",
      "Saved @ ../../analysed_data/chi-1.667/phi_g-0.555/KL-vs-steps.png\n",
      "Saved @ ../../analysed_data/chi-1.667/phi_g-0.555/KL-vs-steps_loglog.png\n",
      "Saved @ ../../analysed_data/chi-1.889/phi_g-0.555/KL-vs-steps.png\n",
      "Saved @ ../../analysed_data/chi-1.889/phi_g-0.555/KL-vs-steps_loglog.png\n",
      "Saved @ ../../analysed_data/chi-2.111/phi_g-0.555/KL-vs-steps.png\n",
      "Saved @ ../../analysed_data/chi-2.111/phi_g-0.555/KL-vs-steps_loglog.png\n",
      "Saved @ ../../analysed_data/chi-2.333/phi_g-0.555/KL-vs-steps.png\n",
      "Saved @ ../../analysed_data/chi-2.333/phi_g-0.555/KL-vs-steps_loglog.png\n",
      "Saved @ ../../analysed_data/chi-2.556/phi_g-0.555/KL-vs-steps.png\n",
      "Saved @ ../../analysed_data/chi-2.556/phi_g-0.555/KL-vs-steps_loglog.png\n",
      "Saved @ ../../analysed_data/chi-2.778/phi_g-0.555/KL-vs-steps.png\n",
      "Saved @ ../../analysed_data/chi-2.778/phi_g-0.555/KL-vs-steps_loglog.png\n",
      "Saved @ ../../analysed_data/chi-3.000/phi_g-0.555/KL-vs-steps.png\n"
     ]
    },
    {
     "name": "stderr",
     "output_type": "stream",
     "text": [
      " 60%|██████████████████████████▍                 | 6/10 [05:59<04:05, 61.44s/it]"
     ]
    },
    {
     "name": "stdout",
     "output_type": "stream",
     "text": [
      "Saved @ ../../analysed_data/chi-3.000/phi_g-0.555/KL-vs-steps_loglog.png\n",
      "Saved @ ../../analysed_data/chi-1.000/phi_g-0.666/KL-vs-steps.png\n",
      "Saved @ ../../analysed_data/chi-1.000/phi_g-0.666/KL-vs-steps_loglog.png\n",
      "Saved @ ../../analysed_data/chi-1.222/phi_g-0.666/KL-vs-steps.png\n",
      "Saved @ ../../analysed_data/chi-1.222/phi_g-0.666/KL-vs-steps_loglog.png\n",
      "Saved @ ../../analysed_data/chi-1.444/phi_g-0.666/KL-vs-steps.png\n",
      "Saved @ ../../analysed_data/chi-1.444/phi_g-0.666/KL-vs-steps_loglog.png\n",
      "Saved @ ../../analysed_data/chi-1.667/phi_g-0.666/KL-vs-steps.png\n",
      "Saved @ ../../analysed_data/chi-1.667/phi_g-0.666/KL-vs-steps_loglog.png\n",
      "Saved @ ../../analysed_data/chi-1.889/phi_g-0.666/KL-vs-steps.png\n",
      "Saved @ ../../analysed_data/chi-1.889/phi_g-0.666/KL-vs-steps_loglog.png\n",
      "Saved @ ../../analysed_data/chi-2.111/phi_g-0.666/KL-vs-steps.png\n",
      "Saved @ ../../analysed_data/chi-2.111/phi_g-0.666/KL-vs-steps_loglog.png\n",
      "Saved @ ../../analysed_data/chi-2.333/phi_g-0.666/KL-vs-steps.png\n",
      "Saved @ ../../analysed_data/chi-2.333/phi_g-0.666/KL-vs-steps_loglog.png\n",
      "Saved @ ../../analysed_data/chi-2.556/phi_g-0.666/KL-vs-steps.png\n",
      "Saved @ ../../analysed_data/chi-2.556/phi_g-0.666/KL-vs-steps_loglog.png\n",
      "Saved @ ../../analysed_data/chi-2.778/phi_g-0.666/KL-vs-steps.png\n",
      "Saved @ ../../analysed_data/chi-2.778/phi_g-0.666/KL-vs-steps_loglog.png\n",
      "Saved @ ../../analysed_data/chi-3.000/phi_g-0.666/KL-vs-steps.png\n"
     ]
    },
    {
     "name": "stderr",
     "output_type": "stream",
     "text": [
      " 70%|██████████████████████████████▊             | 7/10 [07:03<03:06, 62.19s/it]"
     ]
    },
    {
     "name": "stdout",
     "output_type": "stream",
     "text": [
      "Saved @ ../../analysed_data/chi-3.000/phi_g-0.666/KL-vs-steps_loglog.png\n",
      "Saved @ ../../analysed_data/chi-1.000/phi_g-0.777/KL-vs-steps.png\n",
      "Saved @ ../../analysed_data/chi-1.000/phi_g-0.777/KL-vs-steps_loglog.png\n",
      "Saved @ ../../analysed_data/chi-1.222/phi_g-0.777/KL-vs-steps.png\n",
      "Saved @ ../../analysed_data/chi-1.222/phi_g-0.777/KL-vs-steps_loglog.png\n",
      "Saved @ ../../analysed_data/chi-1.444/phi_g-0.777/KL-vs-steps.png\n",
      "Saved @ ../../analysed_data/chi-1.444/phi_g-0.777/KL-vs-steps_loglog.png\n",
      "Saved @ ../../analysed_data/chi-1.667/phi_g-0.777/KL-vs-steps.png\n",
      "Saved @ ../../analysed_data/chi-1.667/phi_g-0.777/KL-vs-steps_loglog.png\n",
      "Saved @ ../../analysed_data/chi-1.889/phi_g-0.777/KL-vs-steps.png\n",
      "Saved @ ../../analysed_data/chi-1.889/phi_g-0.777/KL-vs-steps_loglog.png\n",
      "Saved @ ../../analysed_data/chi-2.111/phi_g-0.777/KL-vs-steps.png\n",
      "Saved @ ../../analysed_data/chi-2.111/phi_g-0.777/KL-vs-steps_loglog.png\n",
      "Saved @ ../../analysed_data/chi-2.333/phi_g-0.777/KL-vs-steps.png\n",
      "Saved @ ../../analysed_data/chi-2.333/phi_g-0.777/KL-vs-steps_loglog.png\n",
      "Saved @ ../../analysed_data/chi-2.556/phi_g-0.777/KL-vs-steps.png\n",
      "Saved @ ../../analysed_data/chi-2.556/phi_g-0.777/KL-vs-steps_loglog.png\n",
      "Saved @ ../../analysed_data/chi-2.778/phi_g-0.777/KL-vs-steps.png\n",
      "Saved @ ../../analysed_data/chi-2.778/phi_g-0.777/KL-vs-steps_loglog.png\n",
      "Saved @ ../../analysed_data/chi-3.000/phi_g-0.777/KL-vs-steps.png\n"
     ]
    },
    {
     "name": "stderr",
     "output_type": "stream",
     "text": [
      " 80%|███████████████████████████████████▏        | 8/10 [08:05<02:04, 62.24s/it]"
     ]
    },
    {
     "name": "stdout",
     "output_type": "stream",
     "text": [
      "Saved @ ../../analysed_data/chi-3.000/phi_g-0.777/KL-vs-steps_loglog.png\n",
      "Saved @ ../../analysed_data/chi-1.000/phi_g-0.888/KL-vs-steps.png\n",
      "Saved @ ../../analysed_data/chi-1.000/phi_g-0.888/KL-vs-steps_loglog.png\n",
      "Saved @ ../../analysed_data/chi-1.222/phi_g-0.888/KL-vs-steps.png\n",
      "Saved @ ../../analysed_data/chi-1.222/phi_g-0.888/KL-vs-steps_loglog.png\n",
      "Saved @ ../../analysed_data/chi-1.444/phi_g-0.888/KL-vs-steps.png\n",
      "Saved @ ../../analysed_data/chi-1.444/phi_g-0.888/KL-vs-steps_loglog.png\n",
      "Saved @ ../../analysed_data/chi-1.667/phi_g-0.888/KL-vs-steps.png\n",
      "Saved @ ../../analysed_data/chi-1.667/phi_g-0.888/KL-vs-steps_loglog.png\n",
      "Saved @ ../../analysed_data/chi-1.889/phi_g-0.888/KL-vs-steps.png\n",
      "Saved @ ../../analysed_data/chi-1.889/phi_g-0.888/KL-vs-steps_loglog.png\n",
      "Saved @ ../../analysed_data/chi-2.111/phi_g-0.888/KL-vs-steps.png\n",
      "Saved @ ../../analysed_data/chi-2.111/phi_g-0.888/KL-vs-steps_loglog.png\n",
      "Saved @ ../../analysed_data/chi-2.333/phi_g-0.888/KL-vs-steps.png\n",
      "Saved @ ../../analysed_data/chi-2.333/phi_g-0.888/KL-vs-steps_loglog.png\n",
      "Saved @ ../../analysed_data/chi-2.556/phi_g-0.888/KL-vs-steps.png\n",
      "Saved @ ../../analysed_data/chi-2.556/phi_g-0.888/KL-vs-steps_loglog.png\n",
      "Saved @ ../../analysed_data/chi-2.778/phi_g-0.888/KL-vs-steps.png\n",
      "Saved @ ../../analysed_data/chi-2.778/phi_g-0.888/KL-vs-steps_loglog.png\n",
      "Saved @ ../../analysed_data/chi-3.000/phi_g-0.888/KL-vs-steps.png\n"
     ]
    },
    {
     "name": "stderr",
     "output_type": "stream",
     "text": [
      " 90%|███████████████████████████████████████▌    | 9/10 [09:07<01:02, 62.21s/it]"
     ]
    },
    {
     "name": "stdout",
     "output_type": "stream",
     "text": [
      "Saved @ ../../analysed_data/chi-3.000/phi_g-0.888/KL-vs-steps_loglog.png\n",
      "Saved @ ../../analysed_data/chi-1.000/phi_g-0.999/KL-vs-steps.png\n",
      "Saved @ ../../analysed_data/chi-1.000/phi_g-0.999/KL-vs-steps_loglog.png\n",
      "Saved @ ../../analysed_data/chi-1.222/phi_g-0.999/KL-vs-steps.png\n",
      "Saved @ ../../analysed_data/chi-1.222/phi_g-0.999/KL-vs-steps_loglog.png\n",
      "Saved @ ../../analysed_data/chi-1.444/phi_g-0.999/KL-vs-steps.png\n",
      "Saved @ ../../analysed_data/chi-1.444/phi_g-0.999/KL-vs-steps_loglog.png\n",
      "Saved @ ../../analysed_data/chi-1.667/phi_g-0.999/KL-vs-steps.png\n",
      "Saved @ ../../analysed_data/chi-1.667/phi_g-0.999/KL-vs-steps_loglog.png\n",
      "Saved @ ../../analysed_data/chi-1.889/phi_g-0.999/KL-vs-steps.png\n",
      "Saved @ ../../analysed_data/chi-1.889/phi_g-0.999/KL-vs-steps_loglog.png\n",
      "Saved @ ../../analysed_data/chi-2.111/phi_g-0.999/KL-vs-steps.png\n",
      "Saved @ ../../analysed_data/chi-2.111/phi_g-0.999/KL-vs-steps_loglog.png\n",
      "Saved @ ../../analysed_data/chi-2.333/phi_g-0.999/KL-vs-steps.png\n",
      "Saved @ ../../analysed_data/chi-2.333/phi_g-0.999/KL-vs-steps_loglog.png\n",
      "Saved @ ../../analysed_data/chi-2.556/phi_g-0.999/KL-vs-steps.png\n",
      "Saved @ ../../analysed_data/chi-2.556/phi_g-0.999/KL-vs-steps_loglog.png\n",
      "Saved @ ../../analysed_data/chi-2.778/phi_g-0.999/KL-vs-steps.png\n",
      "Saved @ ../../analysed_data/chi-2.778/phi_g-0.999/KL-vs-steps_loglog.png\n",
      "Saved @ ../../analysed_data/chi-3.000/phi_g-0.999/KL-vs-steps.png\n"
     ]
    },
    {
     "name": "stderr",
     "output_type": "stream",
     "text": [
      "100%|███████████████████████████████████████████| 10/10 [09:59<00:00, 59.92s/it]"
     ]
    },
    {
     "name": "stdout",
     "output_type": "stream",
     "text": [
      "Saved @ ../../analysed_data/chi-3.000/phi_g-0.999/KL-vs-steps_loglog.png\n"
     ]
    },
    {
     "name": "stderr",
     "output_type": "stream",
     "text": [
      "\n"
     ]
    }
   ],
   "source": [
    "# BETAs = [1, 2, 4, 8, 10]\n",
    "# BETAs = [10]\n",
    "BETAs = [1, 2, 3, 4, 5, 6, 7, 8, 9, 10]\n",
    "nSTEPSs = [100, 1000, 10000, 100000, 1000000]\n",
    "# nSTEPSs = [1000000]\n",
    "REPLICAs = [1, 2, 3, 4, 5]\n",
    "PHI_1_GLOBALs = np.linspace(1e-3, 1-1e-3, 10)\n",
    "# PHI_1_GLOBALs = [0.555]\n",
    "# CHIs = [2.556]\n",
    "CHIs = np.linspace(1, 3, 10)\n",
    "\n",
    "for phi_g in tqdm(PHI_1_GLOBALs):\n",
    "    for chi in CHIs:\n",
    "        kl = []\n",
    "        for beta in BETAs:\n",
    "            kl_b = []\n",
    "            for nSteps in nSTEPSs:\n",
    "                kl_replica = []\n",
    "                for replica in REPLICAs:\n",
    "                    df_brute = pd.read_pickle(f\"../../data/brute_force/mesh-100/chi-{chi:.3f}/phi_g-{phi_g:.3f}/df/df_brute.pkl\", compression = \"gzip\")\n",
    "                    \n",
    "                    df_brute[\"boltzmann_factor\"] = np.exp(-beta*df_brute[\"F\"])\n",
    "                    Z = df_brute[\"boltzmann_factor\"].sum()\n",
    "                    df_brute[\"probability_Q\"] = df_brute[\"boltzmann_factor\"]/Z\n",
    "                    \n",
    "                    \n",
    "                    df_mcmc = pd.read_pickle(f\"../../data/mcmc/mesh-100/chi-{chi:.3f}/phi_g-{phi_g:.3f}/steps-{nSteps}/beta-{beta}/df/df_mcmc-replica{replica}.pkl\", compression = \"gzip\")\n",
    "                    df_counts = df_mcmc.groupby([\"phi11\", \"eta1\"]).size().reset_index(name=\"count\")\n",
    "                    df_counts[\"probability_P\"] = df_counts[\"count\"]/df_counts[\"count\"].sum()\n",
    "                    \n",
    "                    \n",
    "                    df_merged = pd.merge(df_counts[['phi11', 'eta1', 'probability_P']], df_brute[['phi11', 'eta1', 'probability_Q']], on=['phi11', 'eta1'], how='outer')\n",
    "                    df_merged['probability_P'] = df_merged['probability_P'].fillna(0)  # Unvisited states get P(x,y) = 0\n",
    "                    epsilon = 1e-10\n",
    "                    df_merged['probability_Q'] = df_merged['probability_Q'].fillna(epsilon)\n",
    "                    \n",
    "                    P = df_merged[\"probability_P\"].values\n",
    "                    Q = df_merged[\"probability_Q\"].values\n",
    "\n",
    "                    # plotter_landscapes(df_merged, phi_g, chi, beta, nSteps, replica, saveFlag=True)\n",
    "                    \n",
    "                    KL_divergence = entropy(P, Q)\n",
    "                    # print(f\"phi_g {phi_g:.3f}, chi {chi:.3f}, beta {beta:.3f}, steps {nSteps}, KL Divergence: {KL_divergence:.3f}\")\n",
    "                    \n",
    "                    kl_replica.append(KL_divergence)\n",
    "                kl_b.append(np.mean(kl_replica))\n",
    "            kl.append(kl_b)\n",
    "        plotter_kl_vs_steps(kl, phi_g, chi, saveFlag=True)\n",
    "        plotter_kl_vs_steps_loglog(kl, phi_g, chi, saveFlag=True)\n",
    "            # print()"
   ]
  },
  {
   "cell_type": "code",
   "execution_count": null,
   "id": "7cd7b133-33a0-42a5-ae14-a250eb1e8b53",
   "metadata": {},
   "outputs": [],
   "source": [
    "a"
   ]
  },
  {
   "cell_type": "code",
   "execution_count": 109,
   "id": "93484a14-8203-403f-b6b3-4921e0ea049b",
   "metadata": {},
   "outputs": [
    {
     "name": "stderr",
     "output_type": "stream",
     "text": [
      "  0%|                                                    | 0/10 [00:00<?, ?it/s]"
     ]
    },
    {
     "name": "stdout",
     "output_type": "stream",
     "text": [
      "Saved @ ../../analysed_data/chi-1.000/phi_g-0.001/KL-vs-beta.png\n",
      "Saved @ ../../analysed_data/chi-1.222/phi_g-0.001/KL-vs-beta.png\n",
      "Saved @ ../../analysed_data/chi-1.444/phi_g-0.001/KL-vs-beta.png\n",
      "Saved @ ../../analysed_data/chi-1.667/phi_g-0.001/KL-vs-beta.png\n",
      "Saved @ ../../analysed_data/chi-1.889/phi_g-0.001/KL-vs-beta.png\n",
      "Saved @ ../../analysed_data/chi-2.111/phi_g-0.001/KL-vs-beta.png\n",
      "Saved @ ../../analysed_data/chi-2.333/phi_g-0.001/KL-vs-beta.png\n",
      "Saved @ ../../analysed_data/chi-2.556/phi_g-0.001/KL-vs-beta.png\n",
      "Saved @ ../../analysed_data/chi-2.778/phi_g-0.001/KL-vs-beta.png\n"
     ]
    },
    {
     "name": "stderr",
     "output_type": "stream",
     "text": [
      " 10%|████▍                                       | 1/10 [00:36<05:30, 36.76s/it]"
     ]
    },
    {
     "name": "stdout",
     "output_type": "stream",
     "text": [
      "Saved @ ../../analysed_data/chi-3.000/phi_g-0.001/KL-vs-beta.png\n",
      "Saved @ ../../analysed_data/chi-1.000/phi_g-0.112/KL-vs-beta.png\n",
      "Saved @ ../../analysed_data/chi-1.222/phi_g-0.112/KL-vs-beta.png\n",
      "Saved @ ../../analysed_data/chi-1.444/phi_g-0.112/KL-vs-beta.png\n",
      "Saved @ ../../analysed_data/chi-1.667/phi_g-0.112/KL-vs-beta.png\n",
      "Saved @ ../../analysed_data/chi-1.889/phi_g-0.112/KL-vs-beta.png\n",
      "Saved @ ../../analysed_data/chi-2.111/phi_g-0.112/KL-vs-beta.png\n",
      "Saved @ ../../analysed_data/chi-2.333/phi_g-0.112/KL-vs-beta.png\n",
      "Saved @ ../../analysed_data/chi-2.556/phi_g-0.112/KL-vs-beta.png\n",
      "Saved @ ../../analysed_data/chi-2.778/phi_g-0.112/KL-vs-beta.png\n"
     ]
    },
    {
     "name": "stderr",
     "output_type": "stream",
     "text": [
      " 20%|████████▊                                   | 2/10 [01:19<05:21, 40.14s/it]"
     ]
    },
    {
     "name": "stdout",
     "output_type": "stream",
     "text": [
      "Saved @ ../../analysed_data/chi-3.000/phi_g-0.112/KL-vs-beta.png\n",
      "Saved @ ../../analysed_data/chi-1.000/phi_g-0.223/KL-vs-beta.png\n",
      "Saved @ ../../analysed_data/chi-1.222/phi_g-0.223/KL-vs-beta.png\n",
      "Saved @ ../../analysed_data/chi-1.444/phi_g-0.223/KL-vs-beta.png\n",
      "Saved @ ../../analysed_data/chi-1.667/phi_g-0.223/KL-vs-beta.png\n",
      "Saved @ ../../analysed_data/chi-1.889/phi_g-0.223/KL-vs-beta.png\n",
      "Saved @ ../../analysed_data/chi-2.111/phi_g-0.223/KL-vs-beta.png\n",
      "Saved @ ../../analysed_data/chi-2.333/phi_g-0.223/KL-vs-beta.png\n",
      "Saved @ ../../analysed_data/chi-2.556/phi_g-0.223/KL-vs-beta.png\n",
      "Saved @ ../../analysed_data/chi-2.778/phi_g-0.223/KL-vs-beta.png\n"
     ]
    },
    {
     "name": "stderr",
     "output_type": "stream",
     "text": [
      " 30%|█████████████▏                              | 3/10 [02:01<04:47, 41.07s/it]"
     ]
    },
    {
     "name": "stdout",
     "output_type": "stream",
     "text": [
      "Saved @ ../../analysed_data/chi-3.000/phi_g-0.223/KL-vs-beta.png\n",
      "Saved @ ../../analysed_data/chi-1.000/phi_g-0.334/KL-vs-beta.png\n",
      "Saved @ ../../analysed_data/chi-1.222/phi_g-0.334/KL-vs-beta.png\n",
      "Saved @ ../../analysed_data/chi-1.444/phi_g-0.334/KL-vs-beta.png\n",
      "Saved @ ../../analysed_data/chi-1.667/phi_g-0.334/KL-vs-beta.png\n",
      "Saved @ ../../analysed_data/chi-1.889/phi_g-0.334/KL-vs-beta.png\n",
      "Saved @ ../../analysed_data/chi-2.111/phi_g-0.334/KL-vs-beta.png\n",
      "Saved @ ../../analysed_data/chi-2.333/phi_g-0.334/KL-vs-beta.png\n",
      "Saved @ ../../analysed_data/chi-2.556/phi_g-0.334/KL-vs-beta.png\n",
      "Saved @ ../../analysed_data/chi-2.778/phi_g-0.334/KL-vs-beta.png\n"
     ]
    },
    {
     "name": "stderr",
     "output_type": "stream",
     "text": [
      " 40%|█████████████████▌                          | 4/10 [02:43<04:09, 41.54s/it]"
     ]
    },
    {
     "name": "stdout",
     "output_type": "stream",
     "text": [
      "Saved @ ../../analysed_data/chi-3.000/phi_g-0.334/KL-vs-beta.png\n",
      "Saved @ ../../analysed_data/chi-1.000/phi_g-0.445/KL-vs-beta.png\n",
      "Saved @ ../../analysed_data/chi-1.222/phi_g-0.445/KL-vs-beta.png\n",
      "Saved @ ../../analysed_data/chi-1.444/phi_g-0.445/KL-vs-beta.png\n",
      "Saved @ ../../analysed_data/chi-1.667/phi_g-0.445/KL-vs-beta.png\n",
      "Saved @ ../../analysed_data/chi-1.889/phi_g-0.445/KL-vs-beta.png\n",
      "Saved @ ../../analysed_data/chi-2.111/phi_g-0.445/KL-vs-beta.png\n",
      "Saved @ ../../analysed_data/chi-2.333/phi_g-0.445/KL-vs-beta.png\n",
      "Saved @ ../../analysed_data/chi-2.556/phi_g-0.445/KL-vs-beta.png\n",
      "Saved @ ../../analysed_data/chi-2.778/phi_g-0.445/KL-vs-beta.png\n"
     ]
    },
    {
     "name": "stderr",
     "output_type": "stream",
     "text": [
      " 50%|██████████████████████                      | 5/10 [03:26<03:30, 42.11s/it]"
     ]
    },
    {
     "name": "stdout",
     "output_type": "stream",
     "text": [
      "Saved @ ../../analysed_data/chi-3.000/phi_g-0.445/KL-vs-beta.png\n",
      "Saved @ ../../analysed_data/chi-1.000/phi_g-0.555/KL-vs-beta.png\n",
      "Saved @ ../../analysed_data/chi-1.222/phi_g-0.555/KL-vs-beta.png\n",
      "Saved @ ../../analysed_data/chi-1.444/phi_g-0.555/KL-vs-beta.png\n",
      "Saved @ ../../analysed_data/chi-1.667/phi_g-0.555/KL-vs-beta.png\n",
      "Saved @ ../../analysed_data/chi-1.889/phi_g-0.555/KL-vs-beta.png\n",
      "Saved @ ../../analysed_data/chi-2.111/phi_g-0.555/KL-vs-beta.png\n",
      "Saved @ ../../analysed_data/chi-2.333/phi_g-0.555/KL-vs-beta.png\n",
      "Saved @ ../../analysed_data/chi-2.556/phi_g-0.555/KL-vs-beta.png\n",
      "Saved @ ../../analysed_data/chi-2.778/phi_g-0.555/KL-vs-beta.png\n"
     ]
    },
    {
     "name": "stderr",
     "output_type": "stream",
     "text": [
      " 60%|██████████████████████████▍                 | 6/10 [04:10<02:50, 42.65s/it]"
     ]
    },
    {
     "name": "stdout",
     "output_type": "stream",
     "text": [
      "Saved @ ../../analysed_data/chi-3.000/phi_g-0.555/KL-vs-beta.png\n",
      "Saved @ ../../analysed_data/chi-1.000/phi_g-0.666/KL-vs-beta.png\n",
      "Saved @ ../../analysed_data/chi-1.222/phi_g-0.666/KL-vs-beta.png\n",
      "Saved @ ../../analysed_data/chi-1.444/phi_g-0.666/KL-vs-beta.png\n",
      "Saved @ ../../analysed_data/chi-1.667/phi_g-0.666/KL-vs-beta.png\n",
      "Saved @ ../../analysed_data/chi-1.889/phi_g-0.666/KL-vs-beta.png\n",
      "Saved @ ../../analysed_data/chi-2.111/phi_g-0.666/KL-vs-beta.png\n",
      "Saved @ ../../analysed_data/chi-2.333/phi_g-0.666/KL-vs-beta.png\n",
      "Saved @ ../../analysed_data/chi-2.556/phi_g-0.666/KL-vs-beta.png\n",
      "Saved @ ../../analysed_data/chi-2.778/phi_g-0.666/KL-vs-beta.png\n"
     ]
    },
    {
     "name": "stderr",
     "output_type": "stream",
     "text": [
      " 70%|██████████████████████████████▊             | 7/10 [04:50<02:05, 41.90s/it]"
     ]
    },
    {
     "name": "stdout",
     "output_type": "stream",
     "text": [
      "Saved @ ../../analysed_data/chi-3.000/phi_g-0.666/KL-vs-beta.png\n",
      "Saved @ ../../analysed_data/chi-1.000/phi_g-0.777/KL-vs-beta.png\n",
      "Saved @ ../../analysed_data/chi-1.222/phi_g-0.777/KL-vs-beta.png\n",
      "Saved @ ../../analysed_data/chi-1.444/phi_g-0.777/KL-vs-beta.png\n",
      "Saved @ ../../analysed_data/chi-1.667/phi_g-0.777/KL-vs-beta.png\n",
      "Saved @ ../../analysed_data/chi-1.889/phi_g-0.777/KL-vs-beta.png\n",
      "Saved @ ../../analysed_data/chi-2.111/phi_g-0.777/KL-vs-beta.png\n",
      "Saved @ ../../analysed_data/chi-2.333/phi_g-0.777/KL-vs-beta.png\n",
      "Saved @ ../../analysed_data/chi-2.556/phi_g-0.777/KL-vs-beta.png\n",
      "Saved @ ../../analysed_data/chi-2.778/phi_g-0.777/KL-vs-beta.png\n"
     ]
    },
    {
     "name": "stderr",
     "output_type": "stream",
     "text": [
      " 80%|███████████████████████████████████▏        | 8/10 [05:30<01:22, 41.10s/it]"
     ]
    },
    {
     "name": "stdout",
     "output_type": "stream",
     "text": [
      "Saved @ ../../analysed_data/chi-3.000/phi_g-0.777/KL-vs-beta.png\n",
      "Saved @ ../../analysed_data/chi-1.000/phi_g-0.888/KL-vs-beta.png\n",
      "Saved @ ../../analysed_data/chi-1.222/phi_g-0.888/KL-vs-beta.png\n",
      "Saved @ ../../analysed_data/chi-1.444/phi_g-0.888/KL-vs-beta.png\n",
      "Saved @ ../../analysed_data/chi-1.667/phi_g-0.888/KL-vs-beta.png\n",
      "Saved @ ../../analysed_data/chi-1.889/phi_g-0.888/KL-vs-beta.png\n",
      "Saved @ ../../analysed_data/chi-2.111/phi_g-0.888/KL-vs-beta.png\n",
      "Saved @ ../../analysed_data/chi-2.333/phi_g-0.888/KL-vs-beta.png\n",
      "Saved @ ../../analysed_data/chi-2.556/phi_g-0.888/KL-vs-beta.png\n",
      "Saved @ ../../analysed_data/chi-2.778/phi_g-0.888/KL-vs-beta.png\n"
     ]
    },
    {
     "name": "stderr",
     "output_type": "stream",
     "text": [
      " 90%|███████████████████████████████████████▌    | 9/10 [06:08<00:40, 40.27s/it]"
     ]
    },
    {
     "name": "stdout",
     "output_type": "stream",
     "text": [
      "Saved @ ../../analysed_data/chi-3.000/phi_g-0.888/KL-vs-beta.png\n",
      "Saved @ ../../analysed_data/chi-1.000/phi_g-0.999/KL-vs-beta.png\n",
      "Saved @ ../../analysed_data/chi-1.222/phi_g-0.999/KL-vs-beta.png\n",
      "Saved @ ../../analysed_data/chi-1.444/phi_g-0.999/KL-vs-beta.png\n",
      "Saved @ ../../analysed_data/chi-1.667/phi_g-0.999/KL-vs-beta.png\n",
      "Saved @ ../../analysed_data/chi-1.889/phi_g-0.999/KL-vs-beta.png\n",
      "Saved @ ../../analysed_data/chi-2.111/phi_g-0.999/KL-vs-beta.png\n",
      "Saved @ ../../analysed_data/chi-2.333/phi_g-0.999/KL-vs-beta.png\n",
      "Saved @ ../../analysed_data/chi-2.556/phi_g-0.999/KL-vs-beta.png\n",
      "Saved @ ../../analysed_data/chi-2.778/phi_g-0.999/KL-vs-beta.png\n"
     ]
    },
    {
     "name": "stderr",
     "output_type": "stream",
     "text": [
      "100%|███████████████████████████████████████████| 10/10 [06:44<00:00, 40.42s/it]"
     ]
    },
    {
     "name": "stdout",
     "output_type": "stream",
     "text": [
      "Saved @ ../../analysed_data/chi-3.000/phi_g-0.999/KL-vs-beta.png\n"
     ]
    },
    {
     "name": "stderr",
     "output_type": "stream",
     "text": [
      "\n"
     ]
    }
   ],
   "source": [
    "BETAs = [1, 2, 3, 4, 5, 6, 7, 8, 9, 10]\n",
    "nSTEPSs = [100, 1000, 10000, 100000, 1000000]\n",
    "REPLICAs = [1, 2, 3, 4, 5]\n",
    "PHI_1_GLOBALs = np.linspace(1e-3, 1-1e-3, 10)\n",
    "# PHI_1_GLOBALs = [0.555]\n",
    "# CHIs = [2.556]\n",
    "CHIs = np.linspace(1, 3, 10)\n",
    "\n",
    "for phi_g in tqdm(PHI_1_GLOBALs):\n",
    "    for chi in CHIs:\n",
    "        kl = []\n",
    "        for nSteps in nSTEPSs[2:]:\n",
    "            kl_s = []\n",
    "            for beta in BETAs:\n",
    "                kl_replica = []\n",
    "                for replica in REPLICAs:\n",
    "                    df_brute = pd.read_pickle(f\"../../data/brute_force/mesh-100/chi-{chi:.3f}/phi_g-{phi_g:.3f}/df/df_brute.pkl\", compression = \"gzip\")\n",
    "                    \n",
    "                    df_brute[\"boltzmann_factor\"] = np.exp(-beta*df_brute[\"F\"])\n",
    "                    Z = df_brute[\"boltzmann_factor\"].sum()\n",
    "                    df_brute[\"probability_Q\"] = df_brute[\"boltzmann_factor\"]/Z\n",
    "                    \n",
    "                    \n",
    "                    df_mcmc = pd.read_pickle(f\"../../data/mcmc/mesh-100/chi-{chi:.3f}/phi_g-{phi_g:.3f}/steps-{nSteps}/beta-{beta}/df/df_mcmc-replica{replica}.pkl\", compression = \"gzip\")\n",
    "                    df_counts = df_mcmc.groupby([\"phi11\", \"eta1\"]).size().reset_index(name=\"count\")\n",
    "                    df_counts[\"probability_P\"] = df_counts[\"count\"]/df_counts[\"count\"].sum()\n",
    "                    \n",
    "                    \n",
    "                    df_merged = pd.merge(df_counts[['phi11', 'eta1', 'probability_P']], df_brute[['phi11', 'eta1', 'probability_Q']], on=['phi11', 'eta1'], how='outer')\n",
    "                    df_merged['probability_P'] = df_merged['probability_P'].fillna(0)  # Unvisited states get P(x,y) = 0\n",
    "                    epsilon = 1e-10\n",
    "                    df_merged['probability_Q'] = df_merged['probability_Q'].fillna(epsilon)\n",
    "                    \n",
    "                    P = df_merged[\"probability_P\"].values\n",
    "                    Q = df_merged[\"probability_Q\"].values\n",
    "\n",
    "                    # plotter_landscapes(df_merged, phi_g, chi, beta, nSteps, replica, saveFlag=True)\n",
    "                    \n",
    "                    KL_divergence = entropy(P, Q)\n",
    "                    # print(f\"phi_g {phi_g:.3f}, chi {chi:.3f}, beta {beta:.3f}, steps {nSteps}, KL Divergence: {KL_divergence:.3f}\")\n",
    "                    \n",
    "                    kl_replica.append(KL_divergence)\n",
    "                kl_s.append(np.mean(kl_replica))\n",
    "            kl.append(kl_s)\n",
    "        plotter_kl_vs_beta(kl, phi_g, chi, saveFlag=True)\n",
    "            # print()"
   ]
  },
  {
   "cell_type": "code",
   "execution_count": null,
   "id": "78115edc-e579-489b-bb90-e98440742f13",
   "metadata": {},
   "outputs": [],
   "source": []
  }
 ],
 "metadata": {
  "kernelspec": {
   "display_name": "Python 3 (ipykernel)",
   "language": "python",
   "name": "python3"
  },
  "language_info": {
   "codemirror_mode": {
    "name": "ipython",
    "version": 3
   },
   "file_extension": ".py",
   "mimetype": "text/x-python",
   "name": "python",
   "nbconvert_exporter": "python",
   "pygments_lexer": "ipython3",
   "version": "3.12.2"
  }
 },
 "nbformat": 4,
 "nbformat_minor": 5
}
