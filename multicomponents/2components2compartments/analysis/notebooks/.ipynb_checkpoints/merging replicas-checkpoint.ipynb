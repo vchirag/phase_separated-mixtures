{
 "cells": [
  {
   "cell_type": "code",
   "execution_count": 31,
   "id": "498ff386-ecc9-4f02-8ba7-970186e5edc8",
   "metadata": {},
   "outputs": [],
   "source": [
    "import numpy as np\n",
    "import pandas as pd\n",
    "import matplotlib.pyplot as plt\n",
    "\n",
    "from tqdm import tqdm\n",
    "import os\n",
    "from scipy.stats import entropy"
   ]
  },
  {
   "cell_type": "code",
   "execution_count": 34,
   "id": "1710a4b0-c0f4-4cd9-ac5d-e0a60a4d5045",
   "metadata": {},
   "outputs": [
    {
     "name": "stderr",
     "output_type": "stream",
     "text": [
      "100%|███████████████████████████████████████████| 10/10 [08:32<00:00, 51.22s/it]\n"
     ]
    }
   ],
   "source": [
    "BETAs = [1, 5, 10]\n",
    "nSTEPSs = [100, 1000, 10000, 100000, 1000000]\n",
    "PHI_1_GLOBALs = np.linspace(1e-3, 1-1e-3, 10)\n",
    "# PHI_1_GLOBALs = [0.555]\n",
    "# CHIs = [2.556]\n",
    "CHIs = np.linspace(1, 3, 10)\n",
    "\n",
    "replicas = 5\n",
    "for phi_g in tqdm(PHI_1_GLOBALs):\n",
    "    for chi in CHIs:\n",
    "        for nSteps in nSTEPSs:\n",
    "            for beta in BETAs:\n",
    "                for replica in range(1, replicas+1):\n",
    "                    df_mcmc = pd.read_pickle(f\"../../data/mcmc/mesh-100/chi-{chi:.3f}/phi_g-{phi_g:.3f}/steps-{nSteps}/beta-{beta}/df/df_mcmc-replica{replica}.pkl\", compression = \"gzip\")\n",
    "                    df_counts = df_mcmc.groupby([\"phi11\", \"eta1\"]).size().reset_index(name=\"count\")\n",
    "                    df_counts[\"probability_P\"] = df_counts[\"count\"]/df_counts[\"count\"].sum()\n",
    "                \n",
    "                    if replica == 1:\n",
    "                        merged = df_counts\n",
    "                    else:\n",
    "                        merged = pd.concat([merged, df_counts]).groupby([\"phi11\", \"eta1\"], as_index=False).sum()\n",
    "                \n",
    "                    merged[\"probability_P\"] = merged[\"count\"] / merged[\"count\"].sum()\n",
    "\n",
    "                fig, ax = plt.subplots()\n",
    "                ax.scatter(merged[\"phi11\"], merged[\"eta1\"], c = merged[\"probability_P\"], cmap = \"viridis\")\n",
    "                \n",
    "                output_filepath = f\"../../analysed_data/chi-{chi:.3f}/phi_g-{phi_g:.3f}/steps-{nSteps}/beta-{beta}/\"\n",
    "                output_filename = f\"landscape-merged_simple_average.png\"\n",
    "                \n",
    "                if not os.path.exists(output_filepath):\n",
    "                    os.makedirs(output_filepath)\n",
    "                \n",
    "                file = os.path.join(output_filepath, output_filename)     \n",
    "                \n",
    "                plt.savefig(file, dpi = 400)\n",
    "                plt.close()\n",
    "\n"
   ]
  },
  {
   "cell_type": "markdown",
   "id": "bbee21e1-461a-4f57-a20c-ebc370b078d9",
   "metadata": {},
   "source": [
    "NR = const.\n",
    "\n",
    "1000*1000"
   ]
  },
  {
   "cell_type": "markdown",
   "id": "8e4be419-a2e8-45b4-a481-104c3e3b3b6d",
   "metadata": {},
   "source": [
    "Bayesian loop -> look for a apriori prob. dist.\n",
    "\n",
    "Momentum based approaches"
   ]
  },
  {
   "cell_type": "code",
   "execution_count": null,
   "id": "8968b5f4-54a4-49eb-8617-19723392df20",
   "metadata": {},
   "outputs": [],
   "source": []
  }
 ],
 "metadata": {
  "kernelspec": {
   "display_name": "Python 3 (ipykernel)",
   "language": "python",
   "name": "python3"
  },
  "language_info": {
   "codemirror_mode": {
    "name": "ipython",
    "version": 3
   },
   "file_extension": ".py",
   "mimetype": "text/x-python",
   "name": "python",
   "nbconvert_exporter": "python",
   "pygments_lexer": "ipython3",
   "version": "3.12.2"
  }
 },
 "nbformat": 4,
 "nbformat_minor": 5
}
