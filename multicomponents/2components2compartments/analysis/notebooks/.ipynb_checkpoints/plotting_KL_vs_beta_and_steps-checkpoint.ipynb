{
 "cells": [
  {
   "cell_type": "code",
   "execution_count": 1,
   "id": "43fbadea-eaff-4b38-a0ec-62ee881258fe",
   "metadata": {},
   "outputs": [],
   "source": [
    "import os\n",
    "import numpy as np\n",
    "import pandas as pd\n",
    "import matplotlib.pyplot as plt\n",
    "\n",
    "from tqdm import tqdm\n",
    "\n",
    "from scipy.stats import entropy\n"
   ]
  },
  {
   "cell_type": "code",
   "execution_count": 2,
   "id": "fbb7c111-08aa-45cb-a1e3-7eb13f69c6ee",
   "metadata": {},
   "outputs": [],
   "source": [
    "def plotter_kl(kl, phi_g, chi, saveFlag):\n",
    "    plot_labels = [100, 1000, 10000, 100000, 1000000]\n",
    "    betas = [1, 5, 10]\n",
    "    \n",
    "    fig, ax = plt.subplots(figsize = (10, 6))\n",
    "    ctr = 1\n",
    "    for idx, _ in enumerate(plot_labels):\n",
    "        ax.plot(betas, kl[idx], marker = \".\", label = str(plot_labels[idx]), color = \"k\", alpha = (ctr/(len(plot_labels) + 1))**2, linewidth = 3, markersize = 9)\n",
    "        ctr += 1\n",
    "    \n",
    "    plt.legend(loc =  \"upper right\")\n",
    "    \n",
    "    ax.set_xlabel(r\"$\\beta$\", fontsize = 12)\n",
    "    ax.set_ylabel(r\"$\\sum_{r=1}^{N_{\\text{\\Rep}}}KL_{r}$\", fontsize = 12)\n",
    "    ax.set_xticks(BETAs)\n",
    "        \n",
    "    title = r\"$\\phi_1^{\\text{global}}$ = \" + f\"{phi_g:.3f}\" + \"\\n\" + r\"$\\chi = $\" + f\"{chi:.3f}\"\n",
    "    \n",
    "    fig.suptitle(title)\n",
    "\n",
    "    if saveFlag:\n",
    "        output_filepath = f\"../analysed_data/chi-{chi:.3f}/phi_g-{phi_g:.3f}\"\n",
    "        output_filename = f\"KL-vs-beta.png\"\n",
    "\n",
    "        if not os.path.exists(output_filepath):\n",
    "            os.makedirs(output_filepath)\n",
    "        \n",
    "        file = os.path.join(output_filepath, output_filename)     \n",
    "        \n",
    "        plt.savefig(file, dpi = 400)\n",
    "        plt.close()\n",
    "\n",
    "        print(f\"Saved @ {file}\")\n",
    "\n",
    "def plotter_landscapes(df_merged, phi_g, chi, beta, nSteps, replica, saveFlag):\n",
    "    fig, ax = plt.subplots(1, 2, figsize = (12, 6))\n",
    "    scatter = ax[0].scatter(df_merged[\"phi11\"], df_merged[\"eta1\"], c = df_merged[\"probability_Q\"], cmap = \"viridis\")\n",
    "    ax[0].set_title(\"Brute Force\\n\\n\\n\\n\")\n",
    "    plt.colorbar(scatter, ax = ax[0], label = \"Probability\")\n",
    "    ax[0].set_xlabel(r\"$\\phi_{11}$\", fontsize = 12)\n",
    "    ax[0].set_ylabel(r\"$\\eta_1$\", fontsize = 12)\n",
    "    \n",
    "    ax[1].scatter(df_merged[\"phi11\"], df_merged[\"eta1\"], c = df_merged[\"probability_P\"], cmap = \"viridis\")\n",
    "    title = \"MCMC\\n\\n\" + r\"$\\beta=$\" + f\"{beta:.3f}\" + \"\\nSteps = \" + f\"{nSteps}\" + \"\\nReplica \" + f\"{replica}\" \n",
    "    ax[1].set_title(title)\n",
    "    plt.colorbar(scatter, ax = ax[1], label = \"Probability\")\n",
    "    ax[1].set_xlabel(r\"$\\phi_{11}$\", fontsize = 12)\n",
    "    ax[1].set_ylabel(r\"$\\eta_1$\", fontsize = 12)\n",
    "    \n",
    "    title = r\"$\\phi_1^{\\text{global}}$ = \" + f\"{phi_g:.3f}\" + \"\\n\" + r\"$\\chi = $\" + f\"{chi:.3f}\"\n",
    "        \n",
    "    fig.suptitle(title)\n",
    "    \n",
    "    fig.tight_layout()\n",
    "\n",
    "    if saveFlag:\n",
    "        output_filepath = f\"../analysed_data/chi-{chi:.3f}/phi_g-{phi_g:.3f}/steps-{nSteps}/beta-{beta}/\"\n",
    "        output_filename = f\"landscape-replica{replica}.png\"\n",
    "\n",
    "        if not os.path.exists(output_filepath):\n",
    "            os.makedirs(output_filepath)\n",
    "        \n",
    "        file = os.path.join(output_filepath, output_filename)     \n",
    "        \n",
    "        plt.savefig(file, dpi = 400)\n",
    "        plt.close()\n",
    "\n",
    "        print(f\"Saved @ {file}\")"
   ]
  },
  {
   "cell_type": "code",
   "execution_count": 3,
   "id": "93484a14-8203-403f-b6b3-4921e0ea049b",
   "metadata": {
    "scrolled": true
   },
   "outputs": [
    {
     "name": "stderr",
     "output_type": "stream",
     "text": [
      "  0%|                                                         | 0/10 [00:01<?, ?it/s]"
     ]
    },
    {
     "name": "stdout",
     "output_type": "stream",
     "text": [
      "Saved @ ../analysed_data/chi-1.000/phi_g-0.001/steps-5000000/beta-1/landscape-replica1.png\n"
     ]
    },
    {
     "name": "stderr",
     "output_type": "stream",
     "text": [
      "\n"
     ]
    },
    {
     "ename": "ValueError",
     "evalue": "x and y must have same first dimension, but have shapes (3,) and (1,)",
     "output_type": "error",
     "traceback": [
      "\u001b[0;31m---------------------------------------------------------------------------\u001b[0m",
      "\u001b[0;31mValueError\u001b[0m                                Traceback (most recent call last)",
      "Cell \u001b[0;32mIn[3], line 50\u001b[0m\n\u001b[1;32m     48\u001b[0m         kl_s\u001b[38;5;241m.\u001b[39mappend(np\u001b[38;5;241m.\u001b[39mmean(kl_replica))\n\u001b[1;32m     49\u001b[0m     kl\u001b[38;5;241m.\u001b[39mappend(kl_s)\n\u001b[0;32m---> 50\u001b[0m plotter_kl(kl, phi_g, chi, saveFlag\u001b[38;5;241m=\u001b[39m\u001b[38;5;28;01mTrue\u001b[39;00m)\n",
      "Cell \u001b[0;32mIn[2], line 8\u001b[0m, in \u001b[0;36mplotter_kl\u001b[0;34m(kl, phi_g, chi, saveFlag)\u001b[0m\n\u001b[1;32m      6\u001b[0m ctr \u001b[38;5;241m=\u001b[39m \u001b[38;5;241m1\u001b[39m\n\u001b[1;32m      7\u001b[0m \u001b[38;5;28;01mfor\u001b[39;00m idx, _ \u001b[38;5;129;01min\u001b[39;00m \u001b[38;5;28menumerate\u001b[39m(plot_labels):\n\u001b[0;32m----> 8\u001b[0m     ax\u001b[38;5;241m.\u001b[39mplot(betas, kl[idx], marker \u001b[38;5;241m=\u001b[39m \u001b[38;5;124m\"\u001b[39m\u001b[38;5;124m.\u001b[39m\u001b[38;5;124m\"\u001b[39m, label \u001b[38;5;241m=\u001b[39m \u001b[38;5;28mstr\u001b[39m(plot_labels[idx]), color \u001b[38;5;241m=\u001b[39m \u001b[38;5;124m\"\u001b[39m\u001b[38;5;124mk\u001b[39m\u001b[38;5;124m\"\u001b[39m, alpha \u001b[38;5;241m=\u001b[39m (ctr\u001b[38;5;241m/\u001b[39m(\u001b[38;5;28mlen\u001b[39m(plot_labels) \u001b[38;5;241m+\u001b[39m \u001b[38;5;241m1\u001b[39m))\u001b[38;5;241m*\u001b[39m\u001b[38;5;241m*\u001b[39m\u001b[38;5;241m2\u001b[39m, linewidth \u001b[38;5;241m=\u001b[39m \u001b[38;5;241m3\u001b[39m, markersize \u001b[38;5;241m=\u001b[39m \u001b[38;5;241m9\u001b[39m)\n\u001b[1;32m      9\u001b[0m     ctr \u001b[38;5;241m+\u001b[39m\u001b[38;5;241m=\u001b[39m \u001b[38;5;241m1\u001b[39m\n\u001b[1;32m     11\u001b[0m plt\u001b[38;5;241m.\u001b[39mlegend(loc \u001b[38;5;241m=\u001b[39m  \u001b[38;5;124m\"\u001b[39m\u001b[38;5;124mupper right\u001b[39m\u001b[38;5;124m\"\u001b[39m)\n",
      "File \u001b[0;32m~/softwares/anaconda3/lib/python3.12/site-packages/matplotlib/axes/_axes.py:1777\u001b[0m, in \u001b[0;36mAxes.plot\u001b[0;34m(self, scalex, scaley, data, *args, **kwargs)\u001b[0m\n\u001b[1;32m   1534\u001b[0m \u001b[38;5;250m\u001b[39m\u001b[38;5;124;03m\"\"\"\u001b[39;00m\n\u001b[1;32m   1535\u001b[0m \u001b[38;5;124;03mPlot y versus x as lines and/or markers.\u001b[39;00m\n\u001b[1;32m   1536\u001b[0m \n\u001b[0;32m   (...)\u001b[0m\n\u001b[1;32m   1774\u001b[0m \u001b[38;5;124;03m(``'green'``) or hex strings (``'#008000'``).\u001b[39;00m\n\u001b[1;32m   1775\u001b[0m \u001b[38;5;124;03m\"\"\"\u001b[39;00m\n\u001b[1;32m   1776\u001b[0m kwargs \u001b[38;5;241m=\u001b[39m cbook\u001b[38;5;241m.\u001b[39mnormalize_kwargs(kwargs, mlines\u001b[38;5;241m.\u001b[39mLine2D)\n\u001b[0;32m-> 1777\u001b[0m lines \u001b[38;5;241m=\u001b[39m [\u001b[38;5;241m*\u001b[39m\u001b[38;5;28mself\u001b[39m\u001b[38;5;241m.\u001b[39m_get_lines(\u001b[38;5;28mself\u001b[39m, \u001b[38;5;241m*\u001b[39margs, data\u001b[38;5;241m=\u001b[39mdata, \u001b[38;5;241m*\u001b[39m\u001b[38;5;241m*\u001b[39mkwargs)]\n\u001b[1;32m   1778\u001b[0m \u001b[38;5;28;01mfor\u001b[39;00m line \u001b[38;5;129;01min\u001b[39;00m lines:\n\u001b[1;32m   1779\u001b[0m     \u001b[38;5;28mself\u001b[39m\u001b[38;5;241m.\u001b[39madd_line(line)\n",
      "File \u001b[0;32m~/softwares/anaconda3/lib/python3.12/site-packages/matplotlib/axes/_base.py:297\u001b[0m, in \u001b[0;36m_process_plot_var_args.__call__\u001b[0;34m(self, axes, data, return_kwargs, *args, **kwargs)\u001b[0m\n\u001b[1;32m    295\u001b[0m     this \u001b[38;5;241m+\u001b[39m\u001b[38;5;241m=\u001b[39m args[\u001b[38;5;241m0\u001b[39m],\n\u001b[1;32m    296\u001b[0m     args \u001b[38;5;241m=\u001b[39m args[\u001b[38;5;241m1\u001b[39m:]\n\u001b[0;32m--> 297\u001b[0m \u001b[38;5;28;01myield from\u001b[39;00m \u001b[38;5;28mself\u001b[39m\u001b[38;5;241m.\u001b[39m_plot_args(\n\u001b[1;32m    298\u001b[0m     axes, this, kwargs, ambiguous_fmt_datakey\u001b[38;5;241m=\u001b[39mambiguous_fmt_datakey,\n\u001b[1;32m    299\u001b[0m     return_kwargs\u001b[38;5;241m=\u001b[39mreturn_kwargs\n\u001b[1;32m    300\u001b[0m )\n",
      "File \u001b[0;32m~/softwares/anaconda3/lib/python3.12/site-packages/matplotlib/axes/_base.py:494\u001b[0m, in \u001b[0;36m_process_plot_var_args._plot_args\u001b[0;34m(self, axes, tup, kwargs, return_kwargs, ambiguous_fmt_datakey)\u001b[0m\n\u001b[1;32m    491\u001b[0m     axes\u001b[38;5;241m.\u001b[39myaxis\u001b[38;5;241m.\u001b[39mupdate_units(y)\n\u001b[1;32m    493\u001b[0m \u001b[38;5;28;01mif\u001b[39;00m x\u001b[38;5;241m.\u001b[39mshape[\u001b[38;5;241m0\u001b[39m] \u001b[38;5;241m!=\u001b[39m y\u001b[38;5;241m.\u001b[39mshape[\u001b[38;5;241m0\u001b[39m]:\n\u001b[0;32m--> 494\u001b[0m     \u001b[38;5;28;01mraise\u001b[39;00m \u001b[38;5;167;01mValueError\u001b[39;00m(\u001b[38;5;124mf\u001b[39m\u001b[38;5;124m\"\u001b[39m\u001b[38;5;124mx and y must have same first dimension, but \u001b[39m\u001b[38;5;124m\"\u001b[39m\n\u001b[1;32m    495\u001b[0m                      \u001b[38;5;124mf\u001b[39m\u001b[38;5;124m\"\u001b[39m\u001b[38;5;124mhave shapes \u001b[39m\u001b[38;5;132;01m{\u001b[39;00mx\u001b[38;5;241m.\u001b[39mshape\u001b[38;5;132;01m}\u001b[39;00m\u001b[38;5;124m and \u001b[39m\u001b[38;5;132;01m{\u001b[39;00my\u001b[38;5;241m.\u001b[39mshape\u001b[38;5;132;01m}\u001b[39;00m\u001b[38;5;124m\"\u001b[39m)\n\u001b[1;32m    496\u001b[0m \u001b[38;5;28;01mif\u001b[39;00m x\u001b[38;5;241m.\u001b[39mndim \u001b[38;5;241m>\u001b[39m \u001b[38;5;241m2\u001b[39m \u001b[38;5;129;01mor\u001b[39;00m y\u001b[38;5;241m.\u001b[39mndim \u001b[38;5;241m>\u001b[39m \u001b[38;5;241m2\u001b[39m:\n\u001b[1;32m    497\u001b[0m     \u001b[38;5;28;01mraise\u001b[39;00m \u001b[38;5;167;01mValueError\u001b[39;00m(\u001b[38;5;124mf\u001b[39m\u001b[38;5;124m\"\u001b[39m\u001b[38;5;124mx and y can be no greater than 2D, but have \u001b[39m\u001b[38;5;124m\"\u001b[39m\n\u001b[1;32m    498\u001b[0m                      \u001b[38;5;124mf\u001b[39m\u001b[38;5;124m\"\u001b[39m\u001b[38;5;124mshapes \u001b[39m\u001b[38;5;132;01m{\u001b[39;00mx\u001b[38;5;241m.\u001b[39mshape\u001b[38;5;132;01m}\u001b[39;00m\u001b[38;5;124m and \u001b[39m\u001b[38;5;132;01m{\u001b[39;00my\u001b[38;5;241m.\u001b[39mshape\u001b[38;5;132;01m}\u001b[39;00m\u001b[38;5;124m\"\u001b[39m)\n",
      "\u001b[0;31mValueError\u001b[0m: x and y must have same first dimension, but have shapes (3,) and (1,)"
     ]
    },
    {
     "data": {
      "image/png": "[encoded data removed]",
      "text/plain": [
       "<Figure size 1000x600 with 1 Axes>"
      ]
     },
     "metadata": {},
     "output_type": "display_data"
    }
   ],
   "source": [
    "BETAs = [1, 5, 10]\n",
    "nSTEPSs = [100, 1000, 10000, 100000, 1000000]\n",
    "REPLICAs = [1, 2, 3, 4, 5]\n",
    "PHI_1_GLOBALs = np.linspace(1e-3, 1-1e-3, 10)\n",
    "CHIs = np.linspace(1, 3, 10)\n",
    "\n",
    "for phi_g in tqdm(PHI_1_GLOBALs):\n",
    "    for chi in CHIs:\n",
    "        kl = []\n",
    "        for nSteps in nSTEPSs:\n",
    "            kl_s = []\n",
    "            for beta in BETAs:\n",
    "                kl_replica = []\n",
    "                for replica in REPLICAs:\n",
    "                    df_brute = pd.read_pickle(f\"../data/brute_force/mesh-100/chi-{chi:.3f}/phi_g-{phi_g:.3f}/df/df_brute.pkl\", compression = \"gzip\")\n",
    "                    \n",
    "                    df_brute[\"boltzmann_factor\"] = np.exp(-beta*df_brute[\"F\"])\n",
    "                    Z = df_brute[\"boltzmann_factor\"].sum()\n",
    "                    df_brute[\"probability_Q\"] = df_brute[\"boltzmann_factor\"]/Z\n",
    "                    \n",
    "                    \n",
    "                    df_mcmc = pd.read_pickle(f\"../data/mcmc/mesh-100/chi-{chi:.3f}/phi_g-{phi_g:.3f}/steps-{nSteps}/beta-{beta}/df/df_mcmc-replica{replica}.pkl\", compression = \"gzip\")\n",
    "                    df_counts = df_mcmc.groupby([\"phi11\", \"eta1\"]).size().reset_index(name=\"count\")\n",
    "                    df_counts[\"probability_P\"] = df_counts[\"count\"]/df_counts[\"count\"].sum()\n",
    "                    \n",
    "                    \n",
    "                    df_merged = pd.merge(df_counts[['phi11', 'eta1', 'probability_P']], df_brute[['phi11', 'eta1', 'probability_Q']], on=['phi11', 'eta1'], how='outer')\n",
    "                    df_merged['probability_P'] = df_merged['probability_P'].fillna(0)  # Unvisited states get P(x,y) = 0\n",
    "                    epsilon = 1e-10\n",
    "                    df_merged['probability_Q'] = df_merged['probability_Q'].fillna(epsilon)\n",
    "                    \n",
    "                    P = df_merged[\"probability_P\"].values\n",
    "                    Q = df_merged[\"probability_Q\"].values\n",
    "\n",
    "                    plotter_landscapes(df_merged, phi_g, chi, beta, nSteps, replica, saveFlag=True)\n",
    "                    \n",
    "                    KL_divergence = entropy(P, Q)\n",
    "                    kl_replica.append(KL_divergence)\n",
    "                kl_s.append(np.mean(kl_replica))\n",
    "            kl.append(kl_s)\n",
    "        plotter_kl(kl, phi_g, chi, saveFlag=True)\n",
    "                # print(f\"phi_g {phi_g:.3f}, chi {chi:.3f}, beta {beta:.3f}, KL Divergence: {KL_divergence:.3f}\")\n",
    "            # print()"
   ]
  },
  {
   "cell_type": "code",
   "execution_count": null,
   "id": "ca7172ad-938f-4b79-b1b9-88d2c2714a0a",
   "metadata": {},
   "outputs": [],
   "source": []
  },
  {
   "cell_type": "code",
   "execution_count": null,
   "id": "3021b40d-a95d-4404-a9b3-a5bb38b02958",
   "metadata": {},
   "outputs": [],
   "source": []
  }
 ],
 "metadata": {
  "kernelspec": {
   "display_name": "Python 3 (ipykernel)",
   "language": "python",
   "name": "python3"
  },
  "language_info": {
   "codemirror_mode": {
    "name": "ipython",
    "version": 3
   },
   "file_extension": ".py",
   "mimetype": "text/x-python",
   "name": "python",
   "nbconvert_exporter": "python",
   "pygments_lexer": "ipython3",
   "version": "3.12.2"
  }
 },
 "nbformat": 4,
 "nbformat_minor": 5
}
