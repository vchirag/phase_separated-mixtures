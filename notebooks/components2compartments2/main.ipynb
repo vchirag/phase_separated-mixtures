{
 "cells": [
  {
   "cell_type": "code",
   "execution_count": 1,
   "id": "e230228c-e1b6-44f0-9bf6-90ec53de8bef",
   "metadata": {},
   "outputs": [],
   "source": [
    "import numpy as np\n",
    "DTYPE = np.float64\n",
    "# epsilon = np.finfo(DTYPE).eps\n",
    "epsilon = 1e-3\n",
    "\n",
    "import matplotlib.pyplot as plt\n",
    "import seaborn as sns\n",
    "\n",
    "from tqdm import tqdm\n",
    "\n",
    "import pandas as pd\n",
    "\n",
    "import os"
   ]
  },
  {
   "cell_type": "code",
   "execution_count": 2,
   "id": "61cbdee2-efc2-4222-946c-fc2ae89b83a6",
   "metadata": {},
   "outputs": [],
   "source": [
    "# mol vol.s same for different species\n",
    "\n",
    "def floryHugginsFreeEnergy(phi:DTYPE, chi:DTYPE):\n",
    "    res = phi*np.log(phi) + (1-phi)*np.log(1-phi) + chi*phi*(1-phi)\n",
    "    return res"
   ]
  },
  {
   "cell_type": "code",
   "execution_count": 3,
   "id": "e8c62b94-292d-4714-aaeb-80ccd7a8ec4d",
   "metadata": {},
   "outputs": [
    {
     "data": {
      "text/plain": [
       "'\\nCompartment Parameters\\n\\nphi11: concentration of component 1 in compartment 1 -> randomly chosen from a uniform distribution u(0, PHI1_GLOBAL)\\nphi12: concentration of component 1 in compartment 2\\nphi21: concentration of component 2 in compartment 1\\nphi22: concentration of component 2 in compartment 2\\n\\neta1: size of compartment 1\\n'"
      ]
     },
     "execution_count": 3,
     "metadata": {},
     "output_type": "execute_result"
    }
   ],
   "source": [
    "'''\n",
    "System Parameters:\n",
    "\n",
    "Given: the total concentration of component 1 in the system\n",
    "'''\n",
    "# PHI1_GLOBALs = [DTYPE(0.5)] # Setting the global value of the first component in the system\n",
    "PHI1_GLOBALs = DTYPE(np.linspace(epsilon, 1-epsilon, 20)) # Setting the global value of the first component in the system\n",
    "\n",
    "ETA_GLOBAL = DTYPE(1) # Setting the global system size as 1\n",
    "\n",
    "'''\n",
    "Flory Parameter(s)\n",
    "'''\n",
    "# chi = DTYPE(1.8) # test chi\n",
    "CHIs = DTYPE(np.linspace(1, 3, 20))\n",
    "\n",
    "'''\n",
    "Compartment Parameters\n",
    "\n",
    "phi11: concentration of component 1 in compartment 1 -> randomly chosen from a uniform distribution u(0, PHI1_GLOBAL)\n",
    "phi12: concentration of component 1 in compartment 2\n",
    "phi21: concentration of component 2 in compartment 1\n",
    "phi22: concentration of component 2 in compartment 2\n",
    "\n",
    "eta1: size of compartment 1\n",
    "'''\n",
    "\n",
    "# eta1 = np.linspace(0, ETA_GLOBAL, 10, dtype=DTYPE) # Size of compartment 1\n",
    "# eta1 = DTYPE(np.random.uniform(epsilon, ETA_GLOBAL-epsilon, size=1000))\n",
    "# eta2 = 1 - eta1"
   ]
  },
  {
   "cell_type": "code",
   "execution_count": null,
   "id": "0fc3be7a-da34-4c14-9c20-673fdff7403f",
   "metadata": {},
   "outputs": [
    {
     "name": "stdout",
     "output_type": "stream",
     "text": [
      "Saved @ data/chi-1.000/phi_g-0.001.png\n",
      "Saved @ data/chi-1.000/phi_g-0.112.png\n",
      "Saved @ data/chi-1.000/phi_g-0.223.png\n",
      "Saved @ data/chi-1.000/phi_g-0.334.png\n",
      "Saved @ data/chi-1.000/phi_g-0.445.png\n"
     ]
    }
   ],
   "source": [
    "'''\n",
    "Free energies\n",
    "\n",
    "f1: free energy of compartment 1\n",
    "f2: free energy of compartment 2\n",
    "\n",
    "f_total: total free energy of the system\n",
    "'''\n",
    "\n",
    "for chi in CHIs:\n",
    "    for PHI1_GLOBAL in PHI1_GLOBALs: # Initializing a different system with different global concentration of component 1\n",
    "        acceptable_phi11s = []\n",
    "        acceptable_eta1s = []\n",
    "        acceptable_fs = []\n",
    "        \n",
    "        for eta_1 in DTYPE(np.linspace(0+epsilon, 1-epsilon, 1000)): # Setting the compartment 1 size for the system\n",
    "            for phi_11 in DTYPE(np.linspace(0+epsilon, 1-epsilon, 1000)): # Setting the concentration of component 1 in the first compartment\n",
    "                phi_12 = (PHI1_GLOBAL - phi_11*eta_1)/(1-eta_1) # Computing phi_12 according to the constraint\n",
    "                \n",
    "                flag = 0\n",
    "                \n",
    "                if (phi_12 >= 0 and phi_12 <= 1): # Checking if the computed value of phi_12 is physically acceptable\n",
    "                    flag = 1\n",
    "                    f1 = floryHugginsFreeEnergy(phi_11, chi)\n",
    "                    f2 = floryHugginsFreeEnergy(phi_12, chi)\n",
    "    \n",
    "                    f = eta_1*f1 + (1-eta_1)*f2\n",
    "    \n",
    "                    acceptable_phi11s.append(phi_11)\n",
    "                    acceptable_eta1s.append(eta_1)\n",
    "                    acceptable_fs.append(f)\n",
    "                    \n",
    "                # print(f\"{eta_1:.3f}, {phi_11:.3f}, {phi_12:.3f}, {f1:.3f}, {f2:.3f}, {f:.3f}\", flag) # Get an intuition about how many solutions are rejectede\n",
    "        \n",
    "        df = pd.DataFrame()\n",
    "        df[\"phi11\"] = acceptable_phi11s\n",
    "        df[\"eta1\"] = acceptable_eta1s\n",
    "        df[\"F\"] = acceptable_fs\n",
    "        df[\"log|F|\"] = np.log(np.abs(df[\"F\"]))\n",
    "    \n",
    "    \n",
    "    \n",
    "        fig = plt.figure(figsize=plt.figaspect(0.5))\n",
    "    \n",
    "        ax = fig.add_subplot(1, 2, 1, projection='3d')\n",
    "        # sizes = (df['F'] + df['F'].min()) / (df['F'].max() + df['F'].min())*5  # Normalized\n",
    "        ax.scatter(df['phi11'], df['eta1'], df['F'], c=df['F'], cmap='viridis', s = 1)\n",
    "        ax.set_xlabel(r\"$\\phi_{11}$\")\n",
    "        ax.set_ylabel(r\"$\\eta_1$\")\n",
    "        ax.set_zlabel('F')\n",
    "    \n",
    "        ax = fig.add_subplot(1, 2, 2)\n",
    "    \n",
    "        title = r\"$\\phi_1^{\\text{global}}$ = \" + f\"{PHI1_GLOBAL:.3f}\" + \"\\n\" + r\"$\\chi = $\" + f\"{chi:.3f}\"\n",
    "        fig.suptitle(title)\n",
    "        pivot = df.pivot(index='eta1', columns='phi11', values='F')\n",
    "     \n",
    "        sns.heatmap(pivot, cmap='viridis', ax = ax)\n",
    "    \n",
    "        ax.set_xticks(np.arange(0, len(pivot.columns), 100))\n",
    "        ax.set_xticklabels( [f\"{val:.3f}\" for val in pivot.columns[::100]], rotation=90)\n",
    "        ax.set_xlabel(r\"$\\phi_{11}$\")\n",
    "    \n",
    "        ax.set_yticks(np.arange(0, len(pivot.index), 100))\n",
    "        ax.set_yticklabels([f\"{val:.3f}\" for val in pivot.index[::100]], rotation=0);\n",
    "        ax.set_ylabel(r\"$\\eta_1$\")\n",
    "        \n",
    "        fig.tight_layout()\n",
    "\n",
    "        output_filepath = f\"data/chi-{chi:.3f}\"\n",
    "        output_filename = f\"phi_g-{PHI1_GLOBAL:.3f}.png\"\n",
    "\n",
    "        if not os.path.exists(output_filepath):\n",
    "            os.makedirs(output_filepath)\n",
    "        \n",
    "        file = os.path.join(output_filepath, output_filename)     \n",
    "        \n",
    "        plt.savefig(file, dpi = 400)\n",
    "        plt.close()\n",
    "\n",
    "        print(f\"Saved @ {file}\")"
   ]
  },
  {
   "cell_type": "code",
   "execution_count": null,
   "id": "5fae738f-a88a-471e-baf7-b6c1dbde3c26",
   "metadata": {},
   "outputs": [],
   "source": []
  }
 ],
 "metadata": {
  "kernelspec": {
   "display_name": "Python 3 (ipykernel)",
   "language": "python",
   "name": "python3"
  },
  "language_info": {
   "codemirror_mode": {
    "name": "ipython",
    "version": 3
   },
   "file_extension": ".py",
   "mimetype": "text/x-python",
   "name": "python",
   "nbconvert_exporter": "python",
   "pygments_lexer": "ipython3",
   "version": "3.12.2"
  }
 },
 "nbformat": 4,
 "nbformat_minor": 5
}
