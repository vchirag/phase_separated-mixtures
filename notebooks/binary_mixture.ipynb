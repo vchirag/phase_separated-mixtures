{
 "cells": [
  {
   "cell_type": "markdown",
   "id": "64155d2b-82ae-4959-8088-45d1eff8490d",
   "metadata": {},
   "source": [
    "### Binary mixture phase diagrams using Flory-Huggins Free Energy\n"
   ]
  },
  {
   "cell_type": "code",
   "execution_count": 1,
   "id": "63dbc462-9614-4a70-939b-286e91a8e427",
   "metadata": {},
   "outputs": [],
   "source": [
    "import numpy as np\n",
    "DTYPE = np.float64 # Double precision\n",
    "epsilon = np.finfo(DTYPE).eps\n",
    "\n",
    "import numdifftools as nd\n",
    "\n",
    "import matplotlib\n",
    "import matplotlib.pyplot as plt\n",
    "\n",
    "from tqdm import tqdm\n",
    "\n",
    "from numba import njit\n",
    "\n",
    "import warnings\n",
    "warnings.filterwarnings(\"ignore\")"
   ]
  },
  {
   "cell_type": "code",
   "execution_count": 2,
   "id": "3cf86dce-6789-46ae-b9b1-718d00a5f049",
   "metadata": {},
   "outputs": [],
   "source": [
    "def floryHuggins_2components(phi, nu, nA, nB, chi):\n",
    "    res = (phi*np.log(phi)/nA) + ((1-phi)*np.log(1-phi)/nB) + chi*phi*(1-phi)\n",
    "    return res/nu"
   ]
  },
  {
   "cell_type": "code",
   "execution_count": 3,
   "id": "d895bb25-d42f-4ae7-a398-b0119a7f5d64",
   "metadata": {},
   "outputs": [],
   "source": [
    "# concentration of the first component\n",
    "n_phis = 1000\n",
    "phis = np.linspace(epsilon, 1-epsilon, n_phis)\n",
    "\n",
    "# Molecular parameters\n",
    "nu = DTYPE(1)\n",
    "nA = DTYPE(1)\n",
    "nB = DTYPE(1)\n",
    "\n",
    "# Flory parameter\n",
    "chis = np.linspace(epsilon, 5, 100, dtype = DTYPE)\n",
    "# chis = [2.116]"
   ]
  },
  {
   "cell_type": "code",
   "execution_count": 4,
   "id": "7dee33c7-73c9-4aa6-91ec-f532ed194c47",
   "metadata": {},
   "outputs": [
    {
     "name": "stderr",
     "output_type": "stream",
     "text": [
      "100%|█████████████████████████████████████████| 100/100 [00:40<00:00,  2.50it/s]\n"
     ]
    }
   ],
   "source": [
    "df_dphis_chis = [] # values of delF/delphi for all phis and chis. Indexed by the value of chi \n",
    "\n",
    "for chi in tqdm(chis):\n",
    "    binodal_chi = [] # binodal points for this specific chi\n",
    "    \n",
    "    first_derivative = nd.Derivative(lambda phi: floryHuggins_2components(phi, nu, nA, nB, chi), n=1)\n",
    "    df_dphis_chi = [] # values of delF/delphi for all phis for a particular chi\n",
    "    \n",
    "    for idx, phi in enumerate(phis):\n",
    "        df_dphi_phi = first_derivative(phi) # value of delF/delphi for a particular phi for a particular chi\n",
    "        df_dphis_chi.append(df_dphi_phi)    \n",
    "\n",
    "    df_dphis_chis.append(df_dphis_chi)"
   ]
  },
  {
   "cell_type": "code",
   "execution_count": 5,
   "id": "66ad1cca-15fa-484e-8aa5-8c15fcc750ca",
   "metadata": {},
   "outputs": [],
   "source": [
    "binodals = []\n",
    "for chi_idx, chi in enumerate(chis):\n",
    "    binodals_chi = []\n",
    "    for idx, df_dphi in enumerate(df_dphis_chis[chi_idx][:]):\n",
    "        if np.sign(df_dphis_chis[chi_idx][idx]) == -1 and np.sign(df_dphis_chis[chi_idx][idx+1]) == 1:\n",
    "            binodals_chi.append(phis[idx])\n",
    "    binodals.append(binodals_chi)"
   ]
  },
  {
   "cell_type": "code",
   "execution_count": 7,
   "id": "d231f819-f72e-442d-83d4-24c2942fee02",
   "metadata": {},
   "outputs": [
    {
     "name": "stderr",
     "output_type": "stream",
     "text": [
      "100%|█████████████████████████████████████████| 100/100 [00:40<00:00,  2.44it/s]\n"
     ]
    }
   ],
   "source": [
    "ddf_ddphis_chis = [] # values of ddelF/ddelphi for all phis and chis. Indexed by the value of chi \n",
    "\n",
    "for chi in tqdm(chis):\n",
    "    spinodal_chi = [] # spinodal points for this specific chi\n",
    "    \n",
    "    second_derivative = nd.Derivative(lambda phi: floryHuggins_2components(phi, nu, nA, nB, chi), n=2)\n",
    "    ddf_ddphis_chi = [] # values of ddelF/ddelphi for all phis for a particular chi\n",
    "    \n",
    "    for idx, phi in enumerate(phis):\n",
    "        ddf_ddphi_phi = second_derivative(phi) # value of ddelF/ddelphi for a particular phi for a particular chi\n",
    "        ddf_ddphis_chi.append(ddf_ddphi_phi)    \n",
    "\n",
    "    ddf_ddphis_chis.append(ddf_ddphis_chi)"
   ]
  },
  {
   "cell_type": "code",
   "execution_count": 8,
   "id": "d8a70a1b-ebee-436f-b807-056b4b63a605",
   "metadata": {},
   "outputs": [],
   "source": [
    "spinodals = []\n",
    "for chi_idx, chi in enumerate(chis):\n",
    "    spinodals_chi = []\n",
    "    for idx, ddf_ddphi in enumerate(ddf_ddphis_chis[chi_idx][:-1]):\n",
    "        if (np.sign(ddf_ddphis_chis[chi_idx][idx]) == 1 and np.sign(ddf_ddphis_chis[chi_idx][idx+1]) == -1) or (np.sign(ddf_ddphis_chis[chi_idx][idx]) == -1 and np.sign(ddf_ddphis_chis[chi_idx][idx+1]) == 1):\n",
    "            spinodals_chi.append(phis[idx])\n",
    "            # print(idx, np.sign(df_dphis_chis[chi_idx][idx]), np.sign(df_dphis_chis[chi_idx][idx+1]), phis[idx])\n",
    "    spinodals.append(spinodals_chi)"
   ]
  },
  {
   "cell_type": "code",
   "execution_count": 45,
   "id": "8491ed54-65f1-49ec-8479-8d843f921e5f",
   "metadata": {},
   "outputs": [
    {
     "data": {
      "text/plain": [
       "<matplotlib.legend.Legend at 0x725a0043a570>"
      ]
     },
     "execution_count": 45,
     "metadata": {},
     "output_type": "execute_result"
    },
    {
     "data": {
      "image/png": "[encoded data removed]",
      "text/plain": [
       "<Figure size 640x480 with 1 Axes>"
      ]
     },
     "metadata": {},
     "output_type": "display_data"
    }
   ],
   "source": [
    "fig, ax= plt.subplots()\n",
    "\n",
    "for idx, chi in enumerate(chis):\n",
    "    for idx_binodal, critical_point in enumerate(binodals[idx]):\n",
    "        ax.scatter(critical_point, chi, color = \"k\", s = 1)\n",
    "\n",
    "    for idx_spinodal, critical_point in enumerate(spinodals[idx]):\n",
    "        ax.scatter(critical_point, chi, color = \"r\", s = 1)\n",
    "        \n",
    "ax.legend(loc = \"upper right\")"
   ]
  },
  {
   "cell_type": "code",
   "execution_count": null,
   "id": "25fbab70-5dc5-4a7f-99f9-67efdc88c657",
   "metadata": {},
   "outputs": [],
   "source": []
  }
 ],
 "metadata": {
  "kernelspec": {
   "display_name": "Python 3 (ipykernel)",
   "language": "python",
   "name": "python3"
  },
  "language_info": {
   "codemirror_mode": {
    "name": "ipython",
    "version": 3
   },
   "file_extension": ".py",
   "mimetype": "text/x-python",
   "name": "python",
   "nbconvert_exporter": "python",
   "pygments_lexer": "ipython3",
   "version": "3.12.7"
  }
 },
 "nbformat": 4,
 "nbformat_minor": 5
}
