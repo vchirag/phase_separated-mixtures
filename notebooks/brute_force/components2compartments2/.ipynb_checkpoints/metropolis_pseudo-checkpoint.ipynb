{
 "cells": [
  {
   "cell_type": "code",
   "execution_count": 2,
   "id": "e8e175b1-2255-4731-b536-d68d14018da9",
   "metadata": {},
   "outputs": [],
   "source": [
    "import numpy as np\n",
    "DTYPE = np.float64\n",
    "\n",
    "import matplotlib.pyplot as plt\n",
    "\n",
    "import pandas as pd\n",
    "\n",
    "from tqdm import tqdm"
   ]
  },
  {
   "cell_type": "code",
   "execution_count": 3,
   "id": "392a0598-77b3-4863-b5cc-9c580481f9a4",
   "metadata": {},
   "outputs": [],
   "source": [
    "def floryHuggins_2components(phi:DTYPE, chi:DTYPE):\n",
    "    f = phi*np.log(phi) + (1-phi)*np.log(1-phi) + chi*phi*(1-phi)\n",
    "    return f"
   ]
  },
  {
   "cell_type": "code",
   "execution_count": 35,
   "id": "1ae22a4f-818a-40ad-8f30-36a9cc791e02",
   "metadata": {},
   "outputs": [],
   "source": [
    "class metropolis:\n",
    "    def __init__(self, beta):\n",
    "        self.beta = beta;\n",
    "        \n",
    "    def metropolisStep(self, current_phi_11, current_eta_1):\n",
    "        proposal_phi_11 = np.random.uniform(0, 1)\n",
    "        proposal_eta_1 = np.random.uniform(0, 1)\n",
    "\n",
    "        proposal_phi_12 = (phi_global - proposal_eta_1*proposal_phi_11)/(1-proposal_eta_1)\n",
    "        \n",
    "        if phi_12 <= 1 and phi_12 >= 0:\n",
    "            f_1_current = floryHuggins_2components(current_phi_11, chi) \n",
    "            f_2_current = floryHuggins_2components(current_phi_12, chi) \n",
    "\n",
    "            f_current = current_eta_1*f_1_current  + (1-current_eta_1)*f_2_current\n",
    "\n",
    "\n",
    "            f_1_proposal = floryHuggins_2components(proposal_phi_11, chi)\n",
    "            f_2_proposal = floryHuggins_2components(proposal_phi_12, chi)\n",
    "            \n",
    "            f_proposal = proposal_phi_11*f_1_proposal + proposal_phi_12*f_2_proposal\n",
    "\n",
    "            delta_f = f_proposal - f_current\n",
    "\n",
    "            if delta_f < 0 or np.random.uniform(0, 1) < np.exp(-self.beta*delta_f):\n",
    "                return [proposal_phi_11, proposal_eta_1]\n",
    "            else:\n",
    "                return [current_phi_11, current_eta_1]\n",
    "        else:\n",
    "            return [current_phi_11, current_eta_1]\n",
    "        \n",
    "    def simulate(self, start_phi_11, start_eta_1, nSteps):\n",
    "        walk = []\n",
    "        walk.append([start_phi_11, start_eta_1])\n",
    "            \n",
    "        for i in range(nSteps):\n",
    "            [new_phi_11, new_eta_1] = metropolisStep(start_phi_11, start_eta_1)\n",
    "            walk.append([new_phi_11, new_eta_1])\n",
    "\n",
    "            start_phi_11, start_eta_1 = new_phi_1, new_eta_1"
   ]
  },
  {
   "cell_type": "code",
   "execution_count": 36,
   "id": "392d8461-2c57-4bbf-b40b-f59ea0964f0d",
   "metadata": {},
   "outputs": [
    {
     "ename": "SyntaxError",
     "evalue": "invalid syntax (3409190063.py, line 1)",
     "output_type": "error",
     "traceback": [
      "\u001b[0;36m  Cell \u001b[0;32mIn[36], line 1\u001b[0;36m\u001b[0m\n\u001b[0;31m    metropolis m\u001b[0m\n\u001b[0m               ^\u001b[0m\n\u001b[0;31mSyntaxError\u001b[0m\u001b[0;31m:\u001b[0m invalid syntax\n"
     ]
    }
   ],
   "source": [
    "metropolis m"
   ]
  },
  {
   "cell_type": "code",
   "execution_count": null,
   "id": "40586e83-f010-41f1-a321-d80a844092e5",
   "metadata": {},
   "outputs": [],
   "source": []
  }
 ],
 "metadata": {
  "kernelspec": {
   "display_name": "Python 3 (ipykernel)",
   "language": "python",
   "name": "python3"
  },
  "language_info": {
   "codemirror_mode": {
    "name": "ipython",
    "version": 3
   },
   "file_extension": ".py",
   "mimetype": "text/x-python",
   "name": "python",
   "nbconvert_exporter": "python",
   "pygments_lexer": "ipython3",
   "version": "3.12.2"
  }
 },
 "nbformat": 4,
 "nbformat_minor": 5
}
