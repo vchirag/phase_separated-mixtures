{
 "cells": [
  {
   "cell_type": "code",
   "execution_count": 1,
   "id": "31508d4a-4361-4191-8171-71043da7ea44",
   "metadata": {},
   "outputs": [],
   "source": [
    "import numpy as np\n",
    "DTYPE = np.float64\n",
    "\n",
    "import matplotlib.pyplot as plt\n",
    "from tqdm import tqdm\n"
   ]
  },
  {
   "cell_type": "code",
   "execution_count": 2,
   "id": "5c18aca2-2c0b-425a-9849-83e2a8877496",
   "metadata": {},
   "outputs": [],
   "source": [
    "# Dimensions of the parameter space:\n",
    "D = 2\n",
    "\n",
    "# Mesh Size\n",
    "N = 100"
   ]
  },
  {
   "cell_type": "code",
   "execution_count": 28,
   "id": "7170569b-d6ba-459d-9efb-4d31f4e2a930",
   "metadata": {},
   "outputs": [],
   "source": [
    "def floryHuggins_2components(phi:DTYPE, chi:DTYPE):\n",
    "    f = phi*np.log(phi) + (1-phi)*np.log(1-phi) + chi*phi*(1-phi)\n",
    "    return f"
   ]
  },
  {
   "cell_type": "code",
   "execution_count": 35,
   "id": "69744cac-06e3-42db-9cd6-3d57aff1fe7b",
   "metadata": {},
   "outputs": [],
   "source": [
    "class c2c2:\n",
    "    def __init__(self, beta, phi_global, chi, D, N):\n",
    "        self.beta = beta\n",
    "        self.phi_global = phi_global\n",
    "        self.D = D\n",
    "        self.chi = chi\n",
    "        self.N = N\n",
    "        \n",
    "    def createMesh(self):\n",
    "        mesh = np.zeros((self.D, self.N + 1), dtype = DTYPE)\n",
    "        \n",
    "        for _ in range(self.D):\n",
    "            for idx in range(self.N + 1):\n",
    "                mesh[_][idx] = idx/self.N\n",
    "\n",
    "        return mesh\n",
    "\n",
    "    def metropolisStep(self, current_idx_phi_11, current_idx_eta_1):\n",
    "        mesh = self.createMesh()\n",
    "        \n",
    "        current_phi_12 = (self.phi_global - mesh[1][current_idx_eta_1]*mesh[0][current_idx_phi_11])/(1-mesh[1][current_idx_eta_1])\n",
    "        \n",
    "        \n",
    "        if current_idx_phi_11 == 0 '''and current_idx_eta_1 == 0''':\n",
    "            proposal_idx_phi_11 = current_idx_phi_11 + 1\n",
    "            # proposal_idx_eta_1 = current_idx_eta_1 + 1\n",
    "        \n",
    "        elif '''current_idx_phi_11 != 0 and''' current_idx_eta_1 == 0:\n",
    "            # proposal_idx_phi_11 = current_idx_phi_11\n",
    "            proposal_idx_eta_1 = current_idx_eta_1 + 1\n",
    "        \n",
    "        elif current_idx_phi_11 == self.N+1:\n",
    "            proposal_idx_phi_11 = current_idx_phi_11 - 1\n",
    "            # proposal_idx_eta_1 = current_idx_eta_1\n",
    "        \n",
    "        elif current_idx_eta_1 == self.N+1:\n",
    "            # proposal_idx_phi_11 = current_idx_phi_11 - 1\n",
    "            proposal_idx_eta_1 = current_idx_eta_1 - 1\n",
    "        \n",
    "        else:\n",
    "            p = np.random.uniform(0, 1)\n",
    "            \n",
    "            if p <= 0.25:\n",
    "                proposal_idx_phi_11 = current_idx_phi_11\n",
    "                proposal_idx_eta_1 = current_idx_eta_1\n",
    "            elif 0.25 <= p  and p <= 0.5:\n",
    "                proposal_idx_phi_11 = current_idx_phi_11 + 1\n",
    "                proposal_idx_eta_1 = current_idx_eta_1\n",
    "            elif 0.5 <= p  and p <= 0.75:\n",
    "                proposal_idx_phi_11 = current_idx_phi_11\n",
    "                proposal_idx_eta_1 = current_idx_eta_1 + 1\n",
    "            else:\n",
    "                proposal_idx_phi_11 = current_idx_phi_11 + 1\n",
    "                proposal_idx_eta_1 = current_idx_eta_1 + 1\n",
    "\n",
    "        proposal_phi_12 = (self.phi_global - mesh[1][proposal_idx_eta_1]*mesh[0][proposal_idx_phi_11])/(1-mesh[1][proposal_idx_eta_1])\n",
    "        \n",
    "        if proposal_phi_12 <= 1 and proposal_phi_12 >= 0:\n",
    "            f_1_current = floryHuggins_2components(mesh[0][current_idx_phi_11], self.chi) \n",
    "            f_2_current = floryHuggins_2components(current_phi_12, self.chi) \n",
    "\n",
    "            f_current = mesh[1][current_idx_eta_1]*f_1_current  + (1-mesh[1][current_idx_eta_1])*f_2_current\n",
    "\n",
    "\n",
    "            f_1_proposal = floryHuggins_2components(mesh[0][proposal_idx_phi_11], self.chi)\n",
    "            f_2_proposal = floryHuggins_2components(proposal_phi_12, self.chi)\n",
    "            \n",
    "            f_proposal = mesh[1][proposal_idx_eta_1]*f_1_proposal + mesh[1][proposal_idx_eta_1]*f_2_proposal\n",
    "\n",
    "            delta_f = f_proposal - f_current\n",
    "\n",
    "            if delta_f < 0 or np.random.uniform(0, 1) < np.exp(-self.beta*delta_f):\n",
    "                return [proposal_idx_phi_11, proposal_idx_eta_1]\n",
    "            else:\n",
    "                return [current_idx_phi_11, current_idx_eta_1]\n",
    "        else:\n",
    "            return [current_idx_phi_11, current_idx_eta_1]\n",
    "\n",
    "    def simulate(self, start_idx_phi_11, start_idx_eta_1, nSteps):\n",
    "        walk = []\n",
    "        walk.append([start_idx_phi_11, start_idx_eta_1])\n",
    "            \n",
    "        for i in range(nSteps):\n",
    "            [new_idx_phi_11, new_idx_eta_1] = self.metropolisStep(start_idx_phi_11, start_idx_eta_1)\n",
    "            walk.append([new_idx_phi_11, new_idx_eta_1])\n",
    "\n",
    "            start_idx_phi_11, start_idx_eta_1 = new_idx_phi_11, new_idx_eta_1\n",
    "            # print([new_phi_11, new_eta_1])\n",
    "        \n",
    "        return walk"
   ]
  },
  {
   "cell_type": "code",
   "execution_count": 36,
   "id": "ffac2a14-090a-486a-a0a1-e2eb5279f57c",
   "metadata": {},
   "outputs": [],
   "source": [
    "m = c2c2(beta = 1, phi_global = 0.223, chi = 2.778, D = 2, N = 100)"
   ]
  },
  {
   "cell_type": "code",
   "execution_count": 43,
   "id": "4335ce2f-60fe-4799-b004-f1c5e78c72fc",
   "metadata": {},
   "outputs": [
    {
     "data": {
      "text/plain": [
       "[[5, 40],\n",
       " [5, 40],\n",
       " [5, 40],\n",
       " [5, 41],\n",
       " [5, 42],\n",
       " [6, 43],\n",
       " [6, 43],\n",
       " [6, 43],\n",
       " [7, 43],\n",
       " [7, 43],\n",
       " [7, 44],\n",
       " [7, 45],\n",
       " [8, 45],\n",
       " [9, 45],\n",
       " [10, 46],\n",
       " [10, 46],\n",
       " [11, 46],\n",
       " [12, 47],\n",
       " [13, 47],\n",
       " [14, 47],\n",
       " [14, 47],\n",
       " [14, 48],\n",
       " [14, 48],\n",
       " [14, 49],\n",
       " [14, 49],\n",
       " [14, 50],\n",
       " [15, 50],\n",
       " [15, 50],\n",
       " [15, 50],\n",
       " [16, 51],\n",
       " [17, 51],\n",
       " [18, 51],\n",
       " [19, 52],\n",
       " [19, 52],\n",
       " [19, 53],\n",
       " [19, 53],\n",
       " [19, 53],\n",
       " [20, 53],\n",
       " [21, 54],\n",
       " [22, 54],\n",
       " [22, 55],\n",
       " [23, 55],\n",
       " [24, 55],\n",
       " [24, 55],\n",
       " [24, 55],\n",
       " [24, 56],\n",
       " [25, 57],\n",
       " [26, 57],\n",
       " [26, 58],\n",
       " [27, 58],\n",
       " [28, 59],\n",
       " [28, 59],\n",
       " [29, 60],\n",
       " [29, 61],\n",
       " [30, 61],\n",
       " [31, 61],\n",
       " [31, 62],\n",
       " [32, 63],\n",
       " [33, 64],\n",
       " [33, 64],\n",
       " [33, 65],\n",
       " [33, 66],\n",
       " [33, 67],\n",
       " [33, 67],\n",
       " [33, 67],\n",
       " [33, 67],\n",
       " [33, 67],\n",
       " [33, 67],\n",
       " [33, 67],\n",
       " [33, 67],\n",
       " [33, 67],\n",
       " [33, 67],\n",
       " [33, 67],\n",
       " [33, 67],\n",
       " [33, 67],\n",
       " [33, 67],\n",
       " [33, 67],\n",
       " [33, 67],\n",
       " [33, 67],\n",
       " [33, 67],\n",
       " [33, 67],\n",
       " [33, 67],\n",
       " [33, 67],\n",
       " [33, 67],\n",
       " [33, 67],\n",
       " [33, 67],\n",
       " [33, 67],\n",
       " [33, 67],\n",
       " [33, 67],\n",
       " [33, 67],\n",
       " [33, 67],\n",
       " [33, 67],\n",
       " [33, 67],\n",
       " [33, 67],\n",
       " [33, 67],\n",
       " [33, 67],\n",
       " [33, 67],\n",
       " [33, 67],\n",
       " [33, 67],\n",
       " [33, 67],\n",
       " [33, 67]]"
      ]
     },
     "execution_count": 43,
     "metadata": {},
     "output_type": "execute_result"
    }
   ],
   "source": [
    "m.simulate(5, 40, 100)"
   ]
  },
  {
   "cell_type": "code",
   "execution_count": 8,
   "id": "0a710b59-cec6-4196-a880-9f2acfdf7f85",
   "metadata": {},
   "outputs": [],
   "source": [
    "mesh = np.zeros((D, N+1))"
   ]
  },
  {
   "cell_type": "code",
   "execution_count": 9,
   "id": "d49a74fe-cd55-4fec-beac-cd88be8472c8",
   "metadata": {},
   "outputs": [
    {
     "data": {
      "text/plain": [
       "2"
      ]
     },
     "execution_count": 9,
     "metadata": {},
     "output_type": "execute_result"
    }
   ],
   "source": [
    "len(mesh)"
   ]
  },
  {
   "cell_type": "code",
   "execution_count": 15,
   "id": "03b801be-128f-4fde-8780-a79ae40f3079",
   "metadata": {},
   "outputs": [],
   "source": [
    "mesh = np.zeros((D, N+1), dtype = DTYPE)\n",
    "for _ in range(D):\n",
    "    for idx in range(N+1):\n",
    "        mesh[_][idx] = idx/N"
   ]
  },
  {
   "cell_type": "code",
   "execution_count": 16,
   "id": "55afe864-a8a3-4aa4-91bf-b00ed456c9f4",
   "metadata": {},
   "outputs": [
    {
     "data": {
      "text/plain": [
       "array([[0.  , 0.01, 0.02, 0.03, 0.04, 0.05, 0.06, 0.07, 0.08, 0.09, 0.1 ,\n",
       "        0.11, 0.12, 0.13, 0.14, 0.15, 0.16, 0.17, 0.18, 0.19, 0.2 , 0.21,\n",
       "        0.22, 0.23, 0.24, 0.25, 0.26, 0.27, 0.28, 0.29, 0.3 , 0.31, 0.32,\n",
       "        0.33, 0.34, 0.35, 0.36, 0.37, 0.38, 0.39, 0.4 , 0.41, 0.42, 0.43,\n",
       "        0.44, 0.45, 0.46, 0.47, 0.48, 0.49, 0.5 , 0.51, 0.52, 0.53, 0.54,\n",
       "        0.55, 0.56, 0.57, 0.58, 0.59, 0.6 , 0.61, 0.62, 0.63, 0.64, 0.65,\n",
       "        0.66, 0.67, 0.68, 0.69, 0.7 , 0.71, 0.72, 0.73, 0.74, 0.75, 0.76,\n",
       "        0.77, 0.78, 0.79, 0.8 , 0.81, 0.82, 0.83, 0.84, 0.85, 0.86, 0.87,\n",
       "        0.88, 0.89, 0.9 , 0.91, 0.92, 0.93, 0.94, 0.95, 0.96, 0.97, 0.98,\n",
       "        0.99, 1.  ],\n",
       "       [0.  , 0.01, 0.02, 0.03, 0.04, 0.05, 0.06, 0.07, 0.08, 0.09, 0.1 ,\n",
       "        0.11, 0.12, 0.13, 0.14, 0.15, 0.16, 0.17, 0.18, 0.19, 0.2 , 0.21,\n",
       "        0.22, 0.23, 0.24, 0.25, 0.26, 0.27, 0.28, 0.29, 0.3 , 0.31, 0.32,\n",
       "        0.33, 0.34, 0.35, 0.36, 0.37, 0.38, 0.39, 0.4 , 0.41, 0.42, 0.43,\n",
       "        0.44, 0.45, 0.46, 0.47, 0.48, 0.49, 0.5 , 0.51, 0.52, 0.53, 0.54,\n",
       "        0.55, 0.56, 0.57, 0.58, 0.59, 0.6 , 0.61, 0.62, 0.63, 0.64, 0.65,\n",
       "        0.66, 0.67, 0.68, 0.69, 0.7 , 0.71, 0.72, 0.73, 0.74, 0.75, 0.76,\n",
       "        0.77, 0.78, 0.79, 0.8 , 0.81, 0.82, 0.83, 0.84, 0.85, 0.86, 0.87,\n",
       "        0.88, 0.89, 0.9 , 0.91, 0.92, 0.93, 0.94, 0.95, 0.96, 0.97, 0.98,\n",
       "        0.99, 1.  ]])"
      ]
     },
     "execution_count": 16,
     "metadata": {},
     "output_type": "execute_result"
    }
   ],
   "source": [
    "mesh"
   ]
  },
  {
   "cell_type": "code",
   "execution_count": null,
   "id": "24166757-4fd4-4b12-a11f-098b0f0e7250",
   "metadata": {},
   "outputs": [],
   "source": []
  }
 ],
 "metadata": {
  "kernelspec": {
   "display_name": "Python 3 (ipykernel)",
   "language": "python",
   "name": "python3"
  },
  "language_info": {
   "codemirror_mode": {
    "name": "ipython",
    "version": 3
   },
   "file_extension": ".py",
   "mimetype": "text/x-python",
   "name": "python",
   "nbconvert_exporter": "python",
   "pygments_lexer": "ipython3",
   "version": "3.12.2"
  }
 },
 "nbformat": 4,
 "nbformat_minor": 5
}
