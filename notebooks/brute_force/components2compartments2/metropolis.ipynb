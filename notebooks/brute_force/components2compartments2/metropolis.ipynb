{
 "cells": [
  {
   "cell_type": "code",
   "execution_count": 1,
   "id": "31508d4a-4361-4191-8171-71043da7ea44",
   "metadata": {},
   "outputs": [],
   "source": [
    "import numpy as np\n",
    "DTYPE = np.float64\n",
    "\n",
    "import matplotlib.pyplot as plt\n",
    "from tqdm import tqdm\n"
   ]
  },
  {
   "cell_type": "code",
   "execution_count": 2,
   "id": "5c18aca2-2c0b-425a-9849-83e2a8877496",
   "metadata": {},
   "outputs": [],
   "source": [
    "# Dimensions of the parameter space:\n",
    "D = 2\n",
    "\n",
    "# Mesh Size\n",
    "N = 100"
   ]
  },
  {
   "cell_type": "code",
   "execution_count": 28,
   "id": "7170569b-d6ba-459d-9efb-4d31f4e2a930",
   "metadata": {},
   "outputs": [],
   "source": [
    "def floryHuggins_2components(phi:DTYPE, chi:DTYPE):\n",
    "    f = phi*np.log(phi) + (1-phi)*np.log(1-phi) + chi*phi*(1-phi)\n",
    "    return f"
   ]
  },
  {
   "cell_type": "code",
   "execution_count": 104,
   "id": "69744cac-06e3-42db-9cd6-3d57aff1fe7b",
   "metadata": {},
   "outputs": [],
   "source": [
    "class c2c2:\n",
    "    def __init__(self, beta, phi_global, chi, D, N):\n",
    "        self.beta = beta\n",
    "        self.phi_global = phi_global\n",
    "        self.D = D\n",
    "        self.chi = chi\n",
    "        self.N = N\n",
    "        \n",
    "    def createMesh(self):\n",
    "        mesh = np.zeros((self.D, self.N), dtype = DTYPE)\n",
    "        \n",
    "        for _ in range(self.D):\n",
    "            for idx in range(self.N):\n",
    "                mesh[_][idx] = (idx+1)/(self.N+1)\n",
    "\n",
    "        return mesh\n",
    "\n",
    "    def metropolisStep(self, current_idx_phi_11, current_idx_eta_1):\n",
    "        mesh = self.createMesh()\n",
    "        \n",
    "        current_phi_12 = (self.phi_global - mesh[1][current_idx_eta_1]*mesh[0][current_idx_phi_11])/(1-mesh[1][current_idx_eta_1])\n",
    "\n",
    "        proposal_idx_phi_11 = 0\n",
    "        proposal_idx_eta_11 = 0\n",
    "        \n",
    "        if current_idx_phi_11 == 0:\n",
    "            proposal_idx_phi_11 = current_idx_phi_11 + 1\n",
    "        \n",
    "        elif current_idx_eta_1 == 0:\n",
    "            proposal_idx_eta_1 = current_idx_eta_1 + 1\n",
    "        \n",
    "        elif current_idx_phi_11 == self.N-1:\n",
    "            proposal_idx_phi_11 = current_idx_phi_11 - 1\n",
    "            # proposal_idx_eta_1 = current_idx_eta_1\n",
    "        \n",
    "        elif current_idx_eta_1 == self.N-1:\n",
    "            proposal_idx_eta_1 = current_idx_eta_1 - 1\n",
    "        \n",
    "        else:\n",
    "            p = np.random.uniform(0, 1)\n",
    "            \n",
    "            if p <= 0.25:\n",
    "                proposal_idx_phi_11 = current_idx_phi_11 + 1\n",
    "                # proposal_idx_eta_1 = current_idx_eta_1\n",
    "            elif 0.25 <= p  and p <= 0.5:\n",
    "                proposal_idx_phi_11 = current_idx_phi_11 - 1\n",
    "                # proposal_idx_eta_1 = current_idx_eta_1\n",
    "            elif 0.5 <= p  and p <= 0.75:\n",
    "                # proposal_idx_phi_11 = current_idx_phi_11\n",
    "                proposal_idx_eta_1 = current_idx_eta_1 + 1\n",
    "            else:\n",
    "                # proposal_idx_phi_11 = current_idx_phi_11 + 1\n",
    "                proposal_idx_eta_1 = current_idx_eta_1 - 1\n",
    "\n",
    "        proposal_phi_12 = (self.phi_global - mesh[1][proposal_idx_eta_1]*mesh[0][proposal_idx_phi_11])/(1-mesh[1][proposal_idx_eta_1])\n",
    "        \n",
    "        if proposal_phi_12 <= 1 and proposal_phi_12 >= 0:\n",
    "            f_1_current = floryHuggins_2components(mesh[0][current_idx_phi_11], self.chi) \n",
    "            f_2_current = floryHuggins_2components(current_phi_12, self.chi) \n",
    "\n",
    "            f_current = mesh[1][current_idx_eta_1]*f_1_current  + (1-mesh[1][current_idx_eta_1])*f_2_current\n",
    "\n",
    "\n",
    "            f_1_proposal = floryHuggins_2components(mesh[0][proposal_idx_phi_11], self.chi)\n",
    "            f_2_proposal = floryHuggins_2components(proposal_phi_12, self.chi)\n",
    "            \n",
    "            f_proposal = mesh[1][proposal_idx_eta_1]*f_1_proposal + mesh[1][proposal_idx_eta_1]*f_2_proposal\n",
    "\n",
    "            delta_f = f_proposal - f_current\n",
    "\n",
    "            if delta_f < 0 or np.random.uniform(0, 1) < np.exp(-self.beta*delta_f):\n",
    "                return [proposal_idx_phi_11, proposal_idx_eta_1]\n",
    "            else:\n",
    "                return [current_idx_phi_11, current_idx_eta_1]\n",
    "        else:\n",
    "            return [current_idx_phi_11, current_idx_eta_1]\n",
    "\n",
    "    def simulate(self, start_idx_phi_11, start_idx_eta_1, nSteps):\n",
    "        walk = []\n",
    "        walk.append([start_idx_phi_11, start_idx_eta_1])\n",
    "            \n",
    "        for i in range(nSteps):\n",
    "            [new_idx_phi_11, new_idx_eta_1] = self.metropolisStep(start_idx_phi_11, start_idx_eta_1)\n",
    "            walk.append([new_idx_phi_11, new_idx_eta_1])\n",
    "\n",
    "            start_idx_phi_11, start_idx_eta_1 = new_idx_phi_11, new_idx_eta_1\n",
    "            # print([new_phi_11, new_eta_1])\n",
    "        \n",
    "        return walk"
   ]
  },
  {
   "cell_type": "code",
   "execution_count": 105,
   "id": "ffac2a14-090a-486a-a0a1-e2eb5279f57c",
   "metadata": {},
   "outputs": [],
   "source": [
    "m = c2c2(beta = 1, phi_global = 0.223, chi = 2.778, D = 2, N = 100)"
   ]
  },
  {
   "cell_type": "code",
   "execution_count": 106,
   "id": "4335ce2f-60fe-4799-b004-f1c5e78c72fc",
   "metadata": {},
   "outputs": [
    {
     "ename": "UnboundLocalError",
     "evalue": "cannot access local variable 'proposal_idx_eta_1' where it is not associated with a value",
     "output_type": "error",
     "traceback": [
      "\u001b[0;31m---------------------------------------------------------------------------\u001b[0m",
      "\u001b[0;31mUnboundLocalError\u001b[0m                         Traceback (most recent call last)",
      "Cell \u001b[0;32mIn[106], line 1\u001b[0m\n\u001b[0;32m----> 1\u001b[0m m\u001b[38;5;241m.\u001b[39msimulate(N\u001b[38;5;241m-\u001b[39m\u001b[38;5;241m1\u001b[39m, N\u001b[38;5;241m-\u001b[39m\u001b[38;5;241m1\u001b[39m, \u001b[38;5;241m50\u001b[39m)\n",
      "Cell \u001b[0;32mIn[104], line 83\u001b[0m, in \u001b[0;36mc2c2.simulate\u001b[0;34m(self, start_idx_phi_11, start_idx_eta_1, nSteps)\u001b[0m\n\u001b[1;32m     80\u001b[0m walk\u001b[38;5;241m.\u001b[39mappend([start_idx_phi_11, start_idx_eta_1])\n\u001b[1;32m     82\u001b[0m \u001b[38;5;28;01mfor\u001b[39;00m i \u001b[38;5;129;01min\u001b[39;00m \u001b[38;5;28mrange\u001b[39m(nSteps):\n\u001b[0;32m---> 83\u001b[0m     [new_idx_phi_11, new_idx_eta_1] \u001b[38;5;241m=\u001b[39m \u001b[38;5;28mself\u001b[39m\u001b[38;5;241m.\u001b[39mmetropolisStep(start_idx_phi_11, start_idx_eta_1)\n\u001b[1;32m     84\u001b[0m     walk\u001b[38;5;241m.\u001b[39mappend([new_idx_phi_11, new_idx_eta_1])\n\u001b[1;32m     86\u001b[0m     start_idx_phi_11, start_idx_eta_1 \u001b[38;5;241m=\u001b[39m new_idx_phi_11, new_idx_eta_1\n",
      "Cell \u001b[0;32mIn[104], line 55\u001b[0m, in \u001b[0;36mc2c2.metropolisStep\u001b[0;34m(self, current_idx_phi_11, current_idx_eta_1)\u001b[0m\n\u001b[1;32m     51\u001b[0m     \u001b[38;5;28;01melse\u001b[39;00m:\n\u001b[1;32m     52\u001b[0m         \u001b[38;5;66;03m# proposal_idx_phi_11 = current_idx_phi_11 + 1\u001b[39;00m\n\u001b[1;32m     53\u001b[0m         proposal_idx_eta_1 \u001b[38;5;241m=\u001b[39m current_idx_eta_1 \u001b[38;5;241m-\u001b[39m \u001b[38;5;241m1\u001b[39m\n\u001b[0;32m---> 55\u001b[0m proposal_phi_12 \u001b[38;5;241m=\u001b[39m (\u001b[38;5;28mself\u001b[39m\u001b[38;5;241m.\u001b[39mphi_global \u001b[38;5;241m-\u001b[39m mesh[\u001b[38;5;241m1\u001b[39m][proposal_idx_eta_1]\u001b[38;5;241m*\u001b[39mmesh[\u001b[38;5;241m0\u001b[39m][proposal_idx_phi_11])\u001b[38;5;241m/\u001b[39m(\u001b[38;5;241m1\u001b[39m\u001b[38;5;241m-\u001b[39mmesh[\u001b[38;5;241m1\u001b[39m][proposal_idx_eta_1])\n\u001b[1;32m     57\u001b[0m \u001b[38;5;28;01mif\u001b[39;00m proposal_phi_12 \u001b[38;5;241m<\u001b[39m\u001b[38;5;241m=\u001b[39m \u001b[38;5;241m1\u001b[39m \u001b[38;5;129;01mand\u001b[39;00m proposal_phi_12 \u001b[38;5;241m>\u001b[39m\u001b[38;5;241m=\u001b[39m \u001b[38;5;241m0\u001b[39m:\n\u001b[1;32m     58\u001b[0m     f_1_current \u001b[38;5;241m=\u001b[39m floryHuggins_2components(mesh[\u001b[38;5;241m0\u001b[39m][current_idx_phi_11], \u001b[38;5;28mself\u001b[39m\u001b[38;5;241m.\u001b[39mchi) \n",
      "\u001b[0;31mUnboundLocalError\u001b[0m: cannot access local variable 'proposal_idx_eta_1' where it is not associated with a value"
     ]
    }
   ],
   "source": [
    "m.simulate(N-1, N-1, 50)"
   ]
  },
  {
   "cell_type": "code",
   "execution_count": 57,
   "id": "0a710b59-cec6-4196-a880-9f2acfdf7f85",
   "metadata": {},
   "outputs": [],
   "source": [
    "mesh = np.zeros((D, N))"
   ]
  },
  {
   "cell_type": "code",
   "execution_count": 58,
   "id": "d49a74fe-cd55-4fec-beac-cd88be8472c8",
   "metadata": {},
   "outputs": [
    {
     "data": {
      "text/plain": [
       "(2, 100)"
      ]
     },
     "execution_count": 58,
     "metadata": {},
     "output_type": "execute_result"
    }
   ],
   "source": [
    "np.shape(mesh)"
   ]
  },
  {
   "cell_type": "code",
   "execution_count": 59,
   "id": "03b801be-128f-4fde-8780-a79ae40f3079",
   "metadata": {},
   "outputs": [],
   "source": [
    "mesh = np.zeros((D, N), dtype = DTYPE)\n",
    "for _ in range(D):\n",
    "    for idx in range(N):\n",
    "        mesh[_][idx] = (idx+1)/(N+1)"
   ]
  },
  {
   "cell_type": "code",
   "execution_count": 60,
   "id": "55afe864-a8a3-4aa4-91bf-b00ed456c9f4",
   "metadata": {},
   "outputs": [
    {
     "data": {
      "text/plain": [
       "array([[0.00990099, 0.01980198, 0.02970297, 0.03960396, 0.04950495,\n",
       "        0.05940594, 0.06930693, 0.07920792, 0.08910891, 0.0990099 ,\n",
       "        0.10891089, 0.11881188, 0.12871287, 0.13861386, 0.14851485,\n",
       "        0.15841584, 0.16831683, 0.17821782, 0.18811881, 0.1980198 ,\n",
       "        0.20792079, 0.21782178, 0.22772277, 0.23762376, 0.24752475,\n",
       "        0.25742574, 0.26732673, 0.27722772, 0.28712871, 0.2970297 ,\n",
       "        0.30693069, 0.31683168, 0.32673267, 0.33663366, 0.34653465,\n",
       "        0.35643564, 0.36633663, 0.37623762, 0.38613861, 0.3960396 ,\n",
       "        0.40594059, 0.41584158, 0.42574257, 0.43564356, 0.44554455,\n",
       "        0.45544554, 0.46534653, 0.47524752, 0.48514851, 0.4950495 ,\n",
       "        0.5049505 , 0.51485149, 0.52475248, 0.53465347, 0.54455446,\n",
       "        0.55445545, 0.56435644, 0.57425743, 0.58415842, 0.59405941,\n",
       "        0.6039604 , 0.61386139, 0.62376238, 0.63366337, 0.64356436,\n",
       "        0.65346535, 0.66336634, 0.67326733, 0.68316832, 0.69306931,\n",
       "        0.7029703 , 0.71287129, 0.72277228, 0.73267327, 0.74257426,\n",
       "        0.75247525, 0.76237624, 0.77227723, 0.78217822, 0.79207921,\n",
       "        0.8019802 , 0.81188119, 0.82178218, 0.83168317, 0.84158416,\n",
       "        0.85148515, 0.86138614, 0.87128713, 0.88118812, 0.89108911,\n",
       "        0.9009901 , 0.91089109, 0.92079208, 0.93069307, 0.94059406,\n",
       "        0.95049505, 0.96039604, 0.97029703, 0.98019802, 0.99009901],\n",
       "       [0.00990099, 0.01980198, 0.02970297, 0.03960396, 0.04950495,\n",
       "        0.05940594, 0.06930693, 0.07920792, 0.08910891, 0.0990099 ,\n",
       "        0.10891089, 0.11881188, 0.12871287, 0.13861386, 0.14851485,\n",
       "        0.15841584, 0.16831683, 0.17821782, 0.18811881, 0.1980198 ,\n",
       "        0.20792079, 0.21782178, 0.22772277, 0.23762376, 0.24752475,\n",
       "        0.25742574, 0.26732673, 0.27722772, 0.28712871, 0.2970297 ,\n",
       "        0.30693069, 0.31683168, 0.32673267, 0.33663366, 0.34653465,\n",
       "        0.35643564, 0.36633663, 0.37623762, 0.38613861, 0.3960396 ,\n",
       "        0.40594059, 0.41584158, 0.42574257, 0.43564356, 0.44554455,\n",
       "        0.45544554, 0.46534653, 0.47524752, 0.48514851, 0.4950495 ,\n",
       "        0.5049505 , 0.51485149, 0.52475248, 0.53465347, 0.54455446,\n",
       "        0.55445545, 0.56435644, 0.57425743, 0.58415842, 0.59405941,\n",
       "        0.6039604 , 0.61386139, 0.62376238, 0.63366337, 0.64356436,\n",
       "        0.65346535, 0.66336634, 0.67326733, 0.68316832, 0.69306931,\n",
       "        0.7029703 , 0.71287129, 0.72277228, 0.73267327, 0.74257426,\n",
       "        0.75247525, 0.76237624, 0.77227723, 0.78217822, 0.79207921,\n",
       "        0.8019802 , 0.81188119, 0.82178218, 0.83168317, 0.84158416,\n",
       "        0.85148515, 0.86138614, 0.87128713, 0.88118812, 0.89108911,\n",
       "        0.9009901 , 0.91089109, 0.92079208, 0.93069307, 0.94059406,\n",
       "        0.95049505, 0.96039604, 0.97029703, 0.98019802, 0.99009901]])"
      ]
     },
     "execution_count": 60,
     "metadata": {},
     "output_type": "execute_result"
    }
   ],
   "source": [
    "mesh"
   ]
  },
  {
   "cell_type": "code",
   "execution_count": null,
   "id": "24166757-4fd4-4b12-a11f-098b0f0e7250",
   "metadata": {},
   "outputs": [],
   "source": []
  }
 ],
 "metadata": {
  "kernelspec": {
   "display_name": "Python 3 (ipykernel)",
   "language": "python",
   "name": "python3"
  },
  "language_info": {
   "codemirror_mode": {
    "name": "ipython",
    "version": 3
   },
   "file_extension": ".py",
   "mimetype": "text/x-python",
   "name": "python",
   "nbconvert_exporter": "python",
   "pygments_lexer": "ipython3",
   "version": "3.12.2"
  }
 },
 "nbformat": 4,
 "nbformat_minor": 5
}
