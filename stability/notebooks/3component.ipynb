{
 "cells": [
  {
   "cell_type": "code",
   "execution_count": null,
   "id": "8004f9bc-b536-47c7-bee0-412943533dde",
   "metadata": {
    "scrolled": true
   },
   "outputs": [],
   "source": [
    "# Install flory\n",
    "!pip install flory\n"
   ]
  },
  {
   "cell_type": "code",
   "execution_count": null,
   "id": "d494503a-3d0f-4a2b-ba74-438694c8764f",
   "metadata": {},
   "outputs": [],
   "source": [
    "import numpy as np\n",
    "DTYPE = np.float64\n",
    "import flory\n",
    "import matplotlib.pyplot as plt\n",
    "%matplotlib notebook\n",
    "%matplotlib widget\n",
    "import os\n",
    "import sys\n",
    "import pandas as pd\n",
    "from tqdm import tqdm\n",
    "import plotly.graph_objects as go\n"
   ]
  },
  {
   "cell_type": "code",
   "execution_count": null,
   "id": "fd9b2495-b261-49f6-a747-1565ec0feb05",
   "metadata": {},
   "outputs": [],
   "source": [
    "def floryHuggins(phi:DTYPE, chi:np.array):\n",
    "    part_1 = np.sum(phi*np.log(phi))\n",
    "    part_2 = 0\n",
    "\n",
    "    for i in range(len(phi)):\n",
    "        for j in range(i+1, len(phi)):\n",
    "            part_2 += chi[i][j]*phi[i]*phi[j]\n",
    "\n",
    "    return part_1 + part_2"
   ]
  },
  {
   "cell_type": "markdown",
   "id": "df700942-3d48-42e1-9af3-72aac894aa2b",
   "metadata": {},
   "source": [
    "### Comparing for a 2 component, 2 compartment case"
   ]
  },
  {
   "cell_type": "code",
   "execution_count": null,
   "id": "c881fd8d-8023-45fc-b6c5-bdd998fe746f",
   "metadata": {
    "jupyter": {
     "source_hidden": true
    }
   },
   "outputs": [],
   "source": [
    "chis = [[0, 4], [4, 0]]\n",
    "phi_means = [0.3, 0.7]\n",
    "\n",
    "phases = flory.find_coexisting_phases(2, chis, phi_means)\n",
    "\n",
    "\n",
    "print(\"\\n\" + f\"Equlibrium phase volumes: {phases.volumes}\")\n",
    "print(\"Equlibrium phase concentrations:\\n\" + f\"{phases.fractions}\")\n",
    "\n",
    "\n",
    "# 2d example\n",
    "phi = np.linspace(0, 1, 100)\n",
    "ones = np.ones(len(phi))\n",
    "chi = chis[0][1]\n",
    "\n",
    "F = phi*np.log(phi) + (ones-phi)*np.log(ones-phi) + chi*phi*(ones-phi)\n",
    "\n",
    "plt.plot(phi, F)\n",
    "plt.plot(ones-phi, F, \"--\")\n",
    "plt.axvline(phi_means[0])\n",
    "plt.axvline(phases.fractions[0, 0], label = f\"{phases.fractions[0, 0]:.2f},{phases.fractions[0, 1]:.2f}\", color  = \"k\")\n",
    "plt.axvline(phases.fractions[0, 1], label = f\"{phases.fractions[1, 0]:.2f},{phases.fractions[1, 1]:.2f}\")\n",
    "plt.legend(loc = \"best\")\n"
   ]
  },
  {
   "cell_type": "code",
   "execution_count": null,
   "id": "1f3ab1a0-9194-40f1-a00c-168752868d6d",
   "metadata": {
    "jupyter": {
     "source_hidden": true
    }
   },
   "outputs": [],
   "source": [
    "chis = [[0, 4.0], [4.0, 0]]\n",
    "phi_global = [0.5, 0.5]\n",
    "\n",
    "phases = flory.find_coexisting_phases(2, chis, phi_global, progress=False)\n",
    "\n",
    "print(\"\\n\" + f\"Equlibrium phase volumes: {phases.volumes}\")\n",
    "print(\"Equlibrium phase concentrations:\\n\" + f\"{phases.fractions}\")"
   ]
  },
  {
   "cell_type": "code",
   "execution_count": null,
   "id": "7c2ae96e-0d21-4150-b407-932dddcc2c1f",
   "metadata": {
    "jupyter": {
     "source_hidden": true
    }
   },
   "outputs": [],
   "source": [
    "step_size = DTYPE(0.01)\n",
    "n_points = 1000\n",
    "\n",
    "eta_1_perturbed = np.linspace(phases.volumes[0] - n_points*step_size, phases.volumes[0]+n_points*step_size, 2*n_points+1)\n",
    "phi_11_perturbed = np.linspace(phases.fractions[0, 0] - n_points*step_size, phases.fractions[0, 0]+n_points*step_size, 2*n_points+1)\n",
    "\n",
    "accepted_eta_1 = []\n",
    "accepted_phi_11 = []\n",
    "accepted_phi_12 = []\n",
    "accepted_F = []\n",
    "\n",
    "for eta_1 in tqdm(eta_1_perturbed):\n",
    "    if eta_1 > 1 or eta_1 < 0:\n",
    "        continue\n",
    "    \n",
    "    eta_2 = 1 - eta_1\n",
    "    \n",
    "    for phi_11 in phi_11_perturbed:\n",
    "        if phi_11 > 1 or phi_11 < 0:\n",
    "            continue\n",
    "\n",
    "        phi_12 = (phi_global[0] - eta_1*phi_11)/(1-eta_1)\n",
    "\n",
    "        if phi_12 > 0 and phi_12 < 1:\n",
    "            phi_21 = 1 - phi_11 \n",
    "            phi_22 = 1 - phi_12\n",
    "            \n",
    "            phi_in_k1 = [phi_11, phi_21]\n",
    "            phi_in_k2 = [phi_12, phi_22]\n",
    "            \n",
    "            F = 0\n",
    "            F += eta_1*floryHuggins(phi_in_k1, chis)\n",
    "            F += eta_2*floryHuggins(phi_in_k2, chis)\n",
    "            \n",
    "            accepted_eta_1.append(eta_1)\n",
    "            \n",
    "            accepted_phi_11.append(phi_11)\n",
    "            accepted_phi_12.append(phi_12)\n",
    "            \n",
    "            accepted_F.append(F)"
   ]
  },
  {
   "cell_type": "code",
   "execution_count": null,
   "id": "710e6175-5d98-4a02-896c-791a6c31e9f7",
   "metadata": {
    "jupyter": {
     "source_hidden": true
    }
   },
   "outputs": [],
   "source": [
    "df = pd.DataFrame()\n",
    "df[\"eta_1\"] = accepted_eta_1\n",
    "df[\"phi_11\"] = accepted_phi_11\n",
    "df[\"phi_12\"] = accepted_phi_12\n",
    "df[\"F\"] = accepted_F\n",
    "\n",
    "df"
   ]
  },
  {
   "cell_type": "code",
   "execution_count": null,
   "id": "bd6e30e2-0f7e-4a74-ac0d-ed08c76429ac",
   "metadata": {
    "jupyter": {
     "source_hidden": true
    }
   },
   "outputs": [],
   "source": [
    "F = 0\n",
    "for i in range(len(phases.volumes)):\n",
    "    F += phases.volumes[i]*floryHuggins(phases.fractions[i, :], chis)\n",
    "\n",
    "fig = plt.figure(figsize=(10, 8))\n",
    "ax = fig.add_subplot(111, projection=\"3d\")\n",
    "\n",
    "# Plot the data\n",
    "ax.scatter(df[\"phi_11\"], df[\"eta_1\"], df[\"F\"], c=df[\"F\"], cmap=\"viridis\", marker=\"o\", alpha = 0.1)\n",
    "\n",
    "\n",
    "ax.scatter(phases.fractions[0,0], phases.volumes[0], F, color = \"k\")"
   ]
  },
  {
   "cell_type": "markdown",
   "id": "c284247e-9c64-4622-8ac4-9e38102d34a6",
   "metadata": {},
   "source": [
    "### 3 component case"
   ]
  },
  {
   "cell_type": "code",
   "execution_count": null,
   "id": "cc0b8314-7b65-4689-b245-f5fb7dd9aefc",
   "metadata": {},
   "outputs": [],
   "source": [
    "# Interaction matrix\n",
    "chis = np.array([[0, 3.0, 3.0], [3.0, 0.0, 3.0], [3.0, 3.0, 0.0]], dtype = DTYPE)\n",
    "\n",
    "# Global value of phis\n",
    "phi_global = np.array([0.4, 0.3, 0.3], dtype = DTYPE)\n",
    "\n",
    "# Equilibrium 3 phase solution\n",
    "phases = flory.find_coexisting_phases(3, chis, phi_global, progress=False)\n",
    "\n",
    "print(\"\\n\" + f\"Equlibrium phase volumes: {phases.volumes}\")\n",
    "print(\"Equlibrium phase concentrations:\\n\" + f\"{phases.fractions}\")"
   ]
  },
  {
   "cell_type": "code",
   "execution_count": null,
   "id": "a92df502-a7df-43de-9913-495a09c15cdb",
   "metadata": {
    "jupyter": {
     "source_hidden": true
    }
   },
   "outputs": [],
   "source": [
    "step_size = DTYPE(0.01)\n",
    "n_points = 10"
   ]
  },
  {
   "cell_type": "code",
   "execution_count": null,
   "id": "539c1eb4-4318-4b5b-b49d-543efbba45eb",
   "metadata": {
    "jupyter": {
     "source_hidden": true
    }
   },
   "outputs": [],
   "source": [
    "# perturbing the phase volumes around the phase-separated volumes\n",
    "eta_1_perturbed = np.linspace(phases.volumes[0] - n_points*step_size, phases.volumes[0]+n_points*step_size, 2*n_points+1)\n",
    "eta_2_perturbed = np.linspace(phases.volumes[1] - n_points*step_size, phases.volumes[1]+n_points*step_size, 2*n_points+1)\n",
    "\n",
    "# perturbing the concentrations around the phase separated ones\n",
    "# notation: phi_ij -> phi for componenent i in compartment j\n",
    "phi_11_perturbed = np.linspace(phases.fractions[0, 0]-n_points*step_size, phases.fractions[0, 0]+n_points*step_size, 2*n_points+1)\n",
    "phi_12_perturbed = np.linspace(phases.fractions[0, 1]-n_points*step_size, phases.fractions[0, 1]+n_points*step_size, 2*n_points+1)\n",
    "phi_21_perturbed = np.linspace(phases.fractions[1, 0]-n_points*step_size, phases.fractions[1, 0]+n_points*step_size, 2*n_points+1)\n",
    "phi_22_perturbed = np.linspace(phases.fractions[1, 1]-n_points*step_size, phases.fractions[1, 1]+n_points*step_size, 2*n_points+1)\n",
    "\n",
    "\n",
    "accepted_eta_1_perturbed = []\n",
    "accepted_eta_2_perturbed = []\n",
    "\n",
    "accepted_phi_11_perturbed = []\n",
    "accepted_phi_12_perturbed = []\n",
    "accepted_phi_21_perturbed = []\n",
    "accepted_phi_22_perturbed = []\n",
    "\n",
    "accepted_Fs = []"
   ]
  },
  {
   "cell_type": "code",
   "execution_count": null,
   "id": "16309cfa-eba6-4bce-a033-78b595c2a035",
   "metadata": {
    "jupyter": {
     "source_hidden": true
    }
   },
   "outputs": [],
   "source": [
    "ctr = 0 # Number of perturbations accepted\n",
    "\n",
    "for eta_1 in tqdm(eta_1_perturbed):\n",
    "    for eta_2 in eta_2_perturbed:\n",
    "        if eta_1<0 or eta_2<0 or eta_1>1 or eta_2>1: # volume constraints\n",
    "            continue\n",
    "\n",
    "        eta_3 = 1 - eta_1 - eta_2 # Calculate the volume of the third compartment/phase\n",
    "        if eta_3<0 or eta_3>1:\n",
    "            continue\n",
    "            \n",
    "        for phi_11 in phi_11_perturbed:\n",
    "            for phi_12 in phi_12_perturbed:\n",
    "                if phi_11<0 or phi_11>1 or phi_12<0 or phi_12>1:\n",
    "                    continue\n",
    "\n",
    "                # Calculate the concentration of component 1 in compartment 3\n",
    "                phi_13 = (phi_global[0] - eta_1*phi_11 - eta_2*phi_12)/(1-eta_1-eta_2)\n",
    "\n",
    "                if phi_13 < 0 or phi_13 > 1:\n",
    "                    continue\n",
    "\n",
    "                for phi_21 in phi_21_perturbed:\n",
    "                    for phi_22 in phi_22_perturbed:\n",
    "                        if phi_21<0 or phi_21>1 or phi_22<0 or phi_22>1:\n",
    "                            continue\n",
    "\n",
    "                        # Calculate the concentration of componenent 2 in compartment 3\n",
    "                        phi_23 = (phi_global[1] - eta_1*phi_21 - eta_2*phi_22)/(1-eta_1-eta_2)\n",
    "\n",
    "                        if phi_23<0 or phi_23>1:\n",
    "                            continue\n",
    "                        ctr += 1\n",
    "\n",
    "\n",
    "                        # Now the system is determined completely\n",
    "                        phi_31 = 1 - phi_11 - phi_21\n",
    "                        phi_32 = 1 - phi_12 - phi_22\n",
    "                        phi_33 = 1 - phi_13 - phi_23\n",
    "\n",
    "                        phi_in_k1 = [phi_11, phi_21, phi_31]\n",
    "                        phi_in_k2 = [phi_12, phi_22, phi_32]\n",
    "                        phi_in_k3 = [phi_13, phi_23, phi_33]\n",
    "\n",
    "\n",
    "                        # print(eta_1*phi_13 + eta_2*phi_23 + eta_3*phi_33) # Should sum up to phi_global[2]\n",
    "                        # if ctr%100000:\n",
    "                        #     print(phi_in_k1)\n",
    "                        #     print(phi_in_k2)\n",
    "                        #     print(phi_in_k3)\n",
    "                        #     print()\n",
    "\n",
    "                        \n",
    "                        # Calculate free energy\n",
    "                        F = 0\n",
    "                        \n",
    "                        F += eta_1 * floryHuggins(phi_in_k1, chis)\n",
    "                        F += eta_2 * floryHuggins(phi_in_k2, chis)\n",
    "                        F += eta_3 * floryHuggins(phi_in_k3, chis)\n",
    "\n",
    "                        accepted_Fs.append(F)\n",
    "                        \n",
    "                        accepted_eta_1_perturbed.append(eta_1)\n",
    "                        accepted_eta_2_perturbed.append(eta_2)\n",
    "                        \n",
    "                        accepted_phi_11_perturbed.append(phi_11)\n",
    "                        accepted_phi_12_perturbed.append(phi_12)\n",
    "                        accepted_phi_21_perturbed.append(phi_21)\n",
    "                        accepted_phi_22_perturbed.append(phi_22)"
   ]
  },
  {
   "cell_type": "code",
   "execution_count": null,
   "id": "55d73ab1-7c2b-48a1-bec6-a4154a3364ee",
   "metadata": {
    "jupyter": {
     "source_hidden": true
    }
   },
   "outputs": [],
   "source": [
    "df = pd.DataFrame()\n",
    "df[\"eta_1\"] = accepted_eta_1_perturbed\n",
    "df[\"eta_2\"] = accepted_eta_2_perturbed\n",
    "df[\"phi_11\"] = accepted_phi_11_perturbed\n",
    "df[\"phi_12\"] = accepted_phi_12_perturbed\n",
    "df[\"phi_21\"] = accepted_phi_21_perturbed\n",
    "df[\"phi_22\"] = accepted_phi_22_perturbed\n",
    "df[\"F\"] = accepted_Fs\n",
    "\n",
    "df"
   ]
  },
  {
   "cell_type": "code",
   "execution_count": null,
   "id": "3258ed62-e948-4e10-9da3-b927a533f37a",
   "metadata": {
    "jupyter": {
     "source_hidden": true
    }
   },
   "outputs": [],
   "source": [
    "# Minimum value from the flory package\n",
    "F_flory = 0\n",
    "for i in range(len(phases.volumes)):\n",
    "    F_flory += phases.volumes[i]*floryHuggins(phases.fractions[i, :], chis)\n",
    "\n",
    "# Minimum value after perturbations\n",
    "F_perturb = np.min(df[\"F\"])\n",
    "\n",
    "print(F_flory > F_perturb)"
   ]
  },
  {
   "cell_type": "code",
   "execution_count": null,
   "id": "0e038535-d381-4d8a-8ee3-2ff9ba5c958b",
   "metadata": {},
   "outputs": [],
   "source": [
    "min_F_row = df[df['F'] == df['F'].min()]\n",
    "min_F_row"
   ]
  },
  {
   "cell_type": "markdown",
   "id": "4052e755-f49d-4acf-accb-65bbe1518c56",
   "metadata": {},
   "source": [
    "### Merging compartments"
   ]
  },
  {
   "cell_type": "code",
   "execution_count": null,
   "id": "dbc1ec42-6dd0-4cb2-805c-a7a89d762b8d",
   "metadata": {},
   "outputs": [],
   "source": [
    "# Interaction matrix\n",
    "chis = np.array([[0, 3.0, 3.0], [3.0, 0.0, 3.0], [3.0, 3.0, 0.0]], dtype = DTYPE)\n",
    "\n",
    "# Global value of phis\n",
    "phi_global = np.array([0.333, 0.334, 0.333], dtype = DTYPE)\n",
    "\n",
    "# Equilibrium 3 phase solution\n",
    "phases = flory.find_coexisting_phases(3, chis, phi_global, progress=False)\n",
    "\n",
    "print(\"\\n\" + f\"Equlibrium phase volumes: {phases.volumes}\")\n",
    "print(\"Equlibrium phase concentrations:\\n\" + f\"{phases.fractions}\")"
   ]
  },
  {
   "cell_type": "code",
   "execution_count": null,
   "id": "1323d367-cfde-4ff5-b54a-7223118cf184",
   "metadata": {},
   "outputs": [],
   "source": [
    "# Take the transpose as the notation is different:\n",
    "# For me: phi_ij = component i in compartment j\n",
    "# For flory: phi_ji = component i in compartment j (OR I THINK SO!)\n",
    "\n",
    "phases.fractions = np.transpose(phases.fractions)"
   ]
  },
  {
   "cell_type": "code",
   "execution_count": null,
   "id": "b8f25089-c525-4f94-a5f3-9b32c8e549d3",
   "metadata": {},
   "outputs": [],
   "source": [
    "phases.fractions"
   ]
  },
  {
   "cell_type": "code",
   "execution_count": null,
   "id": "4a87cb08-d1f7-4717-850b-44ee594f06a8",
   "metadata": {},
   "outputs": [],
   "source": [
    "phases.volumes"
   ]
  },
  {
   "cell_type": "code",
   "execution_count": null,
   "id": "8775e073-f65c-4dec-a571-dd74338e1e0a",
   "metadata": {},
   "outputs": [],
   "source": [
    "# Free energy of the 3 phase system\n",
    "\n",
    "F_flory = 0\n",
    "for i in range(len(phases.volumes)):\n",
    "    F_flory += phases.volumes[i]*floryHuggins(phases.fractions[i, :], chis)\n",
    "\n",
    "print(F_flory)\n"
   ]
  },
  {
   "cell_type": "markdown",
   "id": "18bcfb73-abfa-44b7-a671-c2246e9ccd15",
   "metadata": {},
   "source": [
    "#### Merging compartments 1 and 2"
   ]
  },
  {
   "cell_type": "code",
   "execution_count": null,
   "id": "8e3aced4-ee85-41c4-9779-ebf64daf0ef5",
   "metadata": {},
   "outputs": [],
   "source": [
    "# Merging compartments 1 and 2\n",
    "\n",
    "# First, calculate the modified compositions in the hybrid compartment (1+2)\n",
    "eta_mod = phases.volumes[0] + phases.volumes[1]\n",
    "phi_1mod = (phases.volumes[0]*phases.fractions[0, 0] + phases.volumes[1]*phases.fractions[0, 1])/eta_mod\n",
    "phi_2mod = (phases.volumes[0]*phases.fractions[1, 0] + phases.volumes[1]*phases.fractions[1, 1])/eta_mod\n",
    "phi_3mod = 1 - phi_1mod - phi_2mod\n",
    "\n",
    "# So, now we have two phases with [phi_1mod, phi_2mod, phi_3mod] and [phases.fractions[0, 2], phases.fractions[1, 2], phases.fractions[2, 2]]\n",
    "# with volumes (phases.volumes[0] + phases.volumes[1]) and phases.volumes[2] respectively\n",
    "\n",
    "# For perturbations, we keep the volumes of these individual phases fixed\n",
    "# Essentially, only perturb the concentrations\n",
    "\n",
    "phi_in_kmod = [phi_1mod, phi_2mod, phi_3mod]\n",
    "phi_in_k3 = [phases.fractions[0, 2], phases.fractions[1, 2], phases.fractions[2, 2]]\n",
    "\n",
    "# Calculate the Free Energy of this modified system\n",
    "F_mod = eta_mod*floryHuggins(phi_in_kmod, chis) + phases.volumes[2]*floryHuggins(phi_in_k3, chis)\n",
    "print(F_mod)"
   ]
  },
  {
   "cell_type": "code",
   "execution_count": null,
   "id": "81060de5-7ccd-4031-950c-555efc90c70e",
   "metadata": {},
   "outputs": [],
   "source": [
    "phi_1mod, phi_2mod"
   ]
  },
  {
   "cell_type": "code",
   "execution_count": null,
   "id": "1b1030fe-4065-4660-848c-ecd7aa51cbbf",
   "metadata": {},
   "outputs": [],
   "source": [
    "np.min(phi_1mod_perturbed), np.max(phi_1mod_perturbed)"
   ]
  },
  {
   "cell_type": "code",
   "execution_count": null,
   "id": "d5161118-4d8b-473d-95f5-8a1fa0f9df7b",
   "metadata": {},
   "outputs": [],
   "source": [
    "# Effectively 2 degrees of freedom in the system\n",
    "step_size = DTYPE(0.001)\n",
    "n_points = 1000\n",
    "\n",
    "phi_1mod_perturbed = np.linspace(phi_1mod-n_points*step_size, phi_1mod+n_points*step_size, 2*n_points+1)\n",
    "phi_2mod_perturbed = np.linspace(phi_2mod-n_points*step_size, phi_2mod+n_points*step_size, 2*n_points+1)\n",
    "\n",
    "accepted_phi_1mod_perturbed = []\n",
    "accepted_phi_2mod_perturbed = []\n",
    "accepted_Fs_mod = []"
   ]
  },
  {
   "cell_type": "code",
   "execution_count": null,
   "id": "a2885a41-0a3d-4d16-b638-8904392d7bac",
   "metadata": {},
   "outputs": [],
   "source": []
  },
  {
   "cell_type": "code",
   "execution_count": null,
   "id": "7b887dda-c4a8-4450-8c82-1db84e04753a",
   "metadata": {},
   "outputs": [],
   "source": [
    "ctr = 0\n",
    "\n",
    "for phi_1m in phi_1mod_perturbed:\n",
    "    for phi_2m in  phi_2mod_perturbed:\n",
    "        if phi_1m<0 or phi_2m<0 or phi_1m>1 or phi_2m>1:\n",
    "            continue\n",
    "        \n",
    "        phi_3m = 1 - phi_1m - phi_2m\n",
    "        if phi_3m<0 or phi_3m>1:\n",
    "            continue\n",
    "\n",
    "        # Calculate the concentrations in the 3rd compartment\n",
    "        phi_13mod = (phi_global[0] - phi_1m*(eta_mod))/(phases.volumes[2])\n",
    "        phi_23mod = (phi_global[1] - phi_2m*(eta_mod))/(phases.volumes[2])\n",
    "\n",
    "        if phi_13mod<0 or phi_13mod>1 or phi_23mod<0 or phi_23mod>1:\n",
    "            continue\n",
    "        \n",
    "        phi_33mod = 1 - phi_13mod - phi_23mod\n",
    "        if phi_33mod<0 or phi_33mod>1:\n",
    "            continue\n",
    "        ctr += 1\n",
    "\n",
    "        phi_in_kmod = [phi_1m, phi_2m, phi_3m]\n",
    "        phi_in_k3 = [phi_13mod, phi_23mod, phi_33mod]\n",
    "        \n",
    "        F = 0\n",
    "        F = eta_mod*floryHuggins(phi_in_kmod, chis) + phases.volumes[2]*floryHuggins(phi_in_k3, chis)\n",
    "\n",
    "        accepted_phi_1mod_perturbed.append(phi_1m)\n",
    "        accepted_phi_2mod_perturbed.append(phi_2m)\n",
    "        accepted_Fs_mod.append(F)"
   ]
  },
  {
   "cell_type": "code",
   "execution_count": null,
   "id": "4e2d2a4b-dbd2-491c-bbc7-6bd7a91b8e78",
   "metadata": {},
   "outputs": [],
   "source": [
    "ctr/1001**2"
   ]
  },
  {
   "cell_type": "code",
   "execution_count": null,
   "id": "c844af46-2481-4ffb-a69e-b1c8000fed90",
   "metadata": {},
   "outputs": [],
   "source": [
    "df = pd.DataFrame()\n",
    "df[\"phi_1mod\"] = accepted_phi_1mod_perturbed\n",
    "df[\"phi_2mod\"] = accepted_phi_2mod_perturbed\n",
    "df[\"F\"] = accepted_Fs_mod\n",
    "\n",
    "df"
   ]
  },
  {
   "cell_type": "code",
   "execution_count": null,
   "id": "9e6cc2be-858c-47ac-82f3-265b3a46ada8",
   "metadata": {},
   "outputs": [],
   "source": [
    "np.min(df[\"F\"])"
   ]
  },
  {
   "cell_type": "code",
   "execution_count": null,
   "id": "aa8657a2-5820-49bd-8bc9-e71f6c07c21b",
   "metadata": {},
   "outputs": [],
   "source": [
    "\n",
    "\n",
    "# Create figure with larger dimensions\n",
    "fig = go.Figure()\n",
    "\n",
    "# Main scatter plot with colorbar\n",
    "fig.add_trace(go.Scatter3d(\n",
    "    x=pd.Series(df[\"phi_1mod\"].values.ravel()),\n",
    "    y=pd.Series(df[\"phi_2mod\"].values.ravel()),\n",
    "    z=pd.Series(df[\"F\"].values.ravel()),\n",
    "    mode='markers',\n",
    "    marker=dict(\n",
    "        size=3,\n",
    "        color=pd.Series(df[\"F\"].values.ravel()),  # Color by F values\n",
    "        colorscale='Viridis',\n",
    "        opacity = 0.1,\n",
    "        colorbar=dict(\n",
    "            title='F',  # Colorbar title\n",
    "            titleside='right',\n",
    "            titlefont=dict(size=14),\n",
    "            thickness=20,\n",
    "            len=0.75,\n",
    "            x=1.1  # Position adjustment\n",
    "        ),\n",
    "        cmin=df[\"F\"].min(),  # Set color scale range\n",
    "        cmax=df[\"F\"].max()\n",
    "    ),\n",
    "    showlegend=False  # Add this to each trace\n",
    "\n",
    "))\n",
    "\n",
    "# Model points\n",
    "fig.add_trace(go.Scatter3d(\n",
    "    x=pd.Series(phi_1mod.ravel()),\n",
    "    y=pd.Series(phi_2mod.ravel()),\n",
    "    z=pd.Series(F_mod.ravel()),\n",
    "    mode='markers',\n",
    "    marker=dict(\n",
    "        size=5,\n",
    "        color='orange',\n",
    "        symbol='circle'\n",
    "    ),\n",
    "    showlegend=False  # Add this to each trace\n",
    "))\n",
    "\n",
    "# Update layout with larger size and other settings\n",
    "fig.update_layout(\n",
    "    title={\n",
    "    'text': \"C1+C2\",  # Title text\n",
    "    'y':0.95,  # Position from top (0-1)\n",
    "    'x':0.35,   # Center the title\n",
    "    'xanchor': 'center',\n",
    "    'yanchor': 'top',\n",
    "    'font': dict(\n",
    "        size=20,  # Title font size\n",
    "        color='black'  # Title color\n",
    "    )\n",
    "    },\n",
    "\n",
    "    width=1200,  # Width in pixels\n",
    "    height=800,   # Height in pixels\n",
    "    autosize=False,  # Disable autosizing\n",
    "    scene=dict(\n",
    "        xaxis_title='phi_1mod',\n",
    "        yaxis_title='phi_2mod',\n",
    "        zaxis_title='F_sys',\n",
    "        aspectmode='manual',  # Preserve aspect ratio\n",
    "        aspectratio=dict(x=1, y=1, z=0.7)  # Adjust these values as needed\n",
    "    ),\n",
    "    margin=dict(l=0, r=500, b=0, t=30)  # Increased right margin for colorbar\n",
    ")\n",
    "\n",
    "fig.show()"
   ]
  },
  {
   "cell_type": "code",
   "execution_count": null,
   "id": "ee6d2a35-3031-4968-8d93-bc29a7c50d3f",
   "metadata": {},
   "outputs": [],
   "source": [
    "min_F_row = df[df['F'] == df['F'].min()]\n",
    "min_F_row"
   ]
  },
  {
   "cell_type": "code",
   "execution_count": null,
   "id": "bfefd8e2-e6af-4496-9510-261e728568e9",
   "metadata": {},
   "outputs": [],
   "source": [
    "min_F_row[\"phi_1mod\"].values[0], min_F_row[\"phi_2mod\"].values[0], 1-min_F_row[\"phi_2mod\"].values[0]-min_F_row[\"phi_1mod\"].values[0]"
   ]
  },
  {
   "cell_type": "code",
   "execution_count": null,
   "id": "91bd91f7-fcfc-4cfc-a5af-329e1beafc78",
   "metadata": {},
   "outputs": [],
   "source": [
    "phi_1mod, phi_2mod, 1-phi_1mod-phi_2mod\n"
   ]
  },
  {
   "cell_type": "code",
   "execution_count": null,
   "id": "216ddf10-242d-44da-8153-5fcbee353083",
   "metadata": {},
   "outputs": [],
   "source": [
    "(1-phi_1mod-phi_2mod)/(1-min_F_row[\"phi_2mod\"].values[0]-min_F_row[\"phi_1mod\"].values[0])"
   ]
  },
  {
   "cell_type": "markdown",
   "id": "06216c56-b4fa-477f-a8cb-64a9093b517a",
   "metadata": {},
   "source": [
    "#### Merging compartments 1 and 3"
   ]
  },
  {
   "cell_type": "code",
   "execution_count": null,
   "id": "0be68fb7-8708-4c86-92ed-ac738947a507",
   "metadata": {},
   "outputs": [],
   "source": [
    "# Interaction matrix\n",
    "chis = np.array([[0, 3.0, 3.0], [3.0, 0.0, 3.0], [3.0, 3.0, 0.0]], dtype = DTYPE)\n",
    "\n",
    "# Global value of phis\n",
    "phi_global = np.array([0.4, 0.3, 0.3], dtype = DTYPE)\n",
    "\n",
    "# Equilibrium 3 phase solution\n",
    "phases = flory.find_coexisting_phases(3, chis, phi_global, progress=False)\n",
    "\n",
    "print(\"\\n\" + f\"Equlibrium phase volumes: {phases.volumes}\")\n",
    "print(\"Equlibrium phase concentrations:\\n\" + f\"{phases.fractions}\")\n",
    "phases.fractions = np.transpose(phases.fractions)\n"
   ]
  },
  {
   "cell_type": "code",
   "execution_count": null,
   "id": "d138ee08-0132-4438-8d88-fc1518c7c469",
   "metadata": {},
   "outputs": [],
   "source": [
    "# Merging compartments 1 and 3\n",
    "\n",
    "# First, calculate the modified compositions in the hybrid compartment (1+3)\n",
    "eta_mod = phases.volumes[0] + phases.volumes[2]\n",
    "phi_1mod = (phases.volumes[0]*phases.fractions[0, 0] + phases.volumes[2]*phases.fractions[0, 2])/eta_mod\n",
    "phi_2mod = (phases.volumes[0]*phases.fractions[1, 0] + phases.volumes[2]*phases.fractions[1, 2])/eta_mod\n",
    "phi_3mod = 1 - phi_1mod - phi_2mod\n",
    "\n",
    "# So, now we have two phases with [phi_1mod, phi_2mod, phi_3mod] and [phases.fractions[0, 1], phases.fractions[1, 21, phases.fractions[2, 1]]\n",
    "# with volumes (phases.volumes[0] + phases.volumes[2]) and phases.volumes[1] respectively\n",
    "\n",
    "# For perturbations, we keep the volumes of these individual phases fixed\n",
    "# Essentially, only perturb the concentrations\n",
    "\n",
    "phi_in_kmod = [phi_1mod, phi_2mod, phi_3mod]\n",
    "phi_in_k2 = [phases.fractions[0, 1], phases.fractions[1, 1], phases.fractions[2, 1]]\n",
    "\n",
    "# Calculate the Free Energy of this modified system\n",
    "F_mod = eta_mod*floryHuggins(phi_in_kmod, chis) + phases.volumes[1]*floryHuggins(phi_in_k2, chis)\n",
    "print(F_mod)"
   ]
  },
  {
   "cell_type": "code",
   "execution_count": null,
   "id": "d4e304a8-dc4e-4e96-a532-21a0d3725f64",
   "metadata": {},
   "outputs": [],
   "source": [
    "# Effectively 2 degrees of freedom in the system\n",
    "step_size = DTYPE(0.001)\n",
    "n_points = 1000\n",
    "\n",
    "phi_1mod_perturbed = np.linspace(phi_1mod-n_points*step_size, phi_1mod+n_points*step_size, 2*n_points+1)\n",
    "phi_2mod_perturbed = np.linspace(phi_2mod-n_points*step_size, phi_2mod+n_points*step_size, 2*n_points+1)\n",
    "\n",
    "accepted_phi_1mod_perturbed = []\n",
    "accepted_phi_2mod_perturbed = []\n",
    "accepted_Fs_mod = []"
   ]
  },
  {
   "cell_type": "code",
   "execution_count": null,
   "id": "bbbb762f-df3c-4450-8df3-04411f3923f3",
   "metadata": {},
   "outputs": [],
   "source": [
    "ctr = 0\n",
    "\n",
    "for phi_1m in phi_1mod_perturbed:\n",
    "    for phi_2m in  phi_2mod_perturbed:\n",
    "        if phi_1m<0 or phi_2m<0 or phi_1m>1 or phi_2m>1:\n",
    "            continue\n",
    "        \n",
    "        phi_3m = 1 - phi_1m - phi_2m\n",
    "        if phi_3m<0 or phi_3m>1:\n",
    "            continue\n",
    "\n",
    "        # Calculate the concentrations in the 2nd compartment\n",
    "        phi_12mod = (phi_global[0] - phi_1m*(eta_mod))/(phases.volumes[1])\n",
    "        phi_22mod = (phi_global[1] - phi_2m*(eta_mod))/(phases.volumes[1])\n",
    "\n",
    "        if phi_12mod<0 or phi_12mod>1 or phi_22mod<0 or phi_22mod>1:\n",
    "            continue\n",
    "        \n",
    "        phi_32mod = 1 - phi_12mod - phi_22mod\n",
    "        if phi_32mod<0 or phi_32mod>1:\n",
    "            continue\n",
    "        ctr += 1\n",
    "\n",
    "        phi_in_kmod = [phi_1m, phi_2m, phi_3m]\n",
    "        phi_in_k2 = [phi_12mod, phi_22mod, phi_32mod]\n",
    "        \n",
    "        F = 0\n",
    "        F = eta_mod*floryHuggins(phi_in_kmod, chis) + phases.volumes[1]*floryHuggins(phi_in_k2, chis)\n",
    "\n",
    "        accepted_phi_1mod_perturbed.append(phi_1m)\n",
    "        accepted_phi_2mod_perturbed.append(phi_2m)\n",
    "        accepted_Fs_mod.append(F)"
   ]
  },
  {
   "cell_type": "code",
   "execution_count": null,
   "id": "8abe6ff4-7cad-4a9b-ab48-5ec6eddf4426",
   "metadata": {},
   "outputs": [],
   "source": [
    "df = pd.DataFrame()\n",
    "df[\"phi_1mod\"] = accepted_phi_1mod_perturbed\n",
    "df[\"phi_2mod\"] = accepted_phi_2mod_perturbed\n",
    "df[\"F\"] = accepted_Fs_mod\n",
    "\n",
    "df"
   ]
  },
  {
   "cell_type": "code",
   "execution_count": null,
   "id": "37027114-414f-4c24-a2f1-118c97d21be7",
   "metadata": {},
   "outputs": [],
   "source": [
    "np.min(df[\"F\"])"
   ]
  },
  {
   "cell_type": "code",
   "execution_count": null,
   "id": "b86f067a-b94c-472f-90c5-589f2551c919",
   "metadata": {},
   "outputs": [],
   "source": [
    "\n",
    "\n",
    "# Create figure with larger dimensions\n",
    "fig = go.Figure()\n",
    "\n",
    "# Main scatter plot with colorbar\n",
    "fig.add_trace(go.Scatter3d(\n",
    "    x=pd.Series(df[\"phi_1mod\"].values.ravel()),\n",
    "    y=pd.Series(df[\"phi_2mod\"].values.ravel()),\n",
    "    z=pd.Series(df[\"F\"].values.ravel()),\n",
    "    mode='markers',\n",
    "    marker=dict(\n",
    "        size=3,\n",
    "        color=pd.Series(df[\"F\"].values.ravel()),  # Color by F values\n",
    "        colorscale='Viridis',\n",
    "        opacity = 0.1,\n",
    "        colorbar=dict(\n",
    "            title='F',  # Colorbar title\n",
    "            titleside='right',\n",
    "            titlefont=dict(size=14),\n",
    "            thickness=20,\n",
    "            len=0.75,\n",
    "            x=1.1  # Position adjustment\n",
    "        ),\n",
    "        cmin=df[\"F\"].min(),  # Set color scale range\n",
    "        cmax=df[\"F\"].max()\n",
    "    ),\n",
    "    showlegend=False  # Add this to each trace\n",
    "\n",
    "))\n",
    "\n",
    "# Model points\n",
    "fig.add_trace(go.Scatter3d(\n",
    "    x=pd.Series(phi_1mod.ravel()),\n",
    "    y=pd.Series(phi_2mod.ravel()),\n",
    "    z=pd.Series(F_mod.ravel()),\n",
    "    mode='markers',\n",
    "    marker=dict(\n",
    "        size=5,\n",
    "        color='orange',\n",
    "        symbol='circle'\n",
    "    ),\n",
    "    showlegend=False  # Add this to each trace\n",
    "))\n",
    "\n",
    "# Update layout with larger size and other settings\n",
    "fig.update_layout(\n",
    "    title={\n",
    "    'text': \"C1+C3\",  # Title text\n",
    "    'y':0.95,  # Position from top (0-1)\n",
    "    'x':0.35,   # Center the title\n",
    "    'xanchor': 'center',\n",
    "    'yanchor': 'top',\n",
    "    'font': dict(\n",
    "        size=20,  # Title font size\n",
    "        color='black'  # Title color\n",
    "    )\n",
    "    },\n",
    "\n",
    "    width=1200,  # Width in pixels\n",
    "    height=800,   # Height in pixels\n",
    "    autosize=False,  # Disable autosizing\n",
    "    scene=dict(\n",
    "        xaxis_title='phi_1mod',\n",
    "        yaxis_title='phi_2mod',\n",
    "        zaxis_title='F_sys',\n",
    "        aspectmode='manual',  # Preserve aspect ratio\n",
    "        aspectratio=dict(x=1, y=1, z=0.7)  # Adjust these values as needed\n",
    "    ),\n",
    "    margin=dict(l=0, r=500, b=0, t=30)  # Increased right margin for colorbar\n",
    ")\n",
    "\n",
    "fig.show()"
   ]
  },
  {
   "cell_type": "markdown",
   "id": "bc262642-8602-4351-a365-5bd687c27b0a",
   "metadata": {},
   "source": [
    "#### Merging compartments 2 and 3"
   ]
  },
  {
   "cell_type": "code",
   "execution_count": null,
   "id": "4cbc11e3-105d-4df2-84b5-8aeccc9101fd",
   "metadata": {},
   "outputs": [],
   "source": [
    "# Interaction matrix\n",
    "chis = np.array([[0, 3.0, 3.0], [3.0, 0.0, 3.0], [3.0, 3.0, 0.0]], dtype = DTYPE)\n",
    "\n",
    "# Global value of phis\n",
    "phi_global = np.array([0.4, 0.3, 0.3], dtype = DTYPE)\n",
    "\n",
    "# Equilibrium 3 phase solution\n",
    "phases = flory.find_coexisting_phases(3, chis, phi_global, progress=False)\n",
    "\n",
    "print(\"\\n\" + f\"Equlibrium phase volumes: {phases.volumes}\")\n",
    "print(\"Equlibrium phase concentrations:\\n\" + f\"{phases.fractions}\")\n",
    "phases.fractions = np.transpose(phases.fractions)\n"
   ]
  },
  {
   "cell_type": "code",
   "execution_count": null,
   "id": "ddb54a28-ffc4-45d6-b51c-c4dda722cb33",
   "metadata": {},
   "outputs": [],
   "source": [
    "# Merging compartments 2 and 3\n",
    "\n",
    "# First, calculate the modified compositions in the hybrid compartment (1+3)\n",
    "eta_mod = phases.volumes[1] + phases.volumes[2]\n",
    "phi_1mod = (phases.volumes[1]*phases.fractions[0, 1] + phases.volumes[2]*phases.fractions[0, 2])/eta_mod\n",
    "phi_2mod = (phases.volumes[1]*phases.fractions[1, 1] + phases.volumes[2]*phases.fractions[1, 2])/eta_mod\n",
    "phi_3mod = 1 - phi_1mod - phi_2mod\n",
    "\n",
    "# So, now we have two phases with [phi_1mod, phi_2mod, phi_3mod] and [phases.fractions[0, 1], phases.fractions[1, 21, phases.fractions[2, 1]]\n",
    "# with volumes (phases.volumes[0] + phases.volumes[2]) and phases.volumes[1] respectively\n",
    "\n",
    "# For perturbations, we keep the volumes of these individual phases fixed\n",
    "# Essentially, only perturb the concentrations\n",
    "\n",
    "phi_in_kmod = [phi_1mod, phi_2mod, phi_3mod]\n",
    "phi_in_k1 = [phases.fractions[0, 0], phases.fractions[1, 0], phases.fractions[2, 0]]\n",
    "\n",
    "# Calculate the Free Energy of this modified system\n",
    "F_mod = eta_mod*floryHuggins(phi_in_kmod, chis) + phases.volumes[0]*floryHuggins(phi_in_k1, chis)\n",
    "print(F_mod)"
   ]
  },
  {
   "cell_type": "code",
   "execution_count": null,
   "id": "34af58b4-645e-4d21-975d-ac49e193df2a",
   "metadata": {},
   "outputs": [],
   "source": [
    "# Effectively 2 degrees of freedom in the system\n",
    "step_size = DTYPE(0.001)\n",
    "n_points = 1000\n",
    "\n",
    "phi_1mod_perturbed = np.linspace(phi_1mod-n_points*step_size, phi_1mod+n_points*step_size, 2*n_points+1)\n",
    "phi_2mod_perturbed = np.linspace(phi_2mod-n_points*step_size, phi_2mod+n_points*step_size, 2*n_points+1)\n",
    "\n",
    "accepted_phi_1mod_perturbed = []\n",
    "accepted_phi_2mod_perturbed = []\n",
    "accepted_Fs_mod = []"
   ]
  },
  {
   "cell_type": "code",
   "execution_count": null,
   "id": "64d7b993-4079-4018-8ada-641a9bbd4d50",
   "metadata": {},
   "outputs": [],
   "source": [
    "ctr = 0\n",
    "\n",
    "for phi_1m in phi_1mod_perturbed:\n",
    "    for phi_2m in  phi_2mod_perturbed:\n",
    "        if phi_1m<0 or phi_2m<0 or phi_1m>1 or phi_2m>1:\n",
    "            continue\n",
    "        \n",
    "        phi_3m = 1 - phi_1m - phi_2m\n",
    "        if phi_3m<0 or phi_3m>1:\n",
    "            continue\n",
    "\n",
    "        # Calculate the concentrations in the 1st compartment\n",
    "        phi_11mod = (phi_global[0] - phi_1m*(eta_mod))/(phases.volumes[0])\n",
    "        phi_21mod = (phi_global[1] - phi_2m*(eta_mod))/(phases.volumes[0])\n",
    "\n",
    "        if phi_11mod<0 or phi_11mod>1 or phi_21mod<0 or phi_21mod>1:\n",
    "            continue\n",
    "        \n",
    "        phi_31mod = 1 - phi_11mod - phi_21mod\n",
    "        if phi_31mod<0 or phi_31mod>1:\n",
    "            continue\n",
    "        ctr += 1\n",
    "\n",
    "        phi_in_kmod = [phi_1m, phi_2m, phi_3m]\n",
    "        phi_in_k1 = [phi_11mod, phi_21mod, phi_31mod]\n",
    "        \n",
    "        F = 0\n",
    "        F = eta_mod*floryHuggins(phi_in_kmod, chis) + phases.volumes[0]*floryHuggins(phi_in_k1, chis)\n",
    "\n",
    "        accepted_phi_1mod_perturbed.append(phi_1m)\n",
    "        accepted_phi_2mod_perturbed.append(phi_2m)\n",
    "        accepted_Fs_mod.append(F)"
   ]
  },
  {
   "cell_type": "code",
   "execution_count": null,
   "id": "c064f1d1-5d31-45c2-ab22-317188fdfcc0",
   "metadata": {},
   "outputs": [],
   "source": [
    "df = pd.DataFrame()\n",
    "df[\"phi_1mod\"] = accepted_phi_1mod_perturbed\n",
    "df[\"phi_2mod\"] = accepted_phi_2mod_perturbed\n",
    "df[\"F\"] = accepted_Fs_mod\n",
    "\n",
    "df"
   ]
  },
  {
   "cell_type": "code",
   "execution_count": null,
   "id": "a942a874-9d2c-4a02-be15-8d3bd480e79c",
   "metadata": {},
   "outputs": [],
   "source": [
    "np.min(df[\"F\"])"
   ]
  },
  {
   "cell_type": "code",
   "execution_count": null,
   "id": "e698cac3-299e-4533-9a43-32ff6d624149",
   "metadata": {},
   "outputs": [],
   "source": [
    "\n",
    "\n",
    "# Create figure with larger dimensions\n",
    "fig = go.Figure()\n",
    "\n",
    "# Main scatter plot with colorbar\n",
    "fig.add_trace(go.Scatter3d(\n",
    "    x=pd.Series(df[\"phi_1mod\"].values.ravel()),\n",
    "    y=pd.Series(df[\"phi_2mod\"].values.ravel()),\n",
    "    z=pd.Series(df[\"F\"].values.ravel()),\n",
    "    mode='markers',\n",
    "    marker=dict(\n",
    "        size=3,\n",
    "        color=pd.Series(df[\"F\"].values.ravel()),  # Color by F values\n",
    "        colorscale='Viridis',\n",
    "        opacity = 0.1,\n",
    "        colorbar=dict(\n",
    "            title='F',  # Colorbar title\n",
    "            titleside='right',\n",
    "            titlefont=dict(size=14),\n",
    "            thickness=20,\n",
    "            len=0.75,\n",
    "            x=1.1  # Position adjustment\n",
    "        ),\n",
    "        cmin=df[\"F\"].min(),  # Set color scale range\n",
    "        cmax=df[\"F\"].max()\n",
    "    ),\n",
    "    showlegend=False  # Add this to each trace\n",
    "\n",
    "))\n",
    "\n",
    "# Model points\n",
    "fig.add_trace(go.Scatter3d(\n",
    "    x=pd.Series(phi_1mod.ravel()),\n",
    "    y=pd.Series(phi_2mod.ravel()),\n",
    "    z=pd.Series(F_mod.ravel()),\n",
    "    mode='markers',\n",
    "    marker=dict(\n",
    "        size=5,\n",
    "        color='orange',\n",
    "        symbol='circle'\n",
    "    ),\n",
    "    showlegend=False  # Add this to each trace\n",
    "))\n",
    "\n",
    "# Update layout with larger size and other settings\n",
    "fig.update_layout(\n",
    "    title={\n",
    "    'text': \"C2+C3\",  # Title text\n",
    "    'y':0.95,  # Position from top (0-1)\n",
    "    'x':0.35,   # Center the title\n",
    "    'xanchor': 'center',\n",
    "    'yanchor': 'top',\n",
    "    'font': dict(\n",
    "        size=20,  # Title font size\n",
    "        color='black'  # Title color\n",
    "    )\n",
    "    },\n",
    "\n",
    "    width=1200,  # Width in pixels\n",
    "    height=800,   # Height in pixels\n",
    "    autosize=False,  # Disable autosizing\n",
    "    scene=dict(\n",
    "        xaxis_title='phi_1mod',\n",
    "        yaxis_title='phi_2mod',\n",
    "        zaxis_title='F_sys',\n",
    "        aspectmode='manual',  # Preserve aspect ratio\n",
    "        aspectratio=dict(x=1, y=1, z=0.7)  # Adjust these values as needed\n",
    "    ),\n",
    "    margin=dict(l=0, r=500, b=0, t=30)  # Increased right margin for colorbar\n",
    ")\n",
    "\n",
    "fig.show()"
   ]
  },
  {
   "cell_type": "code",
   "execution_count": null,
   "id": "c7fd62ad-1cb8-4dbc-96dc-adf1f4ccbea7",
   "metadata": {},
   "outputs": [],
   "source": []
  },
  {
   "cell_type": "code",
   "execution_count": null,
   "id": "b7fbeadb-0f0b-4bb5-bd0c-8157dabbda99",
   "metadata": {},
   "outputs": [],
   "source": []
  },
  {
   "cell_type": "code",
   "execution_count": null,
   "id": "0af9744e-da1e-439b-8bf3-f08fa8be312d",
   "metadata": {},
   "outputs": [],
   "source": []
  },
  {
   "cell_type": "code",
   "execution_count": null,
   "id": "9409f7db-e154-4f17-92c9-c6789824150b",
   "metadata": {},
   "outputs": [],
   "source": []
  },
  {
   "cell_type": "code",
   "execution_count": null,
   "id": "196c18a7-0ffd-4d0a-8678-15721d7dc8f7",
   "metadata": {},
   "outputs": [],
   "source": []
  },
  {
   "cell_type": "code",
   "execution_count": null,
   "id": "f7c6fb36-f20b-47af-88f0-908875269b11",
   "metadata": {},
   "outputs": [],
   "source": [
    "ctr = 0\n",
    "for  phi_1m in phi_1mod_perturbed:\n",
    "    for phi_2m in phi_2mod_perturbed:\n",
    "        for phi_3m in phi_3mod_perturbed:\n",
    "            if phi_1m<0 or phi_2m<0 or phi_3m<0 or phi_1m>1 or phi_2m>1 or phi_3m>1:\n",
    "                continue\n",
    "                \n",
    "            phi_in_kmod = [phi_1m, phi_2m, phi_3m]\n",
    "            # print(np.isclose(np.sum(phi_in_kmod), 1, atol =1e-7))\n",
    "            if np.isclose(np.sum(phi_in_kmod), 1, atol =1e-7):\n",
    "                ctr += 1\n",
    "                    \n",
    "                F = 0\n",
    "                F = eta_mod*floryHuggins(phi_in_kmod, chis) + phases.volumes[1]*floryHuggins(phi_in_k2, chis)\n",
    "                \n",
    "                accepted_phi_1mod_perturbed.append(phi_1m)\n",
    "                accepted_phi_2mod_perturbed.append(phi_2m)\n",
    "                accepted_phi_3mod_perturbed.append(phi_3m)\n",
    "                accepted_Fs_mod.append(F)"
   ]
  },
  {
   "cell_type": "code",
   "execution_count": null,
   "id": "83433e53-deb3-4138-865c-ac1cb5360f2e",
   "metadata": {},
   "outputs": [],
   "source": [
    "ctr/21**3"
   ]
  },
  {
   "cell_type": "code",
   "execution_count": null,
   "id": "5a9cf477-47b3-486c-a8cb-36031cb36499",
   "metadata": {},
   "outputs": [],
   "source": [
    "df = pd.DataFrame()\n",
    "df[\"phi_1mod\"] = accepted_phi_1mod_perturbed\n",
    "df[\"phi_2mod\"] = accepted_phi_1mod_perturbed\n",
    "df[\"phi_3mod\"] = accepted_phi_2mod_perturbed\n",
    "df[\"F\"] = accepted_Fs_mod\n",
    "\n",
    "df"
   ]
  },
  {
   "cell_type": "code",
   "execution_count": null,
   "id": "b412c1ee-c80a-454d-a11e-e9082a0975c4",
   "metadata": {},
   "outputs": [],
   "source": [
    "min_F_row = df[df['F'] == df['F'].min()]\n",
    "min_F_row"
   ]
  },
  {
   "cell_type": "code",
   "execution_count": null,
   "id": "dc791fd2-740c-4c34-b29e-1ed5b93551b7",
   "metadata": {},
   "outputs": [],
   "source": [
    "min_F_row[\"phi_1mod\"].values[0]+min_F_row[\"phi_2mod\"].values[0]+min_F_row[\"phi_3mod\"].values[0]\n"
   ]
  },
  {
   "cell_type": "code",
   "execution_count": null,
   "id": "95dc333f-982e-4ccc-8f1a-a58ab7e0f8db",
   "metadata": {},
   "outputs": [],
   "source": [
    "sum_condition = (df['phi_1mod'] + df['phi_2mod'] + df['phi_3mod']).round(3) == 1.0\n",
    "filtered_df = df[sum_condition]\n",
    "filtered_df"
   ]
  },
  {
   "cell_type": "code",
   "execution_count": null,
   "id": "072fe677-4ac9-4aea-ba16-6c6592ca8ce8",
   "metadata": {},
   "outputs": [],
   "source": [
    "min_F_row = filtered_df[filtered_df['F'] == filtered_df['F'].min()]\n",
    "min_F_row"
   ]
  },
  {
   "cell_type": "code",
   "execution_count": null,
   "id": "663b2566-1a3c-4f39-923a-cc5ee1879ec9",
   "metadata": {},
   "outputs": [],
   "source": []
  },
  {
   "cell_type": "code",
   "execution_count": null,
   "id": "b061c8dd-ba59-4fce-9423-78097c1a0560",
   "metadata": {},
   "outputs": [],
   "source": []
  },
  {
   "cell_type": "code",
   "execution_count": null,
   "id": "0e9248b4-eb54-4584-b384-2e99d57c8374",
   "metadata": {},
   "outputs": [],
   "source": []
  },
  {
   "cell_type": "code",
   "execution_count": null,
   "id": "38c741fa-cbdd-4f85-b46a-c56b7b8a7ece",
   "metadata": {},
   "outputs": [],
   "source": []
  },
  {
   "cell_type": "code",
   "execution_count": null,
   "id": "92f75413-7a23-4fb2-8b06-41830094f3a6",
   "metadata": {},
   "outputs": [],
   "source": []
  },
  {
   "cell_type": "code",
   "execution_count": null,
   "id": "c6a43cac-fbbf-42d3-8c7e-53fa6cf6dbb8",
   "metadata": {},
   "outputs": [],
   "source": []
  },
  {
   "cell_type": "code",
   "execution_count": null,
   "id": "f9f8ff93-ec49-4ea6-b4e2-11b302fac3c5",
   "metadata": {},
   "outputs": [],
   "source": []
  },
  {
   "cell_type": "code",
   "execution_count": null,
   "id": "5f8e7cdb-9113-43a8-bee4-faad0115a636",
   "metadata": {},
   "outputs": [],
   "source": []
  },
  {
   "cell_type": "code",
   "execution_count": null,
   "id": "49d4e24f-d58d-43b6-ada2-b6338717b510",
   "metadata": {},
   "outputs": [],
   "source": []
  },
  {
   "cell_type": "code",
   "execution_count": null,
   "id": "6d9d33d6-0834-4539-8b0c-c3fc8963b173",
   "metadata": {},
   "outputs": [],
   "source": []
  },
  {
   "cell_type": "code",
   "execution_count": null,
   "id": "0706ccc7-bac2-4548-8dd0-36da16ec7349",
   "metadata": {},
   "outputs": [],
   "source": []
  },
  {
   "cell_type": "code",
   "execution_count": null,
   "id": "ef72c115-fcad-4c76-978f-a1da2a1caa3b",
   "metadata": {},
   "outputs": [],
   "source": []
  },
  {
   "cell_type": "code",
   "execution_count": null,
   "id": "8aea1bdd-9520-4049-80c6-dca316c817ed",
   "metadata": {},
   "outputs": [],
   "source": []
  },
  {
   "cell_type": "code",
   "execution_count": null,
   "id": "94635165-3df0-4dde-bbe2-d4931d6f32b6",
   "metadata": {},
   "outputs": [],
   "source": []
  },
  {
   "cell_type": "code",
   "execution_count": null,
   "id": "f1830ac7-57ab-4c55-b4ec-623d7bec800c",
   "metadata": {},
   "outputs": [],
   "source": [
    "phases.fractions"
   ]
  },
  {
   "cell_type": "code",
   "execution_count": null,
   "id": "4c0eaf25-da42-48bc-a47c-be079befd60b",
   "metadata": {},
   "outputs": [],
   "source": [
    "F_flory"
   ]
  },
  {
   "cell_type": "code",
   "execution_count": null,
   "id": "a0ea33e4-f393-49fe-9dde-4e3ebbd5536e",
   "metadata": {},
   "outputs": [],
   "source": [
    "F_perturb"
   ]
  },
  {
   "cell_type": "code",
   "execution_count": null,
   "id": "1de9f4ca-84e2-4d14-af02-d81cea7df687",
   "metadata": {},
   "outputs": [],
   "source": [
    "eta_1_perturbed = np.linspace(phases.volumes[0] - n_points*step_size, phases.volumes[0]+n_points*step_size, 2*n_points+1)\n",
    "eta_2_perturbed = np.linspace(phases.volumes[0] - n_points*step_size, phases.volumes[0]+n_points*step_size, 2*n_points+1)\n",
    "phi_11_perturbed = np.linspace(phases.fractions[0, 0] - n_points*step_size, phases.fractions[0, 0]+n_points*step_size, 2*n_points+1)\n",
    "phi_12_perturbed = np.linspace(phases.fractions[0, 1] - n_points*step_size, phases.fractions[0, 1]+n_points*step_size, 2*n_points+1)\n",
    "phi_21_perturbed = np.linspace(phases.fractions[1, 0] - n_points*step_size, phases.fractions[1, 0]+n_points*step_size, 2*n_points+1)\n",
    "phi_22_perturbed = np.linspace(phases.fractions[1, 1] - n_points*step_size, phases.fractions[1, 1]+n_points*step_size, 2*n_points+1)\n"
   ]
  },
  {
   "cell_type": "code",
   "execution_count": null,
   "id": "b0c360a7-1d2a-47f3-b8a5-1cf0bbf064d5",
   "metadata": {},
   "outputs": [],
   "source": [
    "len(eta_1_perturbed)**6"
   ]
  },
  {
   "cell_type": "code",
   "execution_count": null,
   "id": "47473983-408a-4ce9-8399-b213a4ed4e1a",
   "metadata": {},
   "outputs": [],
   "source": [
    "accepted_eta_1 = []\n",
    "accepted_eta_2 = []\n",
    "accepted_phi_11 = []\n",
    "accepted_phi_12 = []\n",
    "accepted_phi_21 = []\n",
    "accepted_phi_22 = []\n",
    "accepted_F = []"
   ]
  },
  {
   "cell_type": "code",
   "execution_count": null,
   "id": "1098777e-2f8f-4d9c-9a57-76a0d2c6635c",
   "metadata": {},
   "outputs": [],
   "source": [
    "for eta_1 in tqdm(eta_1_perturbed):\n",
    "    for eta_2 in eta_2_perturbed:\n",
    "        if eta_1 < 0 or eta_1 > 1 or eta_2 < 0 or eta_2 > 1:\n",
    "            continue  # Skip invalid eta values\n",
    "        eta_3 = 1 - eta_1 - eta_2\n",
    "        if eta_3 < 0 or eta_3 > 1:\n",
    "            continue  # Skip invalid eta_3 values\n",
    "\n",
    "        for phi_11 in phi_11_perturbed:\n",
    "            for phi_12 in phi_12_perturbed:\n",
    "                if phi_11 < 0 or phi_11 > 1 or phi_12 < 0 or phi_12 > 1:\n",
    "                    continue  # Skip invalid phi values\n",
    "                phi_13 = 1 - phi_11 - phi_12\n",
    "                if phi_13 < 0 or phi_13 > 1:\n",
    "                    continue  # Skip invalid phi_13 values\n",
    "\n",
    "                for phi_21 in phi_21_perturbed:\n",
    "                    for phi_22 in phi_22_perturbed:\n",
    "                        if phi_21 < 0 or phi_21 > 1 or phi_22 < 0 or phi_22 > 1:\n",
    "                            continue  # Skip invalid phi values\n",
    "                        phi_23 = 1 - phi_21 - phi_22\n",
    "                        if phi_23 < 0 or phi_23 > 1:\n",
    "                            continue  # Skip invalid phi_23 values\n",
    "\n",
    "                        # Calculate phi_13 and phi_23\n",
    "                        phi_13 = (phi_global[0] - (eta_1 * phi_11 + eta_2 * phi_21)) / eta_3\n",
    "                        phi_23 = (phi_global[1] - (eta_1 * phi_12 + eta_2 * phi_22)) / eta_3\n",
    "\n",
    "                        if phi_13 < 0 or phi_13 > 1 or phi_23 < 0 or phi_23 > 1:\n",
    "                            continue  # Skip invalid phi values\n",
    "\n",
    "                        # Calculate phi_31, phi_32, and phi_33\n",
    "                        phi_31 = 1 - phi_11 - phi_12\n",
    "                        phi_32 = 1 - phi_21 - phi_22\n",
    "                        phi_33 = 1 - phi_13 - phi_23\n",
    "\n",
    "                        # Define phase compositions\n",
    "                        phi_in_k1 = [phi_11, phi_21, phi_31]\n",
    "                        phi_in_k2 = [phi_12, phi_22, phi_32]\n",
    "                        phi_in_k3 = [phi_13, phi_23, phi_33]\n",
    "\n",
    "                        # Calculate free energy\n",
    "                        F = 0\n",
    "                        F += eta_1 * floryHuggins(phi_in_k1, chis)\n",
    "                        F += eta_2 * floryHuggins(phi_in_k2, chis)\n",
    "                        F += eta_3 * floryHuggins(phi_in_k3, chis)\n",
    "\n",
    "\n",
    "                        accepted_eta_1.append(eta_1)\n",
    "                        accepted_eta_2.append(eta_2)\n",
    "\n",
    "                        accepted_phi_11.append(phi_11)\n",
    "                        accepted_phi_12.append(phi_12)\n",
    "                        accepted_phi_21.append(phi_21)\n",
    "                        accepted_phi_22.append(phi_22)\n",
    "                        \n",
    "                        accepted_F.append(F)"
   ]
  },
  {
   "cell_type": "code",
   "execution_count": null,
   "id": "d196fcc2-7eb9-49e8-9dc9-d942dc7c37ba",
   "metadata": {},
   "outputs": [],
   "source": [
    "df = pd.DataFrame()\n",
    "df[\"eta_1\"] = accepted_eta_1\n",
    "df[\"eta_2\"] = accepted_eta_2\n",
    "df[\"phi_11\"] = accepted_phi_11\n",
    "df[\"phi_12\"] = accepted_phi_12\n",
    "df[\"phi_21\"] = accepted_phi_21\n",
    "df[\"phi_22\"] = accepted_phi_22\n",
    "df[\"F\"] = accepted_F"
   ]
  },
  {
   "cell_type": "code",
   "execution_count": null,
   "id": "252c8094-d816-4730-ba61-f0d90873c252",
   "metadata": {},
   "outputs": [],
   "source": [
    "df"
   ]
  },
  {
   "cell_type": "code",
   "execution_count": null,
   "id": "8cf3e479-b9b5-4b03-91d5-f97d6efcfb8d",
   "metadata": {},
   "outputs": [],
   "source": [
    "len(df)/(len(eta_1_perturbed)**6)"
   ]
  },
  {
   "cell_type": "code",
   "execution_count": null,
   "id": "e1b693b2-7d0e-443d-9632-1a6f33dfa19a",
   "metadata": {},
   "outputs": [],
   "source": [
    "# Calculating the FH free energy of the phase-separated state\n",
    "\n",
    "# f1 = floryHuggins(phases.fractions[0, :], chis)\n",
    "# f2 = floryHuggins(phases.fractions[1, :], chis)\n",
    "# f3 = floryHuggins(phases.fractions[2, :], chis)\n",
    "\n",
    "F = 0\n",
    "for i in range(len(phases.volumes)):\n",
    "    F += phases.volumes[i]*floryHuggins(phases.fractions[i, :], chis)\n",
    "\n",
    "F"
   ]
  },
  {
   "cell_type": "code",
   "execution_count": null,
   "id": "ddf3d044-e9ca-44b5-90c0-64a5f4309762",
   "metadata": {},
   "outputs": [],
   "source": [
    "np.min(df[\"F\"])"
   ]
  },
  {
   "cell_type": "code",
   "execution_count": null,
   "id": "0b4015c5-0d57-4aa4-8424-6ee75be84713",
   "metadata": {},
   "outputs": [],
   "source": [
    "fig = plt.figure(figsize=(10, 8))\n",
    "ax = fig.add_subplot(111, projection=\"3d\")\n",
    "\n",
    "# Plot the data\n",
    "ax.scatter(df[\"eta_1\"], df[\"phi_11\"], df[\"F\"], c=df[\"F\"], cmap=\"viridis\", marker=\"o\", alpha = 0.008, s = 1)\n",
    "ax.scatter(phases.volumes[0], phases.fractions[0,0],  F, color = \"orange\")\n"
   ]
  },
  {
   "cell_type": "code",
   "execution_count": null,
   "id": "cb7b0d65-40fd-4d5b-8912-4a1f0d3adf27",
   "metadata": {},
   "outputs": [],
   "source": [
    "fig = plt.figure(figsize=(10, 8))\n",
    "ax = fig.add_subplot(111, projection=\"3d\")\n",
    "\n",
    "# Plot the data\n",
    "ax.scatter(df[\"phi_11\"], df[\"phi_12\"], df[\"F\"], c=df[\"F\"], cmap=\"viridis\", marker=\"o\", alpha = 0.008)\n",
    "ax.scatter(phases.fractions[0,0], phases.fractions[0,1],  F, color = \"orange\")\n",
    "\n",
    "cbar = plt.colorbar(ax.scatter(df[\"phi_11\"], df[\"phi_12\"], df[\"F\"], c=df[\"F\"], cmap=\"viridis\"))\n",
    "cbar.set_label(\"Free Energy (F)\")"
   ]
  },
  {
   "cell_type": "code",
   "execution_count": null,
   "id": "d0a2e1f0-3df1-4de7-9a42-de4664e9bdcd",
   "metadata": {},
   "outputs": [],
   "source": [
    "type(df[\"F\"].values[0])"
   ]
  },
  {
   "cell_type": "code",
   "execution_count": null,
   "id": "7a8f9e20-8f76-4fe0-80d6-96a971a480c1",
   "metadata": {},
   "outputs": [],
   "source": []
  }
 ],
 "metadata": {
  "kernelspec": {
   "display_name": "Python 3 (ipykernel)",
   "language": "python",
   "name": "python3"
  },
  "language_info": {
   "codemirror_mode": {
    "name": "ipython",
    "version": 3
   },
   "file_extension": ".py",
   "mimetype": "text/x-python",
   "name": "python",
   "nbconvert_exporter": "python",
   "pygments_lexer": "ipython3",
   "version": "3.12.2"
  }
 },
 "nbformat": 4,
 "nbformat_minor": 5
}
