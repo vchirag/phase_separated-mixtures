{
 "cells": [
  {
   "cell_type": "code",
   "execution_count": 1,
   "id": "62790db5-082b-4458-a62c-cfffffd7806a",
   "metadata": {},
   "outputs": [
    {
     "name": "stdout",
     "output_type": "stream",
     "text": [
      "Requirement already satisfied: flory in /home/vchirag24/softwares/anaconda3/lib/python3.12/site-packages (0.3.0)\n",
      "Requirement already satisfied: numba>=0.57 in /home/vchirag24/softwares/anaconda3/lib/python3.12/site-packages (from flory) (0.60.0)\n",
      "Requirement already satisfied: numpy>=1.22 in /home/vchirag24/softwares/anaconda3/lib/python3.12/site-packages (from flory) (1.26.4)\n",
      "Requirement already satisfied: scipy>=1.7 in /home/vchirag24/softwares/anaconda3/lib/python3.12/site-packages (from flory) (1.14.1)\n",
      "Requirement already satisfied: tqdm>=4.60 in /home/vchirag24/softwares/anaconda3/lib/python3.12/site-packages (from flory) (4.66.5)\n",
      "Requirement already satisfied: llvmlite<0.44,>=0.43.0dev0 in /home/vchirag24/softwares/anaconda3/lib/python3.12/site-packages (from numba>=0.57->flory) (0.43.0)\n"
     ]
    }
   ],
   "source": [
    "# Install flory\n",
    "!pip install flory\n",
    "\n",
    "import numpy as np\n",
    "DTYPE = np.float64\n",
    "import flory\n",
    "import matplotlib.pyplot as plt\n",
    "%matplotlib notebook\n",
    "%matplotlib widget\n",
    "import os\n",
    "import sys\n",
    "import pandas as pd\n",
    "from tqdm import tqdm\n",
    "import plotly.graph_objects as go\n"
   ]
  },
  {
   "cell_type": "code",
   "execution_count": 2,
   "id": "174c6d50-51d0-4c48-8936-54fb5742124d",
   "metadata": {},
   "outputs": [],
   "source": [
    "def floryHuggins(phi:DTYPE, chi:np.array):\n",
    "    part_1 = np.sum(phi*np.log(phi))\n",
    "    part_2 = 0\n",
    "\n",
    "    for i in range(len(phi)):\n",
    "        for j in range(i+1, len(phi)):\n",
    "            part_2 += chi[i][j]*phi[i]*phi[j]\n",
    "\n",
    "    return part_1 + part_2"
   ]
  },
  {
   "cell_type": "code",
   "execution_count": 3,
   "id": "9159ad71-e164-477f-b811-a65e7efdc373",
   "metadata": {},
   "outputs": [
    {
     "name": "stdout",
     "output_type": "stream",
     "text": [
      "\n",
      "Equlibrium phase volumes: [0.42640114 0.28679782 0.28680105]\n",
      "Equlibrium phase concentrations:\n",
      "[[0.81090938 0.09454572 0.09454498]\n",
      " [0.09453783 0.81092273 0.09453935]\n",
      " [0.09453967 0.09454194 0.81091835]]\n"
     ]
    }
   ],
   "source": [
    "# Interaction matrix\n",
    "chis = np.array([[0, 3.0, 3.0], [3.0, 0.0, 3.0], [3.0, 3.0, 0.0]], dtype = DTYPE)\n",
    "\n",
    "# Global value of phis\n",
    "phi_global = np.array([0.4, 0.3, 0.3], dtype = DTYPE)\n",
    "\n",
    "# Equilibrium 3 phase solution\n",
    "phases = flory.find_coexisting_phases(3, chis, phi_global, progress=False)\n",
    "\n",
    "print(\"\\n\" + f\"Equlibrium phase volumes: {phases.volumes}\")\n",
    "print(\"Equlibrium phase concentrations:\\n\" + f\"{phases.fractions}\")\n",
    "\n",
    "# Take the transpose as the notation is different:\n",
    "# For me: phi_ij = component i in compartment j\n",
    "# For flory: phi_ji = component i in compartment j (OR I THINK SO!)\n",
    "\n",
    "phases.fractions = np.transpose(phases.fractions)"
   ]
  },
  {
   "cell_type": "code",
   "execution_count": 4,
   "id": "9665b823-07ba-414e-8096-fc167c1a5840",
   "metadata": {},
   "outputs": [
    {
     "name": "stdout",
     "output_type": "stream",
     "text": [
      "-0.12914677532620267\n"
     ]
    }
   ],
   "source": [
    "# Free energy of the 3 phase system\n",
    "\n",
    "F_flory = 0\n",
    "for i in range(len(phases.volumes)):\n",
    "    F_flory += phases.volumes[i]*floryHuggins(phases.fractions[:, i], chis)\n",
    "\n",
    "print(F_flory)\n"
   ]
  },
  {
   "cell_type": "code",
   "execution_count": 5,
   "id": "617ef28e-3baf-46f9-b3f9-12274a4bca12",
   "metadata": {},
   "outputs": [
    {
     "name": "stdout",
     "output_type": "stream",
     "text": [
      "-0.09455153889336784\n"
     ]
    }
   ],
   "source": [
    "# Merging compartments 2 and 3\n",
    "\n",
    "# First, calculate the modified compositions in the hybrid compartment (1+2)\n",
    "eta_mod = phases.volumes[1] + phases.volumes[2]\n",
    "phi_1mod = (phases.volumes[1]*phases.fractions[0, 1] + phases.volumes[2]*phases.fractions[0, 2])/eta_mod\n",
    "phi_2mod = (phases.volumes[1]*phases.fractions[1, 1] + phases.volumes[2]*phases.fractions[1, 2])/eta_mod\n",
    "phi_3mod = 1 - phi_1mod - phi_2mod\n",
    "\n",
    "\n",
    "phi_in_kmod = [phi_1mod, phi_2mod, phi_3mod]\n",
    "phi_in_k1 = [phases.fractions[0, 0], phases.fractions[1, 0], phases.fractions[2, 0]]\n",
    "\n",
    "# Calculate the Free Energy of this modified system\n",
    "# i.e. Free Energy of the proposal\n",
    "\n",
    "F_mod = eta_mod*floryHuggins(phi_in_kmod, chis) + phases.volumes[0]*floryHuggins(phi_in_k1, chis)\n",
    "print(F_mod)"
   ]
  },
  {
   "cell_type": "code",
   "execution_count": 6,
   "id": "a5caeec5-4ee2-41a4-bbd6-c05ddea54815",
   "metadata": {},
   "outputs": [
    {
     "data": {
      "text/plain": [
       "(0.09453875262290926, 0.4527303173814663)"
      ]
     },
     "execution_count": 6,
     "metadata": {},
     "output_type": "execute_result"
    }
   ],
   "source": [
    "phi_1mod, phi_2mod"
   ]
  },
  {
   "cell_type": "code",
   "execution_count": 7,
   "id": "3443b258-59e3-4f83-b64b-fda985ed8e1c",
   "metadata": {},
   "outputs": [],
   "source": [
    "# Effectively 2 degrees of freedom in the system\n",
    "step_size = DTYPE(0.001)\n",
    "n_points = 1000\n",
    "\n",
    "phi_1mod_perturbed = np.linspace(phi_1mod-n_points*step_size, phi_1mod+n_points*step_size, 2*n_points+1)\n",
    "phi_2mod_perturbed = np.linspace(phi_2mod-n_points*step_size, phi_2mod+n_points*step_size, 2*n_points+1)\n",
    "\n",
    "accepted_phi_1mod_perturbed = []\n",
    "accepted_phi_2mod_perturbed = []\n",
    "accepted_Fs_mod = []"
   ]
  },
  {
   "cell_type": "code",
   "execution_count": 8,
   "id": "af3e9898-246a-4b9f-8fe3-efdd762a7229",
   "metadata": {},
   "outputs": [
    {
     "data": {
      "text/plain": [
       "(0.09453875262290926, 0.4527303173814663)"
      ]
     },
     "execution_count": 8,
     "metadata": {},
     "output_type": "execute_result"
    }
   ],
   "source": [
    "phi_1mod, phi_2mod"
   ]
  },
  {
   "cell_type": "code",
   "execution_count": 9,
   "id": "3331fe3a-18ec-4b40-9c4a-3ecc913fe1d8",
   "metadata": {},
   "outputs": [
    {
     "data": {
      "text/plain": [
       "(-0.9054612473770908, 1.0945387526229093)"
      ]
     },
     "execution_count": 9,
     "metadata": {},
     "output_type": "execute_result"
    }
   ],
   "source": [
    "np.min(phi_1mod_perturbed), np.max(phi_1mod_perturbed)"
   ]
  },
  {
   "cell_type": "code",
   "execution_count": 10,
   "id": "c97ca049-d772-46eb-b283-5f485ec8b1c6",
   "metadata": {},
   "outputs": [],
   "source": [
    "ctr = 0\n",
    "\n",
    "for phi_1m in phi_1mod_perturbed:\n",
    "    for phi_2m in phi_2mod_perturbed:\n",
    "        if phi_1m<0 or phi_2m<0 or phi_1m>1 or phi_2m>1:\n",
    "            continue\n",
    "        \n",
    "        phi_3m = 1 - phi_1m - phi_2m\n",
    "        if phi_3m<0 or phi_3m>1:\n",
    "            continue\n",
    "            \n",
    "        phi_11mod = (phi_global[0] - phi_1m*(eta_mod))/(phases.volumes[0])\n",
    "        phi_21mod = (phi_global[1] - phi_2m*(eta_mod))/(phases.volumes[0])\n",
    "       \n",
    "        if phi_11mod<0 or phi_11mod>1 or phi_21mod<0 or phi_21mod>1:\n",
    "            continue\n",
    "        \n",
    "        phi_31mod = 1 - phi_11mod - phi_21mod\n",
    "        if phi_31mod<0 or phi_31mod>1:\n",
    "            continue\n",
    "\n",
    "        ctr += 1\n",
    "\n",
    "        phi_in_kmod = [phi_1m, phi_2m, phi_3m]\n",
    "        phi_in_k1 = [phi_11mod, phi_21mod, phi_31mod]\n",
    "        \n",
    "        F = 0\n",
    "        F = eta_mod*floryHuggins(phi_in_kmod, chis) + phases.volumes[0]*floryHuggins(phi_in_k1, chis)\n",
    "\n",
    "        accepted_phi_1mod_perturbed.append(phi_1m)\n",
    "        accepted_phi_2mod_perturbed.append(phi_2m)\n",
    "        accepted_Fs_mod.append(F)"
   ]
  },
  {
   "cell_type": "code",
   "execution_count": 11,
   "id": "3bccf04f-dc03-45d1-8473-c6b99e964063",
   "metadata": {},
   "outputs": [
    {
     "data": {
      "text/plain": [
       "0.05661711872699333"
      ]
     },
     "execution_count": 11,
     "metadata": {},
     "output_type": "execute_result"
    }
   ],
   "source": [
    "ctr/len(phi_1mod_perturbed)**2"
   ]
  },
  {
   "cell_type": "code",
   "execution_count": 12,
   "id": "ead0c44a-b15a-40bb-bd55-897b94ebf9c9",
   "metadata": {},
   "outputs": [
    {
     "data": {
      "text/html": [
       "<div>\n",
       "<style scoped>\n",
       "    .dataframe tbody tr th:only-of-type {\n",
       "        vertical-align: middle;\n",
       "    }\n",
       "\n",
       "    .dataframe tbody tr th {\n",
       "        vertical-align: top;\n",
       "    }\n",
       "\n",
       "    .dataframe thead th {\n",
       "        text-align: right;\n",
       "    }\n",
       "</style>\n",
       "<table border=\"1\" class=\"dataframe\">\n",
       "  <thead>\n",
       "    <tr style=\"text-align: right;\">\n",
       "      <th></th>\n",
       "      <th>phi_1mod</th>\n",
       "      <th>phi_2mod</th>\n",
       "      <th>F</th>\n",
       "    </tr>\n",
       "  </thead>\n",
       "  <tbody>\n",
       "    <tr>\n",
       "      <th>0</th>\n",
       "      <td>0.000539</td>\n",
       "      <td>0.47673</td>\n",
       "      <td>0.004651</td>\n",
       "    </tr>\n",
       "    <tr>\n",
       "      <th>1</th>\n",
       "      <td>0.000539</td>\n",
       "      <td>0.47773</td>\n",
       "      <td>0.002402</td>\n",
       "    </tr>\n",
       "    <tr>\n",
       "      <th>2</th>\n",
       "      <td>0.000539</td>\n",
       "      <td>0.47873</td>\n",
       "      <td>0.000669</td>\n",
       "    </tr>\n",
       "    <tr>\n",
       "      <th>3</th>\n",
       "      <td>0.000539</td>\n",
       "      <td>0.47973</td>\n",
       "      <td>-0.000796</td>\n",
       "    </tr>\n",
       "    <tr>\n",
       "      <th>4</th>\n",
       "      <td>0.000539</td>\n",
       "      <td>0.48073</td>\n",
       "      <td>-0.002077</td>\n",
       "    </tr>\n",
       "    <tr>\n",
       "      <th>...</th>\n",
       "      <td>...</td>\n",
       "      <td>...</td>\n",
       "      <td>...</td>\n",
       "    </tr>\n",
       "    <tr>\n",
       "      <th>226690</th>\n",
       "      <td>0.696539</td>\n",
       "      <td>0.29873</td>\n",
       "      <td>0.006033</td>\n",
       "    </tr>\n",
       "    <tr>\n",
       "      <th>226691</th>\n",
       "      <td>0.696539</td>\n",
       "      <td>0.29973</td>\n",
       "      <td>0.007769</td>\n",
       "    </tr>\n",
       "    <tr>\n",
       "      <th>226692</th>\n",
       "      <td>0.696539</td>\n",
       "      <td>0.30073</td>\n",
       "      <td>0.009659</td>\n",
       "    </tr>\n",
       "    <tr>\n",
       "      <th>226693</th>\n",
       "      <td>0.696539</td>\n",
       "      <td>0.30173</td>\n",
       "      <td>0.011760</td>\n",
       "    </tr>\n",
       "    <tr>\n",
       "      <th>226694</th>\n",
       "      <td>0.696539</td>\n",
       "      <td>0.30273</td>\n",
       "      <td>0.014212</td>\n",
       "    </tr>\n",
       "  </tbody>\n",
       "</table>\n",
       "<p>226695 rows × 3 columns</p>\n",
       "</div>"
      ],
      "text/plain": [
       "        phi_1mod  phi_2mod         F\n",
       "0       0.000539   0.47673  0.004651\n",
       "1       0.000539   0.47773  0.002402\n",
       "2       0.000539   0.47873  0.000669\n",
       "3       0.000539   0.47973 -0.000796\n",
       "4       0.000539   0.48073 -0.002077\n",
       "...          ...       ...       ...\n",
       "226690  0.696539   0.29873  0.006033\n",
       "226691  0.696539   0.29973  0.007769\n",
       "226692  0.696539   0.30073  0.009659\n",
       "226693  0.696539   0.30173  0.011760\n",
       "226694  0.696539   0.30273  0.014212\n",
       "\n",
       "[226695 rows x 3 columns]"
      ]
     },
     "execution_count": 12,
     "metadata": {},
     "output_type": "execute_result"
    }
   ],
   "source": [
    "df = pd.DataFrame()\n",
    "df[\"phi_1mod\"] = accepted_phi_1mod_perturbed\n",
    "df[\"phi_2mod\"] = accepted_phi_2mod_perturbed\n",
    "df[\"F\"] = accepted_Fs_mod\n",
    "\n",
    "df"
   ]
  },
  {
   "cell_type": "code",
   "execution_count": null,
   "id": "bae859ff-b667-43c7-a94e-8bc292ea1d49",
   "metadata": {},
   "outputs": [],
   "source": [
    "min_F_row = df[df['F'] == df['F'].min()]\n",
    "min_F_row"
   ]
  },
  {
   "cell_type": "code",
   "execution_count": null,
   "id": "2fea3058-33a0-47e9-9277-f7becdbab7d9",
   "metadata": {},
   "outputs": [],
   "source": [
    "min_F_row[\"phi_1mod\"].values[0], min_F_row[\"phi_2mod\"].values[0]"
   ]
  },
  {
   "cell_type": "code",
   "execution_count": null,
   "id": "dc81fe3e-a30e-46eb-aa0c-db610fec8079",
   "metadata": {},
   "outputs": [],
   "source": [
    "phi_1mod, phi_2mod"
   ]
  },
  {
   "cell_type": "code",
   "execution_count": null,
   "id": "39b50c69-aeba-44bf-9515-aa47a3431db4",
   "metadata": {},
   "outputs": [],
   "source": [
    "fig = go.Figure()\n",
    "\n",
    "fig.add_trace(go.Scatter3d(\n",
    "    x=pd.Series(df[\"phi_1mod\"].values.ravel()),\n",
    "    y=pd.Series(df[\"phi_2mod\"].values.ravel()),\n",
    "    z=pd.Series(df[\"F\"].values.ravel()),\n",
    "    mode='markers',\n",
    "    marker=dict(\n",
    "        size=2,\n",
    "        color=pd.Series(df[\"F\"].values.ravel()),  # Color by F values\n",
    "        colorscale='Viridis',\n",
    "        opacity = 0.1,\n",
    "        colorbar=dict(\n",
    "            title='F',  # Colorbar title\n",
    "            titleside='right',\n",
    "            titlefont=dict(size=14),\n",
    "            thickness=20,\n",
    "            len=0.75,\n",
    "            x=1.1  # Position adjustment\n",
    "        ),\n",
    "        cmin=df[\"F\"].min(),  # Set color scale range\n",
    "        cmax=df[\"F\"].max()\n",
    "    ),\n",
    "    showlegend=False  # Add this to each trace\n",
    "\n",
    "))\n",
    "\n",
    "fig.add_trace(go.Scatter3d(\n",
    "    x=pd.Series(phi_1mod.ravel()),\n",
    "    y=pd.Series(phi_2mod.ravel()),\n",
    "    z=pd.Series(F_mod.ravel()),\n",
    "    mode='markers',\n",
    "    marker=dict(\n",
    "        size=5,\n",
    "        color='orange',\n",
    "        symbol='circle'\n",
    "    ),\n",
    "    showlegend=False  # Add this to each trace\n",
    "))\n",
    "\n",
    "fig.update_layout(\n",
    "    title={\n",
    "    'text': \"C2+C3\",  # Title text\n",
    "    'y':0.95,  # Position from top (0-1)\n",
    "    'x':0.35,   # Center the title\n",
    "    'xanchor': 'center',\n",
    "    'yanchor': 'top',\n",
    "    'font': dict(\n",
    "        size=20,  # Title font size\n",
    "        color='black'  # Title color\n",
    "    )\n",
    "    },\n",
    "\n",
    "    width=1200,  # Width in pixels\n",
    "    height=800,   # Height in pixels\n",
    "    autosize=False,  # Disable autosizing\n",
    "    scene=dict(\n",
    "        xaxis_title='phi_1mod',\n",
    "        yaxis_title='phi_2mod',\n",
    "        zaxis_title='F_sys',\n",
    "        aspectmode='manual',  # Preserve aspect ratio\n",
    "        aspectratio=dict(x=1, y=1, z=0.7)  # Adjust these values as needed\n",
    "    ),\n",
    "    margin=dict(l=0, r=500, b=0, t=30)  # Increased right margin for colorbar\n",
    ")\n",
    "\n",
    "fig.show()"
   ]
  },
  {
   "cell_type": "code",
   "execution_count": null,
   "id": "c764e7fe-478d-4055-b3aa-20bdfb2d7986",
   "metadata": {},
   "outputs": [],
   "source": []
  }
 ],
 "metadata": {
  "kernelspec": {
   "display_name": "Python 3 (ipykernel)",
   "language": "python",
   "name": "python3"
  },
  "language_info": {
   "codemirror_mode": {
    "name": "ipython",
    "version": 3
   },
   "file_extension": ".py",
   "mimetype": "text/x-python",
   "name": "python",
   "nbconvert_exporter": "python",
   "pygments_lexer": "ipython3",
   "version": "3.12.2"
  }
 },
 "nbformat": 4,
 "nbformat_minor": 5
}
