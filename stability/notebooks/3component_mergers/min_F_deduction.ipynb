{
 "cells": [
  {
   "cell_type": "code",
   "execution_count": 1,
   "id": "e2077ed9-c55b-4e0b-b243-77438018f5e6",
   "metadata": {},
   "outputs": [],
   "source": [
    "import numpy as np\n",
    "DTYPE = np.float64\n",
    "import pandas as pd\n",
    "import matplotlib.pyplot as plt\n",
    "from scipy.interpolate import griddata\n",
    "import os\n",
    "import pickle\n",
    "import gzip\n",
    "from tqdm import tqdm\n",
    "try:\n",
    "    import flory\n",
    "    \n",
    "except ImportError:\n",
    "    print(\"Installing 'flory' temporarily...\")\n",
    "    !pip install flory --quiet\n",
    "    import flory"
   ]
  },
  {
   "cell_type": "code",
   "execution_count": 98,
   "id": "d7c53d0e-bb90-4ce8-aa02-9fc3aa766c8e",
   "metadata": {},
   "outputs": [],
   "source": [
    "phi_global = np.array([0.2, 0.3, 0.5], dtype = DTYPE)"
   ]
  },
  {
   "cell_type": "code",
   "execution_count": 99,
   "id": "95488e1f-4ad3-445f-98fd-2cc20aefe06a",
   "metadata": {},
   "outputs": [
    {
     "name": "stderr",
     "output_type": "stream",
     "text": [
      "100%|████████████████████████████████████████████████████████| 101/101 [00:00<00:00, 6019.19it/s]\n"
     ]
    }
   ],
   "source": [
    "Xs = [] # Chi matrix perturbation\n",
    "Fs = [] # Stores minimum free energy for the best merger\n",
    "\n",
    "F_Gmins = [] # Stores FLory's F_min output for each chi matrix\n",
    "\n",
    "# for X in tqdm(np.linspace(0, 10, 100)): # for 334\n",
    "for X in tqdm(np.arange(0, 10.1, 0.1)): # for 235\n",
    "    input_filepath = f\"data/phi_g{phi_global}/X{X:.3f}/\"\n",
    "    input_filename = f\"system_definition_and_flory_output.pkl\"\n",
    "    if not os.path.exists(input_filepath):\n",
    "        os.makedirs(input_filepath)\n",
    "    input_file = os.path.join(input_filepath, input_filename)\n",
    "    \n",
    "    with gzip.open(input_file, 'rb') as f:\n",
    "        loaded_data = pickle.load(f)\n",
    "\n",
    "    F_Gmins.append(loaded_data[\"flory_free_energy\"])\n",
    "\n",
    "    \n",
    "    input_filepath = f\"data/phi_g{phi_global}/X{X:.3f}/\"\n",
    "    input_filename = f\"merged_best.pkl\"\n",
    "    if not os.path.exists(input_filepath):\n",
    "        os.makedirs(input_filepath)\n",
    "    input_file = os.path.join(input_filepath, input_filename)\n",
    "\n",
    "    with gzip.open(input_file, 'rb') as f:\n",
    "        loaded_data = pickle.load(f)\n",
    "    \n",
    "    Xs.append(X)\n",
    "    Fs.append(loaded_data[\"merger_free_energy_min\"])"
   ]
  },
  {
   "cell_type": "code",
   "execution_count": 100,
   "id": "ba4411d3-eb33-43d6-b18d-c0c3ee895389",
   "metadata": {},
   "outputs": [],
   "source": [
    "fig, ax = plt.subplots(figsize = (8, 6))\n",
    "ax.plot(Xs, Fs, marker = \".\", label = r\"$F_{\\text{min}}^{\\text{best merger}}$\")\n",
    "ax.plot(Xs, F_Gmins, marker = \".\", label = r\"$F_{\\text{min}}^{\\text{3 phase}}$\")\n",
    "ax.set_xlabel(\"X\")\n",
    "ax.set_ylabel(r\"$F \\;(\\text{in }k_BT)$\")\n",
    "title = r\"$\\Phi^{\\text{global}} = $\" + f\"{phi_global}\" \n",
    "plt.legend(loc = \"best\")\n",
    "plt.title(title)\n",
    "\n",
    "fig.tight_layout()\n",
    "\n",
    "\n",
    "output_filepath = f\"data/phi_g{phi_global}/\"\n",
    "output_filename = f\"F_comparison.png\"\n",
    "if not os.path.exists(output_filepath):\n",
    "    os.makedirs(output_filepath)\n",
    "output_file = os.path.join(output_filepath, output_filename)\n",
    "\n",
    "plt.savefig(output_file, dpi =400)\n",
    "plt.close()"
   ]
  },
  {
   "cell_type": "code",
   "execution_count": 101,
   "id": "84f4339d-0d8f-4e0a-bde7-06191172905b",
   "metadata": {},
   "outputs": [
    {
     "name": "stderr",
     "output_type": "stream",
     "text": [
      "/tmp/ipykernel_670924/1843065387.py:12: UserWarning: No artists with labels found to put in legend.  Note that artists whose label start with an underscore are ignored when legend() is called with no argument.\n",
      "  plt.legend(loc = \"best\")\n"
     ]
    }
   ],
   "source": [
    "F_diff = []\n",
    "\n",
    "for _ in list(zip(F_Gmins, Fs)):\n",
    "    F_diff.append(_[1] - _[0])\n",
    "    \n",
    "fig, ax = plt.subplots(figsize = (8, 6))\n",
    "ylabel = r\"$F_{\\text{min}}^{\\text{best merger}} - F_{\\text{min}}^{\\text{3 phase}}$\"\n",
    "ax.plot(Xs, F_diff, marker = \".\")\n",
    "ax.set_xlabel(\"X\")\n",
    "ax.set_ylabel(ylabel)\n",
    "title = r\"$\\Phi^{\\text{global}} = $\" + f\"{phi_global}\" \n",
    "plt.legend(loc = \"best\")\n",
    "plt.title(title)\n",
    "\n",
    "fig.tight_layout()\n",
    "\n",
    "output_filepath = f\"data/phi_g{phi_global}/\"\n",
    "output_filename = f\"F_diff_comparison.png\"\n",
    "if not os.path.exists(output_filepath):\n",
    "    os.makedirs(output_filepath)\n",
    "output_file = os.path.join(output_filepath, output_filename)\n",
    "\n",
    "plt.savefig(output_file, dpi =400)\n",
    "plt.close()"
   ]
  },
  {
   "cell_type": "code",
   "execution_count": null,
   "id": "724cfc88-a577-4922-bf8e-12eeff2e112b",
   "metadata": {},
   "outputs": [],
   "source": []
  }
 ],
 "metadata": {
  "kernelspec": {
   "display_name": "Python 3 (ipykernel)",
   "language": "python",
   "name": "python3"
  },
  "language_info": {
   "codemirror_mode": {
    "name": "ipython",
    "version": 3
   },
   "file_extension": ".py",
   "mimetype": "text/x-python",
   "name": "python",
   "nbconvert_exporter": "python",
   "pygments_lexer": "ipython3",
   "version": "3.12.2"
  }
 },
 "nbformat": 4,
 "nbformat_minor": 5
}
