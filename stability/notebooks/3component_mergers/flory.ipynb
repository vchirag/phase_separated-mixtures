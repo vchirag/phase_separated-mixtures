{
 "cells": [
  {
   "cell_type": "code",
   "execution_count": 1,
   "id": "e8048160-18f9-4d65-b946-1196578e9126",
   "metadata": {},
   "outputs": [],
   "source": [
    "import numpy as np\n",
    "DTYPE = np.float64\n",
    "import pandas as pd\n",
    "import matplotlib.pyplot as plt\n",
    "from scipy.interpolate import griddata\n",
    "import os\n",
    "import pickle\n",
    "import gzip\n",
    "from tqdm import tqdm\n",
    "import sys\n",
    "sys.path.insert(0, \"../../packages\")\n",
    "import flory_"
   ]
  },
  {
   "cell_type": "code",
   "execution_count": 2,
   "id": "ad6c7a0e-91b8-440a-91bd-64b398bf8fa5",
   "metadata": {},
   "outputs": [],
   "source": [
    "# Flory Huggins Free Energy function\n",
    "def floryHuggins(phi:DTYPE, chi:np.array):\n",
    "    part_1 = np.sum(phi*np.log(phi))\n",
    "    part_2 = 0\n",
    "\n",
    "    for i in range(len(phi)):\n",
    "        for j in range(i+1, len(phi)):\n",
    "            part_2 += chi[i][j]*phi[i]*phi[j]\n",
    "\n",
    "    return part_1 + part_2"
   ]
  },
  {
   "cell_type": "code",
   "execution_count": 3,
   "id": "64c9d3c8-23f8-4cb9-9d4f-346de033dfed",
   "metadata": {},
   "outputs": [],
   "source": [
    "# General Function for computing mergers of compartments\n",
    "# Returns the concentrations of components in the merged and the unmerged compartments\n",
    "# Stores them in phi_in_kmerged and phi_in_kunmerged respectively.\n",
    "\n",
    "\n",
    "def mergers(concs:np.array, vols:np.array, chis, merged_compartments:list):\n",
    "    # Find the unmerged compartment(s)\n",
    "    expected = len(vols)*(len(vols)+1)//2\n",
    "    actual = np.sum(merged_compartments)\n",
    "    unmerged_compartment = expected - actual\n",
    "\n",
    "    # print(concs)\n",
    "    # print(vols)\n",
    "    # print(unmerged)\n",
    "\n",
    "    # Compute the merged volumes, stored in variable eta_merged\n",
    "    # subtract -1 from the merged_compartments idxs to maintain python idxing\n",
    "    eta_merged = 0\n",
    "    for compartment in merged_compartments:\n",
    "        eta_merged += vols[compartment-1]\n",
    "    # print(eta_merged)\n",
    "\n",
    "    # Calculating the compositions of components in the merged compartment\n",
    "    # Taking a simple weighted average\n",
    "    phi_1merged = (vols[merged_compartments[0]-1]*concs[0, merged_compartments[0]-1] + vols[merged_compartments[1]-1]*concs[0, merged_compartments[1]-1])/eta_merged\n",
    "    phi_2merged = (vols[merged_compartments[0]-1]*concs[1, merged_compartments[0]-1] + vols[merged_compartments[1]-1]*concs[1, merged_compartments[1]-1])/eta_merged\n",
    "    phi_3merged = 1 - phi_1merged - phi_2merged\n",
    "    # print(phi_1merged, phi_2merged, phi_3merged)\n",
    "    # print(phi_1merged + phi_2merged + phi_3merged)\n",
    "\n",
    "    phi_in_kmerged = [phi_1merged, phi_2merged, phi_3merged]\n",
    "    phi_in_kunmerged = [concs[0, unmerged_compartment-1], concs[1, unmerged_compartment-1], concs[2, unmerged_compartment-1]]\n",
    "    # print(phi_in_kmerged)\n",
    "    # print(phi_in_kunmerged)\n",
    "\n",
    "    F_merged = eta_merged*floryHuggins(phi_in_kmerged, chis) + vols[unmerged_compartment-1]*floryHuggins(phi_in_kunmerged, chis)\n",
    "    # print(F_merged)\n",
    "\n",
    "    return phi_in_kunmerged, phi_in_kmerged, eta_merged, unmerged_compartment\n",
    "\n",
    "    "
   ]
  },
  {
   "cell_type": "code",
   "execution_count": 4,
   "id": "96c0aeec-88a6-4534-9e8a-efd93ffcb32b",
   "metadata": {},
   "outputs": [],
   "source": [
    "# Global concentrations\n",
    "phi_global = np.array([0.2, 0.3, 0.5], dtype = DTYPE)\n",
    "\n",
    "# Xs = np.arange(0, 10.1, 0.1)\n",
    "# Xs = [1]\n",
    "# tol = DTYPE(1e-4)"
   ]
  },
  {
   "cell_type": "code",
   "execution_count": 5,
   "id": "46161067-8c70-4ba3-8b1f-a115a9b9794d",
   "metadata": {},
   "outputs": [],
   "source": [
    "chis = np.array([[0, 3.0, 3+1], [3.0, 0.0, 3.0], [3+1, 3.0, 0.0]], dtype = DTYPE)"
   ]
  },
  {
   "cell_type": "code",
   "execution_count": 7,
   "id": "f54066a5-0ff5-4316-ba6f-1710dc0f3503",
   "metadata": {},
   "outputs": [],
   "source": [
    "n_components = 3\n",
    "free_energy = flory_.free_energy.FloryHuggins(n_components, chis)\n",
    "interaction = free_energy.interaction\n",
    "entropy = free_energy.entropy\n",
    "ensemble = flory_.CanonicalEnsemble(n_components, phi_global)\n",
    "options = {\n",
    "    \"num_part\": 16,\n",
    "    \"progress\": False,\n",
    "    \"max_steps\": 10000,  # disable progress bar, allow more steps\n",
    "}\n",
    "\n",
    "finder = flory_.CoexistingPhasesFinder(interaction, entropy, ensemble, **options)\n"
   ]
  },
  {
   "cell_type": "code",
   "execution_count": 8,
   "id": "504ae75d-8b9c-4a8a-9762-3be659a3db58",
   "metadata": {},
   "outputs": [
    {
     "data": {
      "text/plain": [
       "(array([1.09276617, 1.43691589, 0.73111663, 0.61672514, 0.65925649,\n",
       "        1.42183599, 0.91986161, 1.44220516, 0.74660872, 0.61944738,\n",
       "        1.01436488, 1.39305461, 0.78934505, 1.18119735, 1.37044838,\n",
       "        0.56485055]),\n",
       " array([[0.02758965, 0.07403521, 0.8983752 ],\n",
       "        [0.89837398, 0.07403602, 0.02759011],\n",
       "        [0.02758965, 0.07403521, 0.8983752 ],\n",
       "        [0.08654541, 0.82690828, 0.08654615],\n",
       "        [0.89837398, 0.07403602, 0.02759011],\n",
       "        [0.02758965, 0.07403521, 0.8983752 ],\n",
       "        [0.02758965, 0.07403521, 0.8983752 ],\n",
       "        [0.02758965, 0.07403521, 0.8983752 ],\n",
       "        [0.89837398, 0.07403602, 0.02759011],\n",
       "        [0.08654541, 0.82690828, 0.08654615],\n",
       "        [0.08654541, 0.82690828, 0.08654615],\n",
       "        [0.02758965, 0.07403521, 0.8983752 ],\n",
       "        [0.02758965, 0.07403521, 0.8983752 ],\n",
       "        [0.08654541, 0.82690828, 0.08654615],\n",
       "        [0.08654541, 0.82690828, 0.08654615],\n",
       "        [0.02758965, 0.07403521, 0.8983752 ]]))"
      ]
     },
     "execution_count": 8,
     "metadata": {},
     "output_type": "execute_result"
    }
   ],
   "source": [
    "phases = finder.run(progress=False)\n",
    "vols = phases.volumes\n",
    "concs = phases.fractions\n",
    "vols, concs\n"
   ]
  },
  {
   "cell_type": "code",
   "execution_count": 13,
   "id": "126c3287-1d78-485f-b4a3-d132d196daaf",
   "metadata": {},
   "outputs": [],
   "source": [
    "vols = phases.get_clusters().volumes\n",
    "concs = phases.get_clusters().fractions"
   ]
  },
  {
   "cell_type": "code",
   "execution_count": 14,
   "id": "11941402-4c66-43ed-b119-238ba2d0abff",
   "metadata": {},
   "outputs": [],
   "source": [
    "merged_compartments_list = [np.array([1, 2], dtype=np.int64)]\n",
    "for merged_compartments in merged_compartments_list:\n",
    "    phi_in_kunmerged, phi_in_kmerged, eta_merged, unmerged_compartment = mergers(concs, vols, chis, merged_compartments)"
   ]
  },
  {
   "cell_type": "code",
   "execution_count": 15,
   "id": "b0d024e2-1c84-415b-9a84-91a9ff00f506",
   "metadata": {},
   "outputs": [],
   "source": [
    "phi_global = np.array([phi_in_kunmerged, phi_in_kmerged])\n",
    "vols = np.array([1-eta_merged, eta_merged])"
   ]
  },
  {
   "cell_type": "code",
   "execution_count": 16,
   "id": "c8528bff-fad7-4717-9604-d11f2800346a",
   "metadata": {},
   "outputs": [
    {
     "data": {
      "text/plain": [
       "array([[0.8983752 , 0.08654615, 0.02759011],\n",
       "       [0.04454157, 0.3567665 , 0.59869193]])"
      ]
     },
     "execution_count": 16,
     "metadata": {},
     "output_type": "execute_result"
    }
   ],
   "source": [
    "phi_global"
   ]
  },
  {
   "cell_type": "code",
   "execution_count": 17,
   "id": "1515f31f-795c-4199-9459-d8731ec3d801",
   "metadata": {},
   "outputs": [],
   "source": [
    "options = {\n",
    "    \"num_part\": 2,\n",
    "    \"progress\": False,\n",
    "    \"max_steps\": 1000000000,  # disable progress bar, allow more steps\n",
    "}\n",
    "finder2 = flory_.CoexistingPhasesFinder(interaction, entropy, ensemble, **options)\n",
    "finder2.reinitialize_from_phis(np.transpose(phi_global), vols)\n"
   ]
  },
  {
   "cell_type": "code",
   "execution_count": 18,
   "id": "c49d68d5-956d-4abb-9427-f3616be0591c",
   "metadata": {},
   "outputs": [
    {
     "data": {
      "text/plain": [
       "(array([0.32749014, 1.67250986]),\n",
       " array([[0.85573245, 0.11139882, 0.03286853],\n",
       "        [0.07160261, 0.33692954, 0.59146789]]))"
      ]
     },
     "execution_count": 18,
     "metadata": {},
     "output_type": "execute_result"
    }
   ],
   "source": [
    "phases = finder2.run(progress=False)\n",
    "vols = phases.volumes\n",
    "concs = phases.fractions\n",
    "vols, concs\n"
   ]
  },
  {
   "cell_type": "code",
   "execution_count": null,
   "id": "0778fb5c-9d0c-4541-8230-4b8e9c66f668",
   "metadata": {},
   "outputs": [],
   "source": []
  }
 ],
 "metadata": {
  "kernelspec": {
   "display_name": "Python 3 (ipykernel)",
   "language": "python",
   "name": "python3"
  },
  "language_info": {
   "codemirror_mode": {
    "name": "ipython",
    "version": 3
   },
   "file_extension": ".py",
   "mimetype": "text/x-python",
   "name": "python",
   "nbconvert_exporter": "python",
   "pygments_lexer": "ipython3",
   "version": "3.12.2"
  }
 },
 "nbformat": 4,
 "nbformat_minor": 5
}
